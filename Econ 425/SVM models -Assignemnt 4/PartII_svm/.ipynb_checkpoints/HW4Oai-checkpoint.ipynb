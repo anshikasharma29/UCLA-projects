{
 "cells": [
  {
   "cell_type": "markdown",
   "metadata": {},
   "source": [
    "# Econ 425: HW4\n",
    "\n",
    "Oai Tran"
   ]
  },
  {
   "cell_type": "markdown",
   "metadata": {},
   "source": [
    "## Part 1: Housing Price"
   ]
  },
  {
   "cell_type": "code",
   "execution_count": 145,
   "metadata": {},
   "outputs": [],
   "source": [
    "import numpy as np\n",
    "import pandas as pd\n",
    "import download_data as dl\n",
    "import matplotlib.pyplot as plt\n",
    "import sklearn.svm as svm\n",
    "from sklearn import metrics\n",
    "from conf_matrix import func_confusion_matrix\n",
    "\n",
    "from sklearn.datasets import fetch_california_housing"
   ]
  },
  {
   "cell_type": "code",
   "execution_count": 146,
   "metadata": {},
   "outputs": [
    {
     "name": "stdout",
     "output_type": "stream",
     "text": [
      "(20640, 8)\n",
      "(20640,)\n",
      "['MedInc', 'HouseAge', 'AveRooms', 'AveBedrms', 'Population', 'AveOccup', 'Latitude', 'Longitude']\n",
      ".. _california_housing_dataset:\n",
      "\n",
      "California Housing dataset\n",
      "--------------------------\n",
      "\n",
      "**Data Set Characteristics:**\n",
      "\n",
      "    :Number of Instances: 20640\n",
      "\n",
      "    :Number of Attributes: 8 numeric, predictive attributes and the target\n",
      "\n",
      "    :Attribute Information:\n",
      "        - MedInc        median income in block\n",
      "        - HouseAge      median house age in block\n",
      "        - AveRooms      average number of rooms\n",
      "        - AveBedrms     average number of bedrooms\n",
      "        - Population    block population\n",
      "        - AveOccup      average house occupancy\n",
      "        - Latitude      house block latitude\n",
      "        - Longitude     house block longitude\n",
      "\n",
      "    :Missing Attribute Values: None\n",
      "\n",
      "This dataset was obtained from the StatLib repository.\n",
      "http://lib.stat.cmu.edu/datasets/\n",
      "\n",
      "The target variable is the median house value for California districts.\n",
      "\n",
      "This dataset was derived from the 1990 U.S. census, using one row per census\n",
      "block group. A block group is the smallest geographical unit for which the U.S.\n",
      "Census Bureau publishes sample data (a block group typically has a population\n",
      "of 600 to 3,000 people).\n",
      "\n",
      "It can be downloaded/loaded using the\n",
      ":func:`sklearn.datasets.fetch_california_housing` function.\n",
      "\n",
      ".. topic:: References\n",
      "\n",
      "    - Pace, R. Kelley and Ronald Barry, Sparse Spatial Autoregressions,\n",
      "      Statistics and Probability Letters, 33 (1997) 291-297\n",
      "\n"
     ]
    }
   ],
   "source": [
    "ca_house_db = fetch_california_housing()\n",
    "print(ca_house_db.data.shape) #(row = 20640, columns8)\n",
    "print(ca_house_db.target.shape) #(20640,)\n",
    "\n",
    "# 'MedInc', 'HouseAge', 'AveRooms', 'AveBedrms', \n",
    "#'Population', 'AveOccup', 'Latitude', 'Longitude'\n",
    "print(ca_house_db.feature_names) \n",
    "\n",
    "print(ca_house_db.DESCR) "
   ]
  },
  {
   "cell_type": "code",
   "execution_count": null,
   "metadata": {},
   "outputs": [],
   "source": []
  },
  {
   "cell_type": "markdown",
   "metadata": {},
   "source": [
    "## Part 2: Crab\n"
   ]
  },
  {
   "cell_type": "markdown",
   "metadata": {},
   "source": [
    "#### Data summary:\n",
    "\n",
    "The data we are using called Crab, it is where we will try to determine the gender of the crab using:\n",
    "\n",
    "1 = male \n",
    "\n",
    "-1 = female\n",
    "\n"
   ]
  },
  {
   "cell_type": "markdown",
   "metadata": {},
   "source": [
    "##### step 1: \n",
    "Load data from ‘crab.csv’ to get feature matrix X and label vector Y. X is of 6 by 200\n",
    "dimension, where each column represents a crab sample. The matrix Y is of 1 by 200 dimension,\n",
    "including the related gender labels (1 or -1). The starter codes will randomly split these 200\n",
    "samples into two even subsets: use one for training & validation and another for testing. You\n",
    "don’t need to change the codes in this step."
   ]
  },
  {
   "cell_type": "code",
   "execution_count": 156,
   "metadata": {},
   "outputs": [
    {
     "data": {
      "text/plain": [
       "array([[ 0. , 20.6, 14.4, ..., 46.5, 19.6, -1. ],\n",
       "       [ 1. , 13.3, 11.1, ..., 32.3, 11.3, -1. ],\n",
       "       [ 0. , 16.7, 14.3, ..., 37. , 14.7,  1. ],\n",
       "       ...,\n",
       "       [ 1. ,  8.8,  7.7, ..., 20.8,  7.4, -1. ],\n",
       "       [ 1. , 16.2, 15.2, ..., 40.1, 13.9,  1. ],\n",
       "       [ 0. , 15.6, 14. , ..., 35.3, 13.8,  1. ]])"
      ]
     },
     "execution_count": 156,
     "metadata": {},
     "output_type": "execute_result"
    }
   ],
   "source": [
    "## step 1: load data from csv file. \n",
    "data = dl.download_data('crab.csv').values\n",
    "data\n",
    "\n"
   ]
  },
  {
   "cell_type": "code",
   "execution_count": 157,
   "metadata": {},
   "outputs": [],
   "source": [
    "\n",
    "# sample size 200\n",
    "n = 200"
   ]
  },
  {
   "cell_type": "code",
   "execution_count": 190,
   "metadata": {},
   "outputs": [],
   "source": [
    "#split data \n",
    "np.random.seed(1)\n",
    "S = np.random.permutation(n)\n",
    "#100 training samples\n",
    "Xtr = data[S[:100], :6]\n",
    "Ytr = data[S[:100], 6:]\n",
    "# 100 testing samples\n",
    "X_test = data[S[100:], :6]\n",
    "Y_test = data[S[100:], 6:].ravel()"
   ]
  },
  {
   "cell_type": "markdown",
   "metadata": {},
   "source": [
    "We are going to use 50/50 split with first half will go into train set and the second half will be in test set. \n",
    "\n",
    "For second split, this time we will split train set into two. One as actual train and the second as validation set. \n"
   ]
  },
  {
   "cell_type": "markdown",
   "metadata": {},
   "source": [
    "##### step 2: \n",
    "Randomly divide the training set into two EVEN subsets: use one for training your\n",
    "model, and another for validation. You will need to implement your codes to do such random\n",
    "splitting. This step includes the “placeholder 1: training/validation”."
   ]
  },
  {
   "cell_type": "code",
   "execution_count": 191,
   "metadata": {},
   "outputs": [],
   "source": [
    "## step 2 randomly split Xtr/Ytr into two even subsets: use one for training, \n",
    "#another for validation.\n",
    "#############placeholder 1: training/validation #######################\n",
    "n2 = len(Xtr) #use the training samples to split, trainning sample has 100 so let do 50/50.\n",
    "\n",
    "#use the code from step 1. random.premutation. \n",
    "S2 = np.random.permutation(n2)\n",
    "# subsets for training models\n",
    "x_train= data[S2[:50], :6]\n",
    "y_train= data[S2[:50], 6:].ravel()\n",
    "# subsets for validation\n",
    "# use the last 50-100 as valiadation\n",
    "x_validation= data[S2[50:100], :6]\n",
    "y_validation= data[S2[50:100], 6:].ravel()\n",
    "#############placeholder end #######################\n"
   ]
  },
  {
   "cell_type": "markdown",
   "metadata": {},
   "source": [
    "##### Step-3: \n",
    "Select the optimal model parameters using validation samples. You will need to\n",
    "consider the parameter C (the weighting parameters), kernel types (linear or others) and kernel parameters (if applicable). Please try as many parameters as you can to get the best result. In particular, you will need to generate two figures (in placeholders 2 and 3)"
   ]
  },
  {
   "cell_type": "markdown",
   "metadata": {},
   "source": [
    "###### I need to figure out how to make my graph for this one like the example. it looks like a combine of rbf and linear. \n",
    "This is because there are increase, flat and decrease."
   ]
  },
  {
   "cell_type": "code",
   "execution_count": 192,
   "metadata": {},
   "outputs": [
    {
     "data": {
      "image/png": "[encoded data removed]",
      "text/plain": [
       "<Figure size 432x288 with 1 Axes>"
      ]
     },
     "metadata": {
      "needs_background": "light"
     },
     "output_type": "display_data"
    },
    {
     "name": "stdout",
     "output_type": "stream",
     "text": [
      "-----------------------------------------------\n",
      "Best C value is 1 with error: 0.06000000000000005\n"
     ]
    }
   ],
   "source": [
    "## step 3 Model selection over validation set\n",
    "# consider the parameters C, kernel types (linear, RBF etc.) and kernel\n",
    "# parameters if applicable. \n",
    "\n",
    "\n",
    "# 3.1 Plot the validation errors while using different values of C ( with other hyperparameters fixed) \n",
    "#  keeping kernel = \"linear\"\n",
    "#############placeholder 2: Figure 1#######################\n",
    "c_range = []\n",
    "best_c = 0 #start_c is the same as best_c\n",
    "lowest_error = 1\n",
    "# Populating of c values from 1 - 100. I will try to use all from the pop. \n",
    "for i in range(1,11):\n",
    "    c_range.append(i)\n",
    "    \n",
    "svm_c_error = []\n",
    "for c_value in c_range:\n",
    "    #use sklearn\n",
    "    model = svm.SVC(kernel='linear', C=c_value)\n",
    "    model.fit(X=x_train, y=y_train)\n",
    "    error = 1. - model.score(x_validation, y_validation)\n",
    "    svm_c_error.append(error)\n",
    "    #look for the best value for c\n",
    "    if(lowest_error > error):\n",
    "        lowest_error = error\n",
    "        best_c = c_value\n",
    "    \n",
    "# Plots\n",
    "plt.plot(c_range, svm_c_error)\n",
    "plt.title('Linear SVM')\n",
    "plt.xlabel('c values')\n",
    "plt.ylabel('error')\n",
    "#plt.xticks(c_range)\n",
    "plt.show()\n",
    "print('-----------------------------------------------')\n",
    "print('Best C value is ' + str(best_c) + ' with error: ' + str(lowest_error))\n",
    "#############placeholder end #######################"
   ]
  },
  {
   "cell_type": "code",
   "execution_count": 194,
   "metadata": {},
   "outputs": [
    {
     "data": {
      "image/png": "[encoded data removed]",
      "text/plain": [
       "<Figure size 432x288 with 1 Axes>"
      ]
     },
     "metadata": {
      "needs_background": "light"
     },
     "output_type": "display_data"
    }
   ],
   "source": [
    "# 3.2 Plot the validation errors while using linear, RBF kernel, or \n",
    "#Polynomial kernel ( with other hyperparameters fixed) \n",
    "#############placeholder 3: Figure 2#######################\n",
    "\n",
    "kernel_types = ['linear', 'poly', 'rbf']\n",
    "svm_kernel_error = []\n",
    "for kernel_value in kernel_types:\n",
    "    model = svm.SVC(kernel = kernel_value, C = 1) # from 3.1 our best c-values \n",
    "    model.fit(X=x_train, y=y_train)\n",
    "    error =  1. - model.score(x_validation, y_validation)\n",
    "    svm_kernel_error.append(error)\n",
    "\n",
    "#plots\n",
    "plt.plot(kernel_types, svm_kernel_error)\n",
    "plt.title('SVM by Kernels')\n",
    "plt.xlabel('Kernel')\n",
    "plt.ylabel('error')\n",
    "plt.xticks(kernel_types)\n",
    "plt.show()\n",
    "#############placeholder end #######################"
   ]
  },
  {
   "cell_type": "markdown",
   "metadata": {},
   "source": [
    "#### Step 4: \n",
    "Select the best hyper-parameters (C, kernel types, etc.) and apply them over the testing subset. You may write a script to do the selection, or manually pick up the hyper-parameters based on your results. To do the latter, you might run steps 1 to 3 while temporarily commenting step-4 and step-5.\n",
    "\n",
    "Observation:\n",
    "\n",
    "From our observation using SVC package, we found SVC(C=1, kernel='linear') as the best out of all the three selection. For testing we will use validation data set, this is because test data set will use to run the accuracy, Re-call and percision values. "
   ]
  },
  {
   "cell_type": "code",
   "execution_count": 195,
   "metadata": {},
   "outputs": [
    {
     "name": "stdout",
     "output_type": "stream",
     "text": [
      "Best kernel is linear with error: 0.06000000000000005\n",
      "-----------------------------------------------\n"
     ]
    },
    {
     "data": {
      "text/plain": [
       "SVC(C=1, kernel='linear')"
      ]
     },
     "execution_count": 195,
     "metadata": {},
     "output_type": "execute_result"
    }
   ],
   "source": [
    "## step 4 Select the best model and apply it over the testing subset \n",
    "#############placeholder 4:testing  #######################\n",
    "# write your own codes to select the best hyper-parameters: kernel and C.\n",
    "\n",
    "best_kernel = 'poly'\n",
    "best_c = 1  #  had many that were the \"best\"\n",
    "lowest_error = 1\n",
    "kernel_types = ['linear', 'poly', 'rbf']\n",
    "svm_kernel_error = []\n",
    "for kernel_value in kernel_types:\n",
    "    model = svm.SVC(kernel = kernel_value, C = best_c)\n",
    "    model.fit(X=x_train, y=y_train)\n",
    "    error =  1. - model.score(x_validation, y_validation)\n",
    "    svm_kernel_error.append(error)\n",
    "    if (lowest_error > error):\n",
    "        lowest_error = error\n",
    "        best_kernel = kernel_value\n",
    "\n",
    "\n",
    "print('Best kernel is ' + str(best_kernel) + ' with error: ' + str(lowest_error))\n",
    "print('-----------------------------------------------')\n",
    "        \n",
    "        \n",
    "# train a SVM model with the best hyper-parameters.\n",
    "model = svm.SVC(kernel=best_kernel, C=best_c)\n",
    "model.fit(X=x_train, y=y_train)\n",
    "\n",
    "#############placeholder end #######################"
   ]
  },
  {
   "cell_type": "markdown",
   "metadata": {},
   "source": [
    "##### Step 5:\n",
    "evaluate your results using confusion matrix and other metrics, including accuracy,\n",
    "precision and recall rates. Analyze your results through visualizing both success and failure\n",
    "examples. Include 5 success examples and 5 failure examples in your report.\n",
    "This step includes the “placeholder 5: metrics” and “placeholder 6: success and failure\n",
    "examples”."
   ]
  },
  {
   "cell_type": "code",
   "execution_count": 196,
   "metadata": {},
   "outputs": [
    {
     "name": "stdout",
     "output_type": "stream",
     "text": [
      "Confusion Matrix: \n",
      "[[52  2]\n",
      " [ 1 45]]\n",
      "-----------------------------------------------\n",
      "Average Accuracy: 0.97\n",
      "-----------------------------------------------\n",
      "Per-Class Precision: [0.98113208 0.95744681]\n",
      "-----------------------------------------------\n",
      "Per-Class Recall: [0.96296296 0.97826087]\n"
     ]
    }
   ],
   "source": [
    "## step 5 evaluate your results in terms of accuracy, real, or precision. \n",
    "\n",
    "#############placeholder 5: metrics #######################\n",
    "# func_confusion_matrix is provided in conf_matrix.py\n",
    "# You might re-use this function from previous homework assignment.\n",
    "y_pred = model.predict(X_test)\n",
    "conf_matrix, accuracy, recall_array, precision_array = func_confusion_matrix(Y_test, y_pred)\n",
    "\n",
    "print(\"Confusion Matrix: \")\n",
    "print(conf_matrix)\n",
    "print('-----------------------------------------------')\n",
    "print(\"Average Accuracy: {}\".format(accuracy))\n",
    "print('-----------------------------------------------')\n",
    "print(\"Per-Class Precision: {}\".format(precision_array))\n",
    "print('-----------------------------------------------')\n",
    "print(\"Per-Class Recall: {}\".format(recall_array))\n",
    "\n",
    "\n",
    "#############placeholder end #######################"
   ]
  },
  {
   "cell_type": "code",
   "execution_count": 200,
   "metadata": {},
   "outputs": [
    {
     "name": "stdout",
     "output_type": "stream",
     "text": [
      "Size of correct predictions: 5\n",
      "5 random correct predictions:\n",
      "True value: -1.0 -- Predicted value: -1.0 -- Index: 2\n",
      "True value: 1.0 -- Predicted value: 1.0 -- Index: 0\n",
      "True value: -1.0 -- Predicted value: -1.0 -- Index: 3\n",
      "True value: -1.0 -- Predicted value: -1.0 -- Index: 2\n",
      "True value: 1.0 -- Predicted value: 1.0 -- Index: 0\n",
      "-----------------------------------------------\n",
      "Size of incorrect predictions: 3\n",
      "Incorrect predictions:\n",
      "True value: 1.0 -- Predicted value: -1.0 -- Index: 57\n",
      "True value: -1.0 -- Predicted value: 1.0 -- Index: 73\n",
      "True value: 1.0 -- Predicted value: -1.0 -- Index: 84\n",
      "-----------------------------------------------\n"
     ]
    }
   ],
   "source": [
    "#############placeholder 6: success and failure examples #######################\n",
    "# Success samples: samples for which you model can correctly predict their labels\n",
    "# Failure samples: samples for which you model can not correctly predict their labels\n",
    "# Display 5 random correct predictions and their indices\n",
    "\n",
    "print('Size of correct predictions:', len(corrects))\n",
    "print('5 random correct predictions:')\n",
    "for i in range(5):\n",
    "    random_number = np.random.randint(low=0, high=len(corrects)-1)\n",
    "    print('True value: ' + str(Y_test[corrects[random_number]]) + ' -- Predicted value: ' + \n",
    "          str(y_pred[corrects[random_number]])\n",
    "    + ' -- Index: ' + str(corrects[random_number]))\n",
    "\n",
    "print('-----------------------------------------------')\n",
    "\n",
    "# Displaying all incorrect predictions and their indices\n",
    "incorrects = []\n",
    "corrects = []\n",
    "for i in range(len(y_pred)):\n",
    "    if (Y_test[i] != y_pred[i]):\n",
    "        incorrects.append(i)\n",
    "    else:\n",
    "        corrects.append(i)\n",
    "print('Size of incorrect predictions:', len(incorrects))\n",
    "print('Incorrect predictions:' )\n",
    "for i in range(len(incorrects)):\n",
    "    print('True value: ' + str(Y_test[incorrects[i]]) + ' -- Predicted value: ' + \n",
    "          str(y_pred[incorrects[i]])\n",
    "    + ' -- Index: ' + str(incorrects[i]))\n",
    "print('-----------------------------------------------')\n",
    "\n",
    "#############placeholder end #######################"
   ]
  },
  {
   "cell_type": "code",
   "execution_count": null,
   "metadata": {},
   "outputs": [],
   "source": []
  },
  {
   "cell_type": "code",
   "execution_count": null,
   "metadata": {},
   "outputs": [],
   "source": []
  }
 ],
 "metadata": {
  "kernelspec": {
   "display_name": "Python 3",
   "language": "python",
   "name": "python3"
  },
  "language_info": {
   "codemirror_mode": {
    "name": "ipython",
    "version": 3
   },
   "file_extension": ".py",
   "mimetype": "text/x-python",
   "name": "python",
   "nbconvert_exporter": "python",
   "pygments_lexer": "ipython3",
   "version": "3.8.3"
  }
 },
 "nbformat": 4,
 "nbformat_minor": 4
}
