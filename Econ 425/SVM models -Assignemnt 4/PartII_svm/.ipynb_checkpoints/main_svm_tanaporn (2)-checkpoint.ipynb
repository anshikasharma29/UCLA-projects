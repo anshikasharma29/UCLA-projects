{
 "cells": [
  {
   "cell_type": "code",
   "execution_count": 1,
   "metadata": {},
   "outputs": [],
   "source": [
    "import numpy as np\n",
    "import download_data as dl\n",
    "import matplotlib.pyplot as plt\n",
    "import sklearn.svm as svm\n",
    "from sklearn import metrics\n",
    "from conf_matrix import func_confusion_matrix\n",
    "from sklearn.model_selection import train_test_split\n",
    "import pandas as pd"
   ]
  },
  {
   "cell_type": "code",
   "execution_count": 2,
   "metadata": {},
   "outputs": [],
   "source": [
    "## step 1: load data from csv file. \n",
    "data = dl.download_data('crab.csv').values\n",
    "n = 200\n",
    "#split data \n",
    "np.random.seed(0)\n",
    "S = np.random.permutation(n)\n",
    "#100 training samples\n",
    "Xtr = data[S[:100], :6]\n",
    "Ytr = data[S[:100], 6:]\n",
    "# 100 testing samples\n",
    "X_test = data[S[100:], :6]\n",
    "Y_test = data[S[100:], 6:].ravel()"
   ]
  },
  {
   "cell_type": "code",
   "execution_count": 3,
   "metadata": {},
   "outputs": [],
   "source": [
    "## step 2 randomly split Xtr/Ytr into two even subsets: use one for training, another for validation.\n",
    "#############placeholder 1: training/validation #######################\n",
    "n2 = len(Xtr)\n",
    "np.random.seed(0)\n",
    "S2 = np.random.permutation(n2)       \n",
    "# subsets for training models\n",
    "x_train= Xtr[S2[:50], :6]\n",
    "y_train= Ytr[S2[:50]].flatten()\n",
    "# subsets for validation\n",
    "x_validation= Xtr[S2[50:], :6]\n",
    "y_validation= Ytr[S2[50:]].flatten()\n",
    "\n",
    "#############placeholder end #######################"
   ]
  },
  {
   "cell_type": "code",
   "execution_count": 4,
   "metadata": {},
   "outputs": [
    {
     "data": {
      "image/png": "[encoded data removed]",
      "text/plain": [
       "<Figure size 432x288 with 1 Axes>"
      ]
     },
     "metadata": {
      "needs_background": "light"
     },
     "output_type": "display_data"
    }
   ],
   "source": [
    "# 3.1 Plot the validation errors while using different values of C ( with other hyperparameters fixed) \n",
    "#  keeping kernel = \"linear\"\n",
    "#############placeholder 2: Figure 1#######################\n",
    "\n",
    "c_range =  range(1,20)\n",
    "svm_c_error = []\n",
    "for c_value in c_range:\n",
    "    model = svm.SVC(kernel='linear', C=c_value)\n",
    "    model.fit(X=x_train, y=y_train)\n",
    "    np.random.seed(0)\n",
    "    error = 1. - model.score(x_validation, y_validation)\n",
    "    svm_c_error.append(error)\n",
    "plt.plot(c_range, svm_c_error)\n",
    "plt.title('Linear SVM')\n",
    "plt.xlabel('c values')\n",
    "plt.ylabel('error')\n",
    "#plt.xticks(c_range)\n",
    "plt.show()\n",
    "#############placeholder end #######################"
   ]
  },
  {
   "cell_type": "code",
   "execution_count": 5,
   "metadata": {},
   "outputs": [
    {
     "data": {
      "image/png": "[encoded data removed]",
      "text/plain": [
       "<Figure size 432x288 with 1 Axes>"
      ]
     },
     "metadata": {
      "needs_background": "light"
     },
     "output_type": "display_data"
    }
   ],
   "source": [
    "# 3.2 Plot the validation errors while using linear, RBF kernel, or Polynomial kernel ( with other hyperparameters fixed) \n",
    "#############placeholder 3: Figure 2#######################\n",
    "kernel_types = ['linear', 'poly', 'rbf']\n",
    "svm_kernel_error = []\n",
    "for kernel_value in kernel_types:\n",
    "    \n",
    "    # your own codes\n",
    "    model = svm.SVC(kernel=kernel_value, C = 11) # change parameters\n",
    "    model.fit(X=x_train, y=y_train.ravel())\n",
    "    error = 1. - model.score(x_validation, y_validation) \n",
    "    svm_kernel_error.append(error)\n",
    "    \n",
    "plt.plot(kernel_types, svm_kernel_error)\n",
    "plt.title('SVM by Kernels')\n",
    "plt.xlabel('Kernel')\n",
    "plt.ylabel('error')\n",
    "plt.xticks(kernel_types)\n",
    "plt.show()\n",
    "#############placeholder end #######################"
   ]
  },
  {
   "cell_type": "code",
   "execution_count": 6,
   "metadata": {},
   "outputs": [
    {
     "data": {
      "text/plain": [
       "SVC(C=11, kernel='linear')"
      ]
     },
     "execution_count": 6,
     "metadata": {},
     "output_type": "execute_result"
    }
   ],
   "source": [
    "## step 4 Select the best model and apply it over the testing subset \n",
    "#############placeholder 4:testing  #######################\n",
    "# write your own codes to select the best hyper-parameters: kernel and C.\n",
    "#After trying manytimes, my best kernal is linear and c = 6\n",
    "best_kernel = 'linear'\n",
    "best_c = 11 # kernal with liner and c = 11 shows \"best\" performance (lowest error)\n",
    "model = svm.SVC(kernel=best_kernel, C=best_c)\n",
    "model.fit(X=x_train, y=y_train.ravel())\n",
    "\n",
    "#############placeholder end #######################"
   ]
  },
  {
   "cell_type": "code",
   "execution_count": 7,
   "metadata": {},
   "outputs": [
    {
     "name": "stdout",
     "output_type": "stream",
     "text": [
      "Confusion Matrix: \n",
      "[[47  2]\n",
      " [ 2 49]]\n",
      "Average Accuracy: 0.96\n",
      "Per-Class Precision: [0.95918367 0.96078431]\n",
      "Per-Class Recall: [0.95918367 0.96078431]\n"
     ]
    }
   ],
   "source": [
    "## step 5 evaluate your results in terms of accuracy, real, or precision. \n",
    "\n",
    "#############placeholder 5: metrics #######################\n",
    "# func_confusion_matrix is provided in conf_matrix.py\n",
    "# You might re-use this function from previous homework assignment.\n",
    "y_pred = model.predict(X_test)\n",
    "conf_matrix, accuracy, recall_array, precision_array = func_confusion_matrix(Y_test, y_pred)\n",
    "\n",
    "print(\"Confusion Matrix: \")\n",
    "print(conf_matrix)\n",
    "print(\"Average Accuracy: {}\".format(accuracy))\n",
    "print(\"Per-Class Precision: {}\".format(precision_array))\n",
    "print(\"Per-Class Recall: {}\".format(recall_array))\n",
    "\n",
    "#############placeholder end #######################"
   ]
  },
  {
   "cell_type": "code",
   "execution_count": 8,
   "metadata": {},
   "outputs": [
    {
     "name": "stdout",
     "output_type": "stream",
     "text": [
      "Successful examples\n",
      "Y_actual: 1.0 Y_hat: Feature: 1.0 [ 0.  14.  12.8 28.8 32.4 12.7]\n",
      "Y_actual: -1.0 Y_hat: Feature: -1.0 [ 0.  18.2 13.7 38.8 42.7 17.2]\n",
      "Y_actual: -1.0 Y_hat: Feature: -1.0 [ 0.  13.2 11.  27.1 30.4 12.2]\n",
      "Y_actual: -1.0 Y_hat: Feature: -1.0 [ 0.  20.6 14.4 42.8 46.5 19.6]\n",
      "Y_actual: 1.0 Y_hat: Feature: 1.0 [ 1.  10.3  9.5 21.3 24.7  8.9]\n",
      "\n",
      "\n",
      "Failure examples\n",
      "Y_actual: -1.0 y_hat: 1.0 Feature: [ 0.  10.7  8.6 20.7 22.7  9.2]\n",
      "Y_actual: -1.0 y_hat: 1.0 Feature: [ 1.   8.1  6.7 16.1 19.   7. ]\n",
      "Y_actual: 1.0 y_hat: -1.0 Feature: [ 0.  18.5 14.6 37.  42.  16.6]\n",
      "Y_actual: 1.0 y_hat: -1.0 Feature: [ 1.   9.5  8.2 19.6 22.4  7.8]\n"
     ]
    }
   ],
   "source": [
    "#############placeholder 6: success and failure examples #######################\n",
    "# Success samples: samples for which you model can correctly predict their labels\n",
    "count = 0\n",
    "\n",
    "print(\"Successful examples\")\n",
    "feast = []\n",
    "for i in range(0,100):\n",
    "    if Y_test[i]==y_pred[i]:\n",
    "        print(\"Y_actual:\" ,Y_test[i], \"Y_hat:\" , \"Feature:\",y_pred[i], X_test[i])\n",
    "        count = count+1\n",
    "        a = [Y_test[i]]\n",
    "        a.append(y_pred[i])\n",
    "        a.extend(X_test[i])\n",
    "        feast.append(a)\n",
    "    if count ==5: break\n",
    "\n",
    "# Failure samples: In my model, there are only 4 predicted valued that is incorrect.\n",
    "print(\"\\n\")\n",
    "\n",
    "print(\"Failure examples\")\n",
    "\n",
    "feasf = []\n",
    "for i in range(0,100):\n",
    "    if Y_test[i]!=y_pred[i]:\n",
    "        print(\"Y_actual:\" ,Y_test[i], \"y_hat:\" ,y_pred[i], \"Feature:\", X_test[i] )\n",
    "        b = [Y_test[i]]\n",
    "        b.append(y_pred[i])\n",
    "        b.extend(X_test[i])\n",
    "        feast.append(b)\n"
   ]
  },
  {
   "cell_type": "code",
   "execution_count": 9,
   "metadata": {},
   "outputs": [
    {
     "name": "stdout",
     "output_type": "stream",
     "text": [
      "Average value of each features: \n",
      "0     0.450\n",
      "1    15.647\n",
      "2    12.736\n",
      "3    32.210\n",
      "4    36.443\n",
      "5    14.082\n",
      "dtype: float64 \n",
      "\n",
      "Meadian of each features: \n"
     ]
    },
    {
     "data": {
      "text/plain": [
       "0     0.00\n",
       "1    15.60\n",
       "2    12.90\n",
       "3    31.70\n",
       "4    36.30\n",
       "5    13.85\n",
       "dtype: float64"
      ]
     },
     "execution_count": 9,
     "metadata": {},
     "output_type": "execute_result"
    }
   ],
   "source": [
    "# Average value of \n",
    "import pandas as pd\n",
    "xdf = pd.DataFrame(X_test)\n",
    "print(\"Average value of each features: \")\n",
    "print(xdf.mean(axis = 0),'\\n')\n",
    "print(\"Meadian of each features: \")\n",
    "xdf.median(axis = 0) "
   ]
  },
  {
   "cell_type": "code",
   "execution_count": 10,
   "metadata": {},
   "outputs": [],
   "source": [
    "sum1 = feast + feasf # combine dataframe (sucessful cases and failure case)"
   ]
  },
  {
   "cell_type": "code",
   "execution_count": 11,
   "metadata": {},
   "outputs": [],
   "source": [
    "#Rename index and column\n",
    "summary = pd.DataFrame(sum1, columns = ['Y_actual', 'Y_hat', 'f1','f2','f3','f4','f5','f6' ], \n",
    "                       index = np.repeat(['Sucess', 'Failure'], [5, 4], axis=0) )"
   ]
  },
  {
   "cell_type": "code",
   "execution_count": 12,
   "metadata": {},
   "outputs": [
    {
     "data": {
      "text/html": [
       "<div>\n",
       "<style scoped>\n",
       "    .dataframe tbody tr th:only-of-type {\n",
       "        vertical-align: middle;\n",
       "    }\n",
       "\n",
       "    .dataframe tbody tr th {\n",
       "        vertical-align: top;\n",
       "    }\n",
       "\n",
       "    .dataframe thead th {\n",
       "        text-align: right;\n",
       "    }\n",
       "</style>\n",
       "<table border=\"1\" class=\"dataframe\">\n",
       "  <thead>\n",
       "    <tr style=\"text-align: right;\">\n",
       "      <th></th>\n",
       "      <th>Y_actual</th>\n",
       "      <th>Y_hat</th>\n",
       "      <th>f1</th>\n",
       "      <th>f2</th>\n",
       "      <th>f3</th>\n",
       "      <th>f4</th>\n",
       "      <th>f5</th>\n",
       "      <th>f6</th>\n",
       "    </tr>\n",
       "  </thead>\n",
       "  <tbody>\n",
       "    <tr>\n",
       "      <th>mean</th>\n",
       "      <td>-</td>\n",
       "      <td>-</td>\n",
       "      <td>0.45</td>\n",
       "      <td>15.647</td>\n",
       "      <td>12.736</td>\n",
       "      <td>32.21</td>\n",
       "      <td>36.443</td>\n",
       "      <td>14.082</td>\n",
       "    </tr>\n",
       "    <tr>\n",
       "      <th>median</th>\n",
       "      <td>-</td>\n",
       "      <td>-</td>\n",
       "      <td>0.00</td>\n",
       "      <td>15.600</td>\n",
       "      <td>12.900</td>\n",
       "      <td>31.70</td>\n",
       "      <td>36.300</td>\n",
       "      <td>13.850</td>\n",
       "    </tr>\n",
       "  </tbody>\n",
       "</table>\n",
       "</div>"
      ],
      "text/plain": [
       "       Y_actual Y_hat    f1      f2      f3     f4      f5      f6\n",
       "mean          -     -  0.45  15.647  12.736  32.21  36.443  14.082\n",
       "median        -     -  0.00  15.600  12.900  31.70  36.300  13.850"
      ]
     },
     "execution_count": 12,
     "metadata": {},
     "output_type": "execute_result"
    }
   ],
   "source": [
    "#Sumarize statistics of features\n",
    "mea = pd.DataFrame(xdf.mean(axis = 0), columns = ['mean']).T #mean\n",
    "med = pd.DataFrame(xdf.median(axis = 0), columns = ['median']).T #meandian\n",
    "sum3 = pd.concat([mea, med]) #comebine table\n",
    "sum3.columns = ['f1','f2','f3','f4','f5','f6'] # rename columns\n",
    "sum3.insert(0, \"Y_actual\",['-','-'] ) #insert Na for Y actual\n",
    "sum3.insert(1, \"Y_hat\",['-','-'] ) \n",
    "sum3"
   ]
  },
  {
   "cell_type": "code",
   "execution_count": 13,
   "metadata": {},
   "outputs": [],
   "source": [
    "summary1 = pd.concat([summary,sum3])"
   ]
  },
  {
   "cell_type": "code",
   "execution_count": 16,
   "metadata": {},
   "outputs": [
    {
     "data": {
      "text/html": [
       "<div>\n",
       "<style scoped>\n",
       "    .dataframe tbody tr th:only-of-type {\n",
       "        vertical-align: middle;\n",
       "    }\n",
       "\n",
       "    .dataframe tbody tr th {\n",
       "        vertical-align: top;\n",
       "    }\n",
       "\n",
       "    .dataframe thead th {\n",
       "        text-align: right;\n",
       "    }\n",
       "</style>\n",
       "<table border=\"1\" class=\"dataframe\">\n",
       "  <thead>\n",
       "    <tr style=\"text-align: right;\">\n",
       "      <th></th>\n",
       "      <th>Y_actual</th>\n",
       "      <th>Y_hat</th>\n",
       "      <th>f1</th>\n",
       "      <th>f2</th>\n",
       "      <th>f3</th>\n",
       "      <th>f4</th>\n",
       "      <th>f5</th>\n",
       "      <th>f6</th>\n",
       "    </tr>\n",
       "  </thead>\n",
       "  <tbody>\n",
       "    <tr>\n",
       "      <th>Sucess</th>\n",
       "      <td>1</td>\n",
       "      <td>1</td>\n",
       "      <td>0.00</td>\n",
       "      <td>14.000</td>\n",
       "      <td>12.800</td>\n",
       "      <td>28.80</td>\n",
       "      <td>32.400</td>\n",
       "      <td>12.700</td>\n",
       "    </tr>\n",
       "    <tr>\n",
       "      <th>Sucess</th>\n",
       "      <td>-1</td>\n",
       "      <td>-1</td>\n",
       "      <td>0.00</td>\n",
       "      <td>18.200</td>\n",
       "      <td>13.700</td>\n",
       "      <td>38.80</td>\n",
       "      <td>42.700</td>\n",
       "      <td>17.200</td>\n",
       "    </tr>\n",
       "    <tr>\n",
       "      <th>Sucess</th>\n",
       "      <td>-1</td>\n",
       "      <td>-1</td>\n",
       "      <td>0.00</td>\n",
       "      <td>13.200</td>\n",
       "      <td>11.000</td>\n",
       "      <td>27.10</td>\n",
       "      <td>30.400</td>\n",
       "      <td>12.200</td>\n",
       "    </tr>\n",
       "    <tr>\n",
       "      <th>Sucess</th>\n",
       "      <td>-1</td>\n",
       "      <td>-1</td>\n",
       "      <td>0.00</td>\n",
       "      <td>20.600</td>\n",
       "      <td>14.400</td>\n",
       "      <td>42.80</td>\n",
       "      <td>46.500</td>\n",
       "      <td>19.600</td>\n",
       "    </tr>\n",
       "    <tr>\n",
       "      <th>Sucess</th>\n",
       "      <td>1</td>\n",
       "      <td>1</td>\n",
       "      <td>1.00</td>\n",
       "      <td>10.300</td>\n",
       "      <td>9.500</td>\n",
       "      <td>21.30</td>\n",
       "      <td>24.700</td>\n",
       "      <td>8.900</td>\n",
       "    </tr>\n",
       "    <tr>\n",
       "      <th>Failure</th>\n",
       "      <td>-1</td>\n",
       "      <td>1</td>\n",
       "      <td>0.00</td>\n",
       "      <td>10.700</td>\n",
       "      <td>8.600</td>\n",
       "      <td>20.70</td>\n",
       "      <td>22.700</td>\n",
       "      <td>9.200</td>\n",
       "    </tr>\n",
       "    <tr>\n",
       "      <th>Failure</th>\n",
       "      <td>-1</td>\n",
       "      <td>1</td>\n",
       "      <td>1.00</td>\n",
       "      <td>8.100</td>\n",
       "      <td>6.700</td>\n",
       "      <td>16.10</td>\n",
       "      <td>19.000</td>\n",
       "      <td>7.000</td>\n",
       "    </tr>\n",
       "    <tr>\n",
       "      <th>Failure</th>\n",
       "      <td>1</td>\n",
       "      <td>-1</td>\n",
       "      <td>0.00</td>\n",
       "      <td>18.500</td>\n",
       "      <td>14.600</td>\n",
       "      <td>37.00</td>\n",
       "      <td>42.000</td>\n",
       "      <td>16.600</td>\n",
       "    </tr>\n",
       "    <tr>\n",
       "      <th>Failure</th>\n",
       "      <td>1</td>\n",
       "      <td>-1</td>\n",
       "      <td>1.00</td>\n",
       "      <td>9.500</td>\n",
       "      <td>8.200</td>\n",
       "      <td>19.60</td>\n",
       "      <td>22.400</td>\n",
       "      <td>7.800</td>\n",
       "    </tr>\n",
       "    <tr>\n",
       "      <th>mean</th>\n",
       "      <td>-</td>\n",
       "      <td>-</td>\n",
       "      <td>0.45</td>\n",
       "      <td>15.647</td>\n",
       "      <td>12.736</td>\n",
       "      <td>32.21</td>\n",
       "      <td>36.443</td>\n",
       "      <td>14.082</td>\n",
       "    </tr>\n",
       "    <tr>\n",
       "      <th>median</th>\n",
       "      <td>-</td>\n",
       "      <td>-</td>\n",
       "      <td>0.00</td>\n",
       "      <td>15.600</td>\n",
       "      <td>12.900</td>\n",
       "      <td>31.70</td>\n",
       "      <td>36.300</td>\n",
       "      <td>13.850</td>\n",
       "    </tr>\n",
       "  </tbody>\n",
       "</table>\n",
       "</div>"
      ],
      "text/plain": [
       "        Y_actual Y_hat    f1      f2      f3     f4      f5      f6\n",
       "Sucess         1     1  0.00  14.000  12.800  28.80  32.400  12.700\n",
       "Sucess        -1    -1  0.00  18.200  13.700  38.80  42.700  17.200\n",
       "Sucess        -1    -1  0.00  13.200  11.000  27.10  30.400  12.200\n",
       "Sucess        -1    -1  0.00  20.600  14.400  42.80  46.500  19.600\n",
       "Sucess         1     1  1.00  10.300   9.500  21.30  24.700   8.900\n",
       "Failure       -1     1  0.00  10.700   8.600  20.70  22.700   9.200\n",
       "Failure       -1     1  1.00   8.100   6.700  16.10  19.000   7.000\n",
       "Failure        1    -1  0.00  18.500  14.600  37.00  42.000  16.600\n",
       "Failure        1    -1  1.00   9.500   8.200  19.60  22.400   7.800\n",
       "mean           -     -  0.45  15.647  12.736  32.21  36.443  14.082\n",
       "median         -     -  0.00  15.600  12.900  31.70  36.300  13.850"
      ]
     },
     "execution_count": 16,
     "metadata": {},
     "output_type": "execute_result"
    }
   ],
   "source": [
    "summary1"
   ]
  },
  {
   "cell_type": "code",
   "execution_count": 17,
   "metadata": {},
   "outputs": [
    {
     "data": {
      "text/plain": [
       "<function matplotlib.pyplot.show(close=None, block=None)>"
      ]
     },
     "execution_count": 17,
     "metadata": {},
     "output_type": "execute_result"
    },
    {
     "data": {
      "image/png": "[encoded data removed]",
      "text/plain": [
       "<Figure size 360x432 with 1 Axes>"
      ]
     },
     "metadata": {
      "needs_background": "light"
     },
     "output_type": "display_data"
    }
   ],
   "source": [
    "plt.figure(figsize=(5,6))\n",
    "plt.plot(np.arange(1,7,1), summary1.iloc[ 0 , 2: ] , \"v\", label=\"success\", c = 'green')\n",
    "for i in range (1,5,1): \n",
    "    plt.plot(np.arange(1,7,1), summary1.iloc[ i , 2: ] , \"v\",  c = 'green')\n",
    "\n",
    "plt.plot(np.arange(1,7,1), summary1.iloc[ 5 , 2: ] , \"v\", label=\"failure\", c = 'orangered')\n",
    "for i in range (1,4,1): \n",
    "    plt.plot(np.arange(1,7,1), summary1.iloc[ i+5 , 2: ] , \"v\", c = 'orangered')\n",
    "plt.plot(np.arange(1,7,1), summary1.iloc[ 10 , 2: ] , \"x\", label=\"mean\", c = 'blue')\n",
    "\n",
    "plt.xlabel(\"feature\")\n",
    "plt.ylabel(\"value\")\n",
    "xlims = plt.xlim()\n",
    "plt.xlim(xlims)\n",
    "plt.legend(loc= (0.01,0.75))\n",
    "\n",
    "plt.show"
   ]
  },
  {
   "cell_type": "code",
   "execution_count": null,
   "metadata": {},
   "outputs": [],
   "source": [
    "#############placeholder end #######################"
   ]
  }
 ],
 "metadata": {
  "kernelspec": {
   "display_name": "Python 3",
   "language": "python",
   "name": "python3"
  },
  "language_info": {
   "codemirror_mode": {
    "name": "ipython",
    "version": 3
   },
   "file_extension": ".py",
   "mimetype": "text/x-python",
   "name": "python",
   "nbconvert_exporter": "python",
   "pygments_lexer": "ipython3",
   "version": "3.8.3"
  }
 },
 "nbformat": 4,
 "nbformat_minor": 4
}
