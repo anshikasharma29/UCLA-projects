{
 "cells": [
  {
   "cell_type": "markdown",
   "metadata": {},
   "source": [
    "## <center> Homework4- Part-2\n",
    "##   <center> Anshika Sharma, UCLA ID:305488635"
   ]
  },
  {
   "cell_type": "code",
   "execution_count": 1,
   "metadata": {},
   "outputs": [],
   "source": [
    "import numpy as np\n",
    "import pandas as pd\n",
    "import download_data as dl\n",
    "import matplotlib.pyplot as plt\n",
    "import sklearn.svm as svm\n",
    "from sklearn import metrics\n",
    "from conf_matrix import func_confusion_matrix\n",
    "from sklearn.model_selection import train_test_split"
   ]
  },
  {
   "cell_type": "code",
   "execution_count": 2,
   "metadata": {},
   "outputs": [],
   "source": [
    "## step 1: load data from csv file. \n",
    "data = dl.download_data('crab.csv').values\n",
    "n = 200\n",
    "#split data \n",
    "np.random.seed(17)\n",
    "S = np.random.permutation(n)\n",
    "#100 training samples\n",
    "Xtr = data[S[:100], :6]\n",
    "Ytr = data[S[:100], 6:]\n",
    "# 100 testing samples\n",
    "X_test = data[S[100:], :6]\n",
    "Y_test = data[S[100:], 6:].ravel()"
   ]
  },
  {
   "cell_type": "code",
   "execution_count": 3,
   "metadata": {},
   "outputs": [],
   "source": [
    "## step 2 randomly split Xtr/Ytr into two even subsets: use one for training, another for validation.\n",
    "#############placeholder 1: training/validation #######################\n",
    "n2 = len(Xtr)\n",
    "np.random.seed(10)\n",
    "S2 = np.random.permutation(n2)\n",
    "# subsets for training and validating models \n",
    "#x_train,x_validation,y_train,y_validation = train_test_split(Xtr,Ytr,test_size=0.5)\n",
    "x_train = Xtr[S2[:50], :6]\n",
    "y_train = Ytr[S2[:50]].flatten()\n",
    "x_validation = Xtr[S2[50:], :6]\n",
    "y_validation = Ytr[S2[50:]].flatten()\n",
    "#############placeholder end #######################"
   ]
  },
  {
   "cell_type": "code",
   "execution_count": 4,
   "metadata": {},
   "outputs": [
    {
     "data": {
      "image/png": "[encoded data removed]",
      "text/plain": [
       "<Figure size 432x288 with 1 Axes>"
      ]
     },
     "metadata": {
      "needs_background": "light"
     },
     "output_type": "display_data"
    }
   ],
   "source": [
    "# 3.1 Plot the validation errors while using different values of C ( with other hyperparameters fixed) \n",
    "#  keeping kernel = \"linear\"\n",
    "#############placeholder 2: Figure 1#######################\n",
    "c_range =  range(1,20)\n",
    "svm_c_error = []\n",
    "for c_value in c_range:\n",
    "    model = svm.SVC(kernel='linear', C=c_value)\n",
    "    model.fit(X=x_train, y=y_train.ravel())\n",
    "    np.random.seed(10)\n",
    "    error = 1. - model.score(x_validation, y_validation)\n",
    "    svm_c_error.append(error)\n",
    "plt.plot(c_range, svm_c_error)\n",
    "plt.title('Linear SVM')\n",
    "plt.xlabel('c values')\n",
    "plt.ylabel('error')\n",
    "#plt.xticks(c_range)\n",
    "plt.show()\n",
    "#############placeholder end #######################"
   ]
  },
  {
   "cell_type": "code",
   "execution_count": 5,
   "metadata": {},
   "outputs": [
    {
     "data": {
      "image/png": "[encoded data removed]",
      "text/plain": [
       "<Figure size 432x288 with 1 Axes>"
      ]
     },
     "metadata": {
      "needs_background": "light"
     },
     "output_type": "display_data"
    }
   ],
   "source": [
    "# 3.2 Plot the validation errors while using linear, RBF kernel, or Polynomial kernel ( with other hyperparameters fixed) \n",
    "#############placeholder 3: Figure 2#######################\n",
    "kernel_types = ['linear', 'poly', 'rbf']\n",
    "svm_kernel_error = []\n",
    "for kernel_value in kernel_types:\n",
    "    # your own codes\n",
    "    model = svm.SVC(kernel=kernel_value, C=6)\n",
    "    model.fit(X=x_train, y=y_train.ravel())\n",
    "    np.random.seed(0)\n",
    "    error = 1. - model.score(x_validation, y_validation) \n",
    "    svm_kernel_error.append(error)\n",
    "    \n",
    "\n",
    "plt.plot(kernel_types, svm_kernel_error)\n",
    "plt.title('SVM by Kernels')\n",
    "plt.xlabel('Kernel')\n",
    "plt.ylabel('error')\n",
    "plt.xticks(kernel_types)\n",
    "plt.show()\n",
    "#############placeholder end #######################"
   ]
  },
  {
   "cell_type": "code",
   "execution_count": 6,
   "metadata": {},
   "outputs": [
    {
     "name": "stdout",
     "output_type": "stream",
     "text": [
      "Parameter Selection for kernal linear\n",
      "c:  5 error:  0.040000000000000036\n",
      "c:  6 error:  0.020000000000000018\n",
      "c:  7 error:  0.020000000000000018\n",
      "c:  8 error:  0.040000000000000036\n",
      "c:  9 error:  0.07999999999999996\n",
      "c:  10 error:  0.12\n",
      "c:  11 error:  0.14\n",
      "c:  12 error:  0.14\n",
      "c:  13 error:  0.14\n",
      "c:  14 error:  0.14\n",
      "c:  15 error:  0.14\n",
      "c:  16 error:  0.14\n",
      "c:  17 error:  0.14\n",
      "c:  18 error:  0.14\n",
      "c:  19 error:  0.14\n",
      "Parameter Selection for Polynomial linear\n",
      "c:  5 error:  0.07999999999999996\n",
      "c:  6 error:  0.09999999999999998\n",
      "c:  7 error:  0.09999999999999998\n",
      "c:  8 error:  0.09999999999999998\n",
      "c:  9 error:  0.09999999999999998\n",
      "c:  10 error:  0.09999999999999998\n",
      "c:  11 error:  0.12\n",
      "c:  12 error:  0.09999999999999998\n",
      "c:  13 error:  0.09999999999999998\n",
      "c:  14 error:  0.12\n",
      "c:  15 error:  0.12\n",
      "c:  16 error:  0.12\n",
      "c:  17 error:  0.12\n",
      "c:  18 error:  0.12\n",
      "c:  19 error:  0.12\n",
      "Parameter Selection for RBF linear\n",
      "c:  5 error:  0.30000000000000004\n",
      "c:  6 error:  0.26\n",
      "c:  7 error:  0.24\n",
      "c:  8 error:  0.18000000000000005\n",
      "c:  9 error:  0.14\n",
      "c:  10 error:  0.12\n",
      "c:  11 error:  0.12\n",
      "c:  12 error:  0.07999999999999996\n",
      "c:  13 error:  0.07999999999999996\n",
      "c:  14 error:  0.07999999999999996\n",
      "c:  15 error:  0.06000000000000005\n",
      "c:  16 error:  0.06000000000000005\n",
      "c:  17 error:  0.06000000000000005\n",
      "c:  18 error:  0.06000000000000005\n",
      "c:  19 error:  0.06000000000000005\n",
      "The best score is linear kernal with c = 6 \n"
     ]
    },
    {
     "data": {
      "text/plain": [
       "SVC(C=6, kernel='linear')"
      ]
     },
     "execution_count": 6,
     "metadata": {},
     "output_type": "execute_result"
    }
   ],
   "source": [
    "## step 4 Select the best model and apply it over the testing subset \n",
    "#############placeholder 4:testing  #######################\n",
    "# write your own codes to select the best hyper-parameters: kernel and C.\n",
    "\n",
    "#Using different kernels and parameters to see what optimal value of C is obtained\n",
    "\n",
    "#linear kernal \n",
    "print(\"Parameter Selection for kernal linear\")\n",
    "for i in range (5,20):\n",
    "    model = svm.SVC(kernel = 'linear', C = i, gamma= 10) # change kernl type, C, gamma \n",
    "    model.fit(X=x_train, y=y_train.ravel())\n",
    "    error = 1. - model.score(x_validation, y_validation) \n",
    "    print('c: ',i, 'error: ', error)\n",
    "\n",
    "#Polynomial kernel  \n",
    "print(\"Parameter Selection for Polynomial linear\")\n",
    "\n",
    "for i in range (5,20):\n",
    "    model = svm.SVC(kernel = 'poly', C = i, gamma= 0.001) # change kernl type, C, gamma \n",
    "    model.fit(X=x_train, y=y_train.ravel())\n",
    "    error = 1. - model.score(x_validation, y_validation) \n",
    "    print('c: ',i, 'error: ', error)\n",
    "\n",
    "# RBF kernel \n",
    "print(\"Parameter Selection for RBF linear\")\n",
    "for i in range (5,20):\n",
    "    model = svm.SVC(kernel = 'rbf', C = i, gamma= 0.001) # change kernl type, C, gamma \n",
    "    model.fit(X=x_train, y=y_train.ravel())\n",
    "    error = 1. - model.score(x_validation, y_validation) \n",
    "    print('c: ',i, 'error: ', error)\n",
    "\n",
    "print(\"The best score is linear kernal with c = 6 \") # \n",
    "\n",
    "\n",
    "#######################################################\n",
    "\n",
    "#manually selecting\n",
    "\n",
    "best_kernel = 'linear'\n",
    "best_c = 6 # poly had many that were the \"best\"\n",
    "model = svm.SVC(kernel=best_kernel, C=best_c)\n",
    "model.fit(X=x_train, y=y_train.ravel())\n",
    "\n",
    "#############placeholder end #######################\n"
   ]
  },
  {
   "cell_type": "code",
   "execution_count": 7,
   "metadata": {},
   "outputs": [
    {
     "name": "stdout",
     "output_type": "stream",
     "text": [
      "Confusion Matrix: \n",
      "[[44  4]\n",
      " [ 1 51]]\n",
      "Average Accuracy: 0.95\n",
      "Per-Class Precision: [0.97777778 0.92727273]\n",
      "Per-Class Recall: [0.91666667 0.98076923]\n"
     ]
    }
   ],
   "source": [
    "## step 5 evaluate your results in terms of accuracy, real, or precision. \n",
    "\n",
    "#############placeholder 5: metrics #######################\n",
    "# func_confusion_matrix is provided in conf_matrix.py\n",
    "# You might re-use this function from previous homework assignment.\n",
    "y_pred = model.predict(X_test)\n",
    "conf_matrix, accuracy, recall_array, precision_array = func_confusion_matrix(Y_test, y_pred)\n",
    "\n",
    "print(\"Confusion Matrix: \")\n",
    "print(conf_matrix)\n",
    "print(\"Average Accuracy: {}\".format(accuracy))\n",
    "print(\"Per-Class Precision: {}\".format(precision_array))\n",
    "print(\"Per-Class Recall: {}\".format(recall_array))\n",
    "\n",
    "#############placeholder end #######################"
   ]
  },
  {
   "cell_type": "code",
   "execution_count": 8,
   "metadata": {},
   "outputs": [
    {
     "name": "stdout",
     "output_type": "stream",
     "text": [
      "Successful examples\n",
      "Y_actual: -1.0 Y_hat: -1.0 Feature: [ 0.  18.  13.4 36.7 41.3 17.1]\n",
      "Y_actual: -1.0 Y_hat: -1.0 Feature: [ 1.  19.3 13.5 41.6 47.4 17.8]\n",
      "Y_actual: -1.0 Y_hat: -1.0 Feature: [ 1.  11.8  9.6 24.2 27.8  9.7]\n",
      "Y_actual: -1.0 Y_hat: -1.0 Feature: [ 0.  17.1 12.6 35.  38.9 15.7]\n",
      "Y_actual: -1.0 Y_hat: -1.0 Feature: [ 1.  16.1 12.8 34.9 40.7 15.7]\n",
      "\n",
      "\n",
      "Failure examples\n",
      "Y_actual: 1.0 y_hat: -1.0 Feature: [ 1.   9.5  8.2 19.6 22.4  7.8]\n",
      "Y_actual: 1.0 y_hat: -1.0 Feature: [ 0.  18.5 14.6 37.  42.  16.6]\n",
      "Y_actual: -1.0 y_hat: 1.0 Feature: [ 1.  11.8 10.5 25.2 29.3 10.3]\n",
      "Y_actual: 1.0 y_hat: -1.0 Feature: [ 0.  11.4  9.2 21.7 24.1  9.7]\n",
      "Y_actual: 1.0 y_hat: -1.0 Feature: [ 0.  15.  12.3 30.1 33.3 14. ]\n"
     ]
    }
   ],
   "source": [
    "#############placeholder 6 #######################\n",
    "print(\"Successful examples\")\n",
    "feast = []\n",
    "count = 0\n",
    "for i in range(0,100):\n",
    "    if Y_test[i]==y_pred[i]:\n",
    "        print(\"Y_actual:\" ,Y_test[i], \"Y_hat:\" ,y_pred[i], \"Feature:\", X_test[i])\n",
    "        count = count+1\n",
    "        a = [Y_test[i]]\n",
    "        a.append(y_pred[i])\n",
    "        a.extend(X_test[i])\n",
    "        feast.append(a)\n",
    "    if count == 5: break\n",
    "\n",
    "# Failure samples: In my model, there are only 4 predicted valued that is incorrect.\n",
    "print(\"\\n\")\n",
    "\n",
    "print(\"Failure examples\")\n",
    "\n",
    "feasf = []\n",
    "count = 0\n",
    "for i in range(0,100):\n",
    "    if Y_test[i]!=y_pred[i]:\n",
    "        print(\"Y_actual:\" ,Y_test[i], \"y_hat:\" ,y_pred[i], \"Feature:\", X_test[i] )\n",
    "        count = count+1\n",
    "        b = [Y_test[i]]\n",
    "        b.append(y_pred[i])\n",
    "        b.extend(X_test[i])\n",
    "        feasf.append(b)\n",
    "    if count == 5: break\n"
   ]
  },
  {
   "cell_type": "code",
   "execution_count": 9,
   "metadata": {},
   "outputs": [
    {
     "name": "stdout",
     "output_type": "stream",
     "text": [
      "Average value of each features: \n",
      "0     0.550\n",
      "1    15.287\n",
      "2    12.578\n",
      "3    31.578\n",
      "4    35.901\n",
      "5    13.720\n",
      "dtype: float64 \n",
      "\n",
      "Meadian of each features: \n"
     ]
    },
    {
     "data": {
      "text/plain": [
       "0     1.00\n",
       "1    15.35\n",
       "2    12.60\n",
       "3    31.75\n",
       "4    36.50\n",
       "5    13.80\n",
       "dtype: float64"
      ]
     },
     "execution_count": 9,
     "metadata": {},
     "output_type": "execute_result"
    }
   ],
   "source": [
    "# Average value of \n",
    "import pandas as pd\n",
    "xdf = pd.DataFrame(X_test)\n",
    "print(\"Average value of each features: \")\n",
    "print(xdf.mean(axis = 0),'\\n')\n",
    "print(\"Meadian of each features: \")\n",
    "xdf.median(axis = 0) "
   ]
  },
  {
   "cell_type": "code",
   "execution_count": 10,
   "metadata": {},
   "outputs": [
    {
     "data": {
      "text/plain": [
       "[[-1.0, -1.0, 0.0, 18.0, 13.4, 36.7, 41.3, 17.1],\n",
       " [-1.0, -1.0, 1.0, 19.3, 13.5, 41.6, 47.4, 17.8],\n",
       " [-1.0, -1.0, 1.0, 11.8, 9.6, 24.2, 27.8, 9.7],\n",
       " [-1.0, -1.0, 0.0, 17.1, 12.6, 35.0, 38.9, 15.7],\n",
       " [-1.0, -1.0, 1.0, 16.1, 12.8, 34.9, 40.7, 15.7],\n",
       " [1.0, -1.0, 1.0, 9.5, 8.2, 19.6, 22.4, 7.8],\n",
       " [1.0, -1.0, 0.0, 18.5, 14.6, 37.0, 42.0, 16.6],\n",
       " [-1.0, 1.0, 1.0, 11.8, 10.5, 25.2, 29.3, 10.3],\n",
       " [1.0, -1.0, 0.0, 11.4, 9.2, 21.7, 24.1, 9.7],\n",
       " [1.0, -1.0, 0.0, 15.0, 12.3, 30.1, 33.3, 14.0]]"
      ]
     },
     "execution_count": 10,
     "metadata": {},
     "output_type": "execute_result"
    }
   ],
   "source": [
    "sum1 = feast + feasf # combine dataframe (sucessful cases and failure case)\n",
    "sum1"
   ]
  },
  {
   "cell_type": "code",
   "execution_count": 11,
   "metadata": {},
   "outputs": [],
   "source": [
    "#Rename index and column\n",
    "summary = pd.DataFrame(sum1, columns = ['Y_actual', 'Y_hat', 'f1','f2','f3','f4','f5','f6' ], \n",
    "                       index = np.repeat(['Sucess', 'Failure'], [5, 5], axis=0))"
   ]
  },
  {
   "cell_type": "code",
   "execution_count": 12,
   "metadata": {},
   "outputs": [
    {
     "data": {
      "text/html": [
       "<div>\n",
       "<style scoped>\n",
       "    .dataframe tbody tr th:only-of-type {\n",
       "        vertical-align: middle;\n",
       "    }\n",
       "\n",
       "    .dataframe tbody tr th {\n",
       "        vertical-align: top;\n",
       "    }\n",
       "\n",
       "    .dataframe thead th {\n",
       "        text-align: right;\n",
       "    }\n",
       "</style>\n",
       "<table border=\"1\" class=\"dataframe\">\n",
       "  <thead>\n",
       "    <tr style=\"text-align: right;\">\n",
       "      <th></th>\n",
       "      <th>Y_actual</th>\n",
       "      <th>Y_hat</th>\n",
       "      <th>f1</th>\n",
       "      <th>f2</th>\n",
       "      <th>f3</th>\n",
       "      <th>f4</th>\n",
       "      <th>f5</th>\n",
       "      <th>f6</th>\n",
       "    </tr>\n",
       "  </thead>\n",
       "  <tbody>\n",
       "    <tr>\n",
       "      <th>mean</th>\n",
       "      <td>-</td>\n",
       "      <td>-</td>\n",
       "      <td>0.55</td>\n",
       "      <td>15.287</td>\n",
       "      <td>12.578</td>\n",
       "      <td>31.578</td>\n",
       "      <td>35.901</td>\n",
       "      <td>13.72</td>\n",
       "    </tr>\n",
       "    <tr>\n",
       "      <th>median</th>\n",
       "      <td>-</td>\n",
       "      <td>-</td>\n",
       "      <td>1.00</td>\n",
       "      <td>15.350</td>\n",
       "      <td>12.600</td>\n",
       "      <td>31.750</td>\n",
       "      <td>36.500</td>\n",
       "      <td>13.80</td>\n",
       "    </tr>\n",
       "  </tbody>\n",
       "</table>\n",
       "</div>"
      ],
      "text/plain": [
       "       Y_actual Y_hat    f1      f2      f3      f4      f5     f6\n",
       "mean          -     -  0.55  15.287  12.578  31.578  35.901  13.72\n",
       "median        -     -  1.00  15.350  12.600  31.750  36.500  13.80"
      ]
     },
     "execution_count": 12,
     "metadata": {},
     "output_type": "execute_result"
    }
   ],
   "source": [
    "#Sumarize statistics of features\n",
    "mea = pd.DataFrame(xdf.mean(axis = 0), columns = ['mean']).T #mean\n",
    "med = pd.DataFrame(xdf.median(axis = 0), columns = ['median']).T #meandian\n",
    "sum3 = pd.concat([mea, med]) #comebine table\n",
    "sum3.columns = ['f1','f2','f3','f4','f5','f6'] # rename columns\n",
    "sum3.insert(0, \"Y_actual\",['-','-'] ) #insert Na for Y actual\n",
    "sum3.insert(1, \"Y_hat\",['-','-'] ) \n",
    "sum3"
   ]
  },
  {
   "cell_type": "code",
   "execution_count": 13,
   "metadata": {},
   "outputs": [],
   "source": [
    "summary1 = pd.concat([summary,sum3])"
   ]
  },
  {
   "cell_type": "code",
   "execution_count": 14,
   "metadata": {},
   "outputs": [
    {
     "data": {
      "text/html": [
       "<div>\n",
       "<style scoped>\n",
       "    .dataframe tbody tr th:only-of-type {\n",
       "        vertical-align: middle;\n",
       "    }\n",
       "\n",
       "    .dataframe tbody tr th {\n",
       "        vertical-align: top;\n",
       "    }\n",
       "\n",
       "    .dataframe thead th {\n",
       "        text-align: right;\n",
       "    }\n",
       "</style>\n",
       "<table border=\"1\" class=\"dataframe\">\n",
       "  <thead>\n",
       "    <tr style=\"text-align: right;\">\n",
       "      <th></th>\n",
       "      <th>Y_actual</th>\n",
       "      <th>Y_hat</th>\n",
       "      <th>f1</th>\n",
       "      <th>f2</th>\n",
       "      <th>f3</th>\n",
       "      <th>f4</th>\n",
       "      <th>f5</th>\n",
       "      <th>f6</th>\n",
       "    </tr>\n",
       "  </thead>\n",
       "  <tbody>\n",
       "    <tr>\n",
       "      <th>Sucess</th>\n",
       "      <td>-1</td>\n",
       "      <td>-1</td>\n",
       "      <td>0.00</td>\n",
       "      <td>18.000</td>\n",
       "      <td>13.400</td>\n",
       "      <td>36.700</td>\n",
       "      <td>41.300</td>\n",
       "      <td>17.10</td>\n",
       "    </tr>\n",
       "    <tr>\n",
       "      <th>Sucess</th>\n",
       "      <td>-1</td>\n",
       "      <td>-1</td>\n",
       "      <td>1.00</td>\n",
       "      <td>19.300</td>\n",
       "      <td>13.500</td>\n",
       "      <td>41.600</td>\n",
       "      <td>47.400</td>\n",
       "      <td>17.80</td>\n",
       "    </tr>\n",
       "    <tr>\n",
       "      <th>Sucess</th>\n",
       "      <td>-1</td>\n",
       "      <td>-1</td>\n",
       "      <td>1.00</td>\n",
       "      <td>11.800</td>\n",
       "      <td>9.600</td>\n",
       "      <td>24.200</td>\n",
       "      <td>27.800</td>\n",
       "      <td>9.70</td>\n",
       "    </tr>\n",
       "    <tr>\n",
       "      <th>Sucess</th>\n",
       "      <td>-1</td>\n",
       "      <td>-1</td>\n",
       "      <td>0.00</td>\n",
       "      <td>17.100</td>\n",
       "      <td>12.600</td>\n",
       "      <td>35.000</td>\n",
       "      <td>38.900</td>\n",
       "      <td>15.70</td>\n",
       "    </tr>\n",
       "    <tr>\n",
       "      <th>Sucess</th>\n",
       "      <td>-1</td>\n",
       "      <td>-1</td>\n",
       "      <td>1.00</td>\n",
       "      <td>16.100</td>\n",
       "      <td>12.800</td>\n",
       "      <td>34.900</td>\n",
       "      <td>40.700</td>\n",
       "      <td>15.70</td>\n",
       "    </tr>\n",
       "    <tr>\n",
       "      <th>Failure</th>\n",
       "      <td>1</td>\n",
       "      <td>-1</td>\n",
       "      <td>1.00</td>\n",
       "      <td>9.500</td>\n",
       "      <td>8.200</td>\n",
       "      <td>19.600</td>\n",
       "      <td>22.400</td>\n",
       "      <td>7.80</td>\n",
       "    </tr>\n",
       "    <tr>\n",
       "      <th>Failure</th>\n",
       "      <td>1</td>\n",
       "      <td>-1</td>\n",
       "      <td>0.00</td>\n",
       "      <td>18.500</td>\n",
       "      <td>14.600</td>\n",
       "      <td>37.000</td>\n",
       "      <td>42.000</td>\n",
       "      <td>16.60</td>\n",
       "    </tr>\n",
       "    <tr>\n",
       "      <th>Failure</th>\n",
       "      <td>-1</td>\n",
       "      <td>1</td>\n",
       "      <td>1.00</td>\n",
       "      <td>11.800</td>\n",
       "      <td>10.500</td>\n",
       "      <td>25.200</td>\n",
       "      <td>29.300</td>\n",
       "      <td>10.30</td>\n",
       "    </tr>\n",
       "    <tr>\n",
       "      <th>Failure</th>\n",
       "      <td>1</td>\n",
       "      <td>-1</td>\n",
       "      <td>0.00</td>\n",
       "      <td>11.400</td>\n",
       "      <td>9.200</td>\n",
       "      <td>21.700</td>\n",
       "      <td>24.100</td>\n",
       "      <td>9.70</td>\n",
       "    </tr>\n",
       "    <tr>\n",
       "      <th>Failure</th>\n",
       "      <td>1</td>\n",
       "      <td>-1</td>\n",
       "      <td>0.00</td>\n",
       "      <td>15.000</td>\n",
       "      <td>12.300</td>\n",
       "      <td>30.100</td>\n",
       "      <td>33.300</td>\n",
       "      <td>14.00</td>\n",
       "    </tr>\n",
       "    <tr>\n",
       "      <th>mean</th>\n",
       "      <td>-</td>\n",
       "      <td>-</td>\n",
       "      <td>0.55</td>\n",
       "      <td>15.287</td>\n",
       "      <td>12.578</td>\n",
       "      <td>31.578</td>\n",
       "      <td>35.901</td>\n",
       "      <td>13.72</td>\n",
       "    </tr>\n",
       "    <tr>\n",
       "      <th>median</th>\n",
       "      <td>-</td>\n",
       "      <td>-</td>\n",
       "      <td>1.00</td>\n",
       "      <td>15.350</td>\n",
       "      <td>12.600</td>\n",
       "      <td>31.750</td>\n",
       "      <td>36.500</td>\n",
       "      <td>13.80</td>\n",
       "    </tr>\n",
       "  </tbody>\n",
       "</table>\n",
       "</div>"
      ],
      "text/plain": [
       "        Y_actual Y_hat    f1      f2      f3      f4      f5     f6\n",
       "Sucess        -1    -1  0.00  18.000  13.400  36.700  41.300  17.10\n",
       "Sucess        -1    -1  1.00  19.300  13.500  41.600  47.400  17.80\n",
       "Sucess        -1    -1  1.00  11.800   9.600  24.200  27.800   9.70\n",
       "Sucess        -1    -1  0.00  17.100  12.600  35.000  38.900  15.70\n",
       "Sucess        -1    -1  1.00  16.100  12.800  34.900  40.700  15.70\n",
       "Failure        1    -1  1.00   9.500   8.200  19.600  22.400   7.80\n",
       "Failure        1    -1  0.00  18.500  14.600  37.000  42.000  16.60\n",
       "Failure       -1     1  1.00  11.800  10.500  25.200  29.300  10.30\n",
       "Failure        1    -1  0.00  11.400   9.200  21.700  24.100   9.70\n",
       "Failure        1    -1  0.00  15.000  12.300  30.100  33.300  14.00\n",
       "mean           -     -  0.55  15.287  12.578  31.578  35.901  13.72\n",
       "median         -     -  1.00  15.350  12.600  31.750  36.500  13.80"
      ]
     },
     "execution_count": 14,
     "metadata": {},
     "output_type": "execute_result"
    }
   ],
   "source": [
    "summary1"
   ]
  },
  {
   "cell_type": "code",
   "execution_count": 16,
   "metadata": {},
   "outputs": [
    {
     "data": {
      "text/plain": [
       "<function matplotlib.pyplot.show(*args, **kw)>"
      ]
     },
     "execution_count": 16,
     "metadata": {},
     "output_type": "execute_result"
    },
    {
     "data": {
      "image/png": "[encoded data removed]",
      "text/plain": [
       "<Figure size 360x432 with 1 Axes>"
      ]
     },
     "metadata": {
      "needs_background": "light"
     },
     "output_type": "display_data"
    }
   ],
   "source": [
    "#visulize the value of feature of success and failure \n",
    "plt.figure(figsize=(5,6))\n",
    "\n",
    "# plot the feature value of success example\n",
    "plt.plot(np.arange(1,7,1), summary1.iloc[ 0 , 2: ] , \"v\", label=\"success\", c = 'green')\n",
    "for i in range (1,5,1): \n",
    "    plt.plot(np.arange(1,7,1), summary1.iloc[ i , 2: ] , \"v\",  c = 'green')\n",
    "\n",
    "# plot the feature value of failure example\n",
    "plt.plot(np.arange(1,7,1), summary1.iloc[ 5 , 2: ] , \"v\", label=\"failure\", c = 'orangered')\n",
    "for i in range (1,4,1): \n",
    "    plt.plot(np.arange(1,7,1), summary1.iloc[ i+5 , 2: ] , \"v\", c = 'orangered')\n",
    "# plot the mean value of each feature\n",
    "plt.plot(np.arange(1,7,1), summary1.iloc[ 10 , 2: ] , \"x\", label=\"mean\", c = 'blue') \n",
    "\n",
    "plt.xlabel(\"feature\")\n",
    "plt.ylabel(\"value\")\n",
    "xlims = plt.xlim()\n",
    "plt.xlim(xlims)\n",
    "plt.legend(loc= (0.01,0.75))\n",
    "\n",
    "plt.show"
   ]
  },
  {
   "cell_type": "code",
   "execution_count": 15,
   "metadata": {},
   "outputs": [
    {
     "name": "stdout",
     "output_type": "stream",
     "text": [
      "Average value of each features: \n",
      "0     0.550\n",
      "1    15.287\n",
      "2    12.578\n",
      "3    31.578\n",
      "4    35.901\n",
      "5    13.720\n",
      "dtype: float64 \n",
      "\n",
      "Meadian of each features: \n"
     ]
    },
    {
     "data": {
      "text/plain": [
       "0     1.00\n",
       "1    15.35\n",
       "2    12.60\n",
       "3    31.75\n",
       "4    36.50\n",
       "5    13.80\n",
       "dtype: float64"
      ]
     },
     "execution_count": 15,
     "metadata": {},
     "output_type": "execute_result"
    }
   ],
   "source": [
    "xdf = pd.DataFrame(X_test)\n",
    "print(\"Average value of each features: \")\n",
    "print(xdf.mean(axis = 0),'\\n')\n",
    "print(\"Meadian of each features: \")\n",
    "xdf.median(axis = 0) "
   ]
  },
  {
   "cell_type": "code",
   "execution_count": null,
   "metadata": {},
   "outputs": [],
   "source": [
    "##############Placeholder end######################"
   ]
  },
  {
   "cell_type": "code",
   "execution_count": null,
   "metadata": {},
   "outputs": [],
   "source": []
  }
 ],
 "metadata": {
  "kernelspec": {
   "display_name": "Python 3",
   "language": "python",
   "name": "python3"
  },
  "language_info": {
   "codemirror_mode": {
    "name": "ipython",
    "version": 3
   },
   "file_extension": ".py",
   "mimetype": "text/x-python",
   "name": "python",
   "nbconvert_exporter": "python",
   "pygments_lexer": "ipython3",
   "version": "3.8.3"
  }
 },
 "nbformat": 4,
 "nbformat_minor": 4
}
