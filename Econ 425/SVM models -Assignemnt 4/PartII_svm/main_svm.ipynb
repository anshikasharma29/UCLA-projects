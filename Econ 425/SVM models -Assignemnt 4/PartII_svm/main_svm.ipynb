{
 "cells": [
  {
   "cell_type": "code",
   "execution_count": 1,
   "metadata": {},
   "outputs": [],
   "source": [
    "import numpy as np\n",
    "import pandas as pd\n",
    "import download_data as dl\n",
    "import matplotlib.pyplot as plt\n",
    "import sklearn.svm as svm\n",
    "from sklearn import metrics\n",
    "from conf_matrix import func_confusion_matrix\n",
    "from sklearn.model_selection import train_test_split"
   ]
  },
  {
   "cell_type": "code",
   "execution_count": 2,
   "metadata": {},
   "outputs": [],
   "source": [
    "## step 1: load data from csv file. \n",
    "data = dl.download_data('crab.csv').values\n",
    "n = 200\n",
    "#split data \n",
    "S = np.random.permutation(n)\n",
    "#100 training samples\n",
    "Xtr = data[S[:100], :6]\n",
    "Ytr = data[S[:100], 6:]\n",
    "# 100 testing samples\n",
    "X_test = data[S[100:], :6]\n",
    "Y_test = data[S[100:], 6:].ravel()"
   ]
  },
  {
   "cell_type": "code",
   "execution_count": 36,
   "metadata": {},
   "outputs": [],
   "source": [
    "## step 2 randomly split Xtr/Ytr into two even subsets: use one for training, another for validation.\n",
    "#############placeholder 1: training/validation #######################\n",
    "n2 = len(Xtr)\n",
    "S2 = np.random.permutation(n2)\n",
    "# subsets for training and validating models \n",
    "np.random.seed(10)\n",
    "#x_train,x_validation,y_train,y_validation = train_test_split(Xtr,Ytr,test_size=0.5)\n",
    "x_train = Xtr[S2[:50], :6]\n",
    "y_train = Ytr[S2[:50]].flatten()\n",
    "x_validation = Xtr[S2[50:], :6]\n",
    "y_validation = Ytr[S2[50:]].flatten()\n",
    "#############placeholder end #######################"
   ]
  },
  {
   "cell_type": "code",
   "execution_count": 37,
   "metadata": {},
   "outputs": [
    {
     "data": {
      "image/png": "[encoded data removed]",
      "text/plain": [
       "<Figure size 432x288 with 1 Axes>"
      ]
     },
     "metadata": {
      "needs_background": "light"
     },
     "output_type": "display_data"
    }
   ],
   "source": [
    "# 3.1 Plot the validation errors while using different values of C ( with other hyperparameters fixed) \n",
    "#  keeping kernel = \"linear\"\n",
    "#############placeholder 2: Figure 1#######################\n",
    "c_range =  range(1,20)\n",
    "svm_c_error = []\n",
    "for c_value in c_range:\n",
    "    model = svm.SVC(kernel='linear', C=c_value)\n",
    "    model.fit(X=x_train, y=y_train.ravel())\n",
    "    error = 1. - model.score(x_validation, y_validation)\n",
    "    svm_c_error.append(error)\n",
    "plt.plot(c_range, svm_c_error)\n",
    "plt.title('Linear SVM')\n",
    "plt.xlabel('c values')\n",
    "plt.ylabel('error')\n",
    "#plt.xticks(c_range)\n",
    "plt.show()\n",
    "#############placeholder end #######################"
   ]
  },
  {
   "cell_type": "code",
   "execution_count": 38,
   "metadata": {},
   "outputs": [
    {
     "data": {
      "image/png": "[encoded data removed]",
      "text/plain": [
       "<Figure size 432x288 with 1 Axes>"
      ]
     },
     "metadata": {
      "needs_background": "light"
     },
     "output_type": "display_data"
    }
   ],
   "source": [
    "# 3.2 Plot the validation errors while using linear, RBF kernel, or Polynomial kernel ( with other hyperparameters fixed) \n",
    "#############placeholder 3: Figure 2#######################\n",
    "kernel_types = ['linear', 'poly', 'rbf']\n",
    "svm_kernel_error = []\n",
    "for kernel_value in kernel_types:\n",
    "    # your own codes\n",
    "    model = svm.SVC(kernel=kernel_value, C=5)\n",
    "    model.fit(X=x_train, y=y_train.ravel())\n",
    "    error = 1. - model.score(x_validation, y_validation) \n",
    "    svm_kernel_error.append(error)\n",
    "    \n",
    "\n",
    "plt.plot(kernel_types, svm_kernel_error)\n",
    "plt.title('SVM by Kernels')\n",
    "plt.xlabel('Kernel')\n",
    "plt.ylabel('error')\n",
    "plt.xticks(kernel_types)\n",
    "plt.show()\n",
    "#############placeholder end #######################"
   ]
  },
  {
   "cell_type": "code",
   "execution_count": 39,
   "metadata": {},
   "outputs": [
    {
     "data": {
      "text/plain": [
       "SVC(C=5, kernel='linear')"
      ]
     },
     "execution_count": 39,
     "metadata": {},
     "output_type": "execute_result"
    }
   ],
   "source": [
    "## step 4 Select the best model and apply it over the testing subset \n",
    "#############placeholder 4:testing  #######################\n",
    "# write your own codes to select the best hyper-parameters: kernel and C.\n",
    "\n",
    "best_kernel = 'linear'\n",
    "best_c = 5 # poly had many that were the \"best\"\n",
    "model = svm.SVC(kernel=best_kernel, C=best_c)\n",
    "model.fit(X=x_train, y=y_train.ravel())\n",
    "\n",
    "#############placeholder end #######################\n"
   ]
  },
  {
   "cell_type": "code",
   "execution_count": 40,
   "metadata": {},
   "outputs": [
    {
     "name": "stdout",
     "output_type": "stream",
     "text": [
      "Confusion Matrix: \n",
      "[[46  3]\n",
      " [ 3 48]]\n",
      "Average Accuracy: 0.94\n",
      "Per-Class Precision: [0.93877551 0.94117647]\n",
      "Per-Class Recall: [0.93877551 0.94117647]\n"
     ]
    }
   ],
   "source": [
    "## step 5 evaluate your results in terms of accuracy, real, or precision. \n",
    "\n",
    "#############placeholder 5: metrics #######################\n",
    "# func_confusion_matrix is provided in conf_matrix.py\n",
    "# You might re-use this function from previous homework assignment.\n",
    "y_pred = model.predict(X_test)\n",
    "conf_matrix, accuracy, recall_array, precision_array = func_confusion_matrix(Y_test, y_pred)\n",
    "\n",
    "print(\"Confusion Matrix: \")\n",
    "print(conf_matrix)\n",
    "print(\"Average Accuracy: {}\".format(accuracy))\n",
    "print(\"Per-Class Precision: {}\".format(precision_array))\n",
    "print(\"Per-Class Recall: {}\".format(recall_array))\n",
    "\n",
    "#############placeholder end #######################"
   ]
  },
  {
   "cell_type": "code",
   "execution_count": 41,
   "metadata": {},
   "outputs": [
    {
     "name": "stdout",
     "output_type": "stream",
     "text": [
      "Successful examples\n",
      "Y_test: 1.0 y_pred: 1.0\n",
      "Y_test: -1.0 y_pred: -1.0\n",
      "Y_test: -1.0 y_pred: -1.0\n",
      "Y_test: -1.0 y_pred: -1.0\n",
      "Y_test: 1.0 y_pred: 1.0\n",
      "Y_test: -1.0 y_pred: -1.0\n",
      "Y_test: -1.0 y_pred: -1.0\n",
      "Y_test: -1.0 y_pred: -1.0\n",
      "Y_test: -1.0 y_pred: -1.0\n",
      "Y_test: -1.0 y_pred: -1.0\n",
      "Y_test: -1.0 y_pred: -1.0\n",
      "Y_test: -1.0 y_pred: -1.0\n",
      "Y_test: 1.0 y_pred: 1.0\n",
      "Y_test: -1.0 y_pred: -1.0\n",
      "Y_test: 1.0 y_pred: 1.0\n",
      "Y_test: 1.0 y_pred: 1.0\n",
      "Y_test: -1.0 y_pred: -1.0\n",
      "Y_test: -1.0 y_pred: -1.0\n",
      "Y_test: -1.0 y_pred: -1.0\n",
      "Y_test: -1.0 y_pred: -1.0\n",
      "Y_test: 1.0 y_pred: 1.0\n",
      "Y_test: -1.0 y_pred: -1.0\n",
      "Y_test: -1.0 y_pred: -1.0\n",
      "Y_test: 1.0 y_pred: 1.0\n",
      "Y_test: 1.0 y_pred: 1.0\n",
      "Y_test: 1.0 y_pred: 1.0\n",
      "Y_test: 1.0 y_pred: 1.0\n",
      "Y_test: -1.0 y_pred: -1.0\n",
      "Y_test: 1.0 y_pred: 1.0\n",
      "Y_test: 1.0 y_pred: 1.0\n",
      "Y_test: 1.0 y_pred: 1.0\n",
      "Y_test: -1.0 y_pred: -1.0\n",
      "Y_test: 1.0 y_pred: 1.0\n",
      "Y_test: 1.0 y_pred: 1.0\n",
      "Y_test: 1.0 y_pred: 1.0\n",
      "Y_test: -1.0 y_pred: -1.0\n",
      "Y_test: 1.0 y_pred: 1.0\n",
      "Y_test: -1.0 y_pred: -1.0\n",
      "Y_test: -1.0 y_pred: -1.0\n",
      "Y_test: -1.0 y_pred: -1.0\n",
      "Y_test: -1.0 y_pred: -1.0\n",
      "Y_test: 1.0 y_pred: 1.0\n",
      "Y_test: 1.0 y_pred: 1.0\n",
      "Y_test: 1.0 y_pred: 1.0\n",
      "Y_test: 1.0 y_pred: 1.0\n",
      "Y_test: 1.0 y_pred: 1.0\n",
      "Y_test: 1.0 y_pred: 1.0\n",
      "Y_test: 1.0 y_pred: 1.0\n",
      "Y_test: 1.0 y_pred: 1.0\n",
      "Y_test: -1.0 y_pred: -1.0\n",
      "Y_test: 1.0 y_pred: 1.0\n",
      "Y_test: 1.0 y_pred: 1.0\n",
      "Y_test: 1.0 y_pred: 1.0\n",
      "Y_test: -1.0 y_pred: -1.0\n",
      "Y_test: -1.0 y_pred: -1.0\n",
      "Y_test: 1.0 y_pred: 1.0\n",
      "Y_test: -1.0 y_pred: -1.0\n",
      "Y_test: 1.0 y_pred: 1.0\n",
      "Y_test: -1.0 y_pred: -1.0\n",
      "Y_test: 1.0 y_pred: 1.0\n",
      "Y_test: -1.0 y_pred: -1.0\n",
      "Y_test: 1.0 y_pred: 1.0\n",
      "Y_test: 1.0 y_pred: 1.0\n",
      "Y_test: -1.0 y_pred: -1.0\n",
      "Y_test: -1.0 y_pred: -1.0\n",
      "Y_test: -1.0 y_pred: -1.0\n",
      "Y_test: 1.0 y_pred: 1.0\n",
      "Y_test: -1.0 y_pred: -1.0\n",
      "Y_test: 1.0 y_pred: 1.0\n",
      "Y_test: -1.0 y_pred: -1.0\n",
      "Y_test: -1.0 y_pred: -1.0\n",
      "Y_test: 1.0 y_pred: 1.0\n",
      "Y_test: 1.0 y_pred: 1.0\n",
      "Y_test: -1.0 y_pred: -1.0\n",
      "Y_test: -1.0 y_pred: -1.0\n",
      "Y_test: -1.0 y_pred: -1.0\n",
      "Y_test: -1.0 y_pred: -1.0\n",
      "Y_test: 1.0 y_pred: 1.0\n",
      "Y_test: 1.0 y_pred: 1.0\n",
      "Y_test: 1.0 y_pred: 1.0\n",
      "Y_test: -1.0 y_pred: -1.0\n",
      "Y_test: 1.0 y_pred: 1.0\n",
      "Y_test: 1.0 y_pred: 1.0\n",
      "Y_test: 1.0 y_pred: 1.0\n",
      "Y_test: 1.0 y_pred: 1.0\n",
      "Y_test: -1.0 y_pred: -1.0\n",
      "Y_test: -1.0 y_pred: -1.0\n",
      "Y_test: 1.0 y_pred: 1.0\n",
      "Y_test: -1.0 y_pred: -1.0\n",
      "Y_test: -1.0 y_pred: -1.0\n",
      "Y_test: -1.0 y_pred: -1.0\n",
      "Y_test: -1.0 y_pred: -1.0\n",
      "Y_test: -1.0 y_pred: -1.0\n",
      "Y_test: 1.0 y_pred: 1.0\n",
      "Failure examples\n",
      "Y_test: -1.0 y_pred: 1.0\n",
      "Y_test: 1.0 y_pred: -1.0\n",
      "Y_test: 1.0 y_pred: -1.0\n",
      "Y_test: -1.0 y_pred: 1.0\n",
      "Y_test: 1.0 y_pred: -1.0\n",
      "Y_test: -1.0 y_pred: 1.0\n"
     ]
    }
   ],
   "source": [
    "#############placeholder 6: success and failure examples #######################\n",
    "# Success samples: samples for which you model can correctly predict their labels\n",
    "count = 0\n",
    "print(\"Successful examples\")\n",
    "for i in range(0,100):\n",
    "    if Y_test[i]==y_pred[i]:\n",
    "        print(\"Y_test:\" ,Y_test[i], \"y_pred:\" ,y_pred[i] )\n",
    "        count = count+1\n",
    "\n",
    "# Failure samples: samples for which you model can not correctly predict their labels\n",
    "\n",
    "print(\"Failure examples\")\n",
    "for i in range(0,100):\n",
    "    if Y_test[i]!=y_pred[i]:\n",
    "        print(\"Y_test:\" ,Y_test[i], \"y_pred:\" ,y_pred[i] )\n",
    "\n",
    "#############placeholder end #######################\n"
   ]
  },
  {
   "cell_type": "code",
   "execution_count": 42,
   "metadata": {},
   "outputs": [
    {
     "name": "stdout",
     "output_type": "stream",
     "text": [
      "Successful examples\n",
      "Y_actual: 1.0 Y_hat: Feature: 1.0 [ 1.  15.8 15.  34.5 40.3 15.3]\n",
      "Y_actual: -1.0 Y_hat: Feature: -1.0 [ 1.  19.7 15.3 41.9 48.5 17.8]\n",
      "Y_actual: -1.0 Y_hat: Feature: -1.0 [ 0.  18.6 13.4 37.8 41.9 17.3]\n",
      "Y_actual: -1.0 Y_hat: Feature: -1.0 [ 0.  12.5  9.4 24.2 27.  11.2]\n",
      "Y_actual: 1.0 Y_hat: Feature: 1.0 [ 1.  14.7 12.5 30.1 34.7 12.5]\n",
      "\n",
      "\n",
      "Failure examples\n",
      "Y_actual: -1.0 y_hat: 1.0 Feature: [ 0.  12.5  9.4 23.2 26.  10.8]\n",
      "Y_actual: 1.0 y_hat: -1.0 Feature: [ 1.   7.2  6.5 14.7 17.1  6.1]\n",
      "Y_actual: 1.0 y_hat: -1.0 Feature: [ 1.   9.1  8.2 19.2 22.2  7.7]\n",
      "Y_actual: -1.0 y_hat: 1.0 Feature: [ 1.  12.9 11.  26.8 30.9 11.4]\n",
      "Y_actual: 1.0 y_hat: -1.0 Feature: [ 1.   9.5  8.2 19.6 22.4  7.8]\n",
      "Y_actual: -1.0 y_hat: 1.0 Feature: [ 0.  10.7  8.6 20.7 22.7  9.2]\n"
     ]
    }
   ],
   "source": [
    "#Parn\n",
    "#############placeholder 6: success and failure examples #######################\n",
    "# Success samples: samples for which you model can correctly predict their labels\n",
    "count = 0\n",
    "\n",
    "print(\"Successful examples\")\n",
    "feast = []\n",
    "for i in range(0,100):\n",
    "    if Y_test[i]==y_pred[i]:\n",
    "        print(\"Y_actual:\" ,Y_test[i], \"Y_hat:\" , \"Feature:\",y_pred[i], X_test[i])\n",
    "        count = count+1\n",
    "        a = [Y_test[i]]\n",
    "        a.append(y_pred[i])\n",
    "        a.extend(X_test[i])\n",
    "        feast.append(a)\n",
    "    if count ==5: break\n",
    "\n",
    "# Failure samples: In my model, there are only 4 predicted valued that is incorrect.\n",
    "print(\"\\n\")\n",
    "\n",
    "print(\"Failure examples\")\n",
    "\n",
    "feasf = []\n",
    "for i in range(0,100):\n",
    "    if Y_test[i]!=y_pred[i]:\n",
    "        print(\"Y_actual:\" ,Y_test[i], \"y_hat:\" ,y_pred[i], \"Feature:\", X_test[i] )\n",
    "        b = [Y_test[i]]\n",
    "        b.append(y_pred[i])\n",
    "        b.extend(X_test[i])\n",
    "        feast.append(b)\n",
    "\n",
    "#############placeholder end #######################"
   ]
  },
  {
   "cell_type": "code",
   "execution_count": 70,
   "metadata": {},
   "outputs": [
    {
     "name": "stdout",
     "output_type": "stream",
     "text": [
      "Successful examples\n",
      "Y_actual: 1.0 Y_hat: Feature: 1.0 [ 1.  15.8 15.  34.5 40.3 15.3]\n",
      "Y_actual: -1.0 Y_hat: Feature: -1.0 [ 1.  19.7 15.3 41.9 48.5 17.8]\n",
      "Y_actual: -1.0 Y_hat: Feature: -1.0 [ 0.  18.6 13.4 37.8 41.9 17.3]\n",
      "Y_actual: -1.0 Y_hat: Feature: -1.0 [ 0.  12.5  9.4 24.2 27.  11.2]\n",
      "Y_actual: 1.0 Y_hat: Feature: 1.0 [ 1.  14.7 12.5 30.1 34.7 12.5]\n",
      "\n",
      "\n",
      "Failure examples\n",
      "Successful examples\n",
      "Y_actual: 1.0 Y_hat: Feature: 1.0 [ 1.  15.8 15.  34.5 40.3 15.3]\n",
      "Y_actual: -1.0 Y_hat: Feature: -1.0 [ 1.  19.7 15.3 41.9 48.5 17.8]\n",
      "Y_actual: -1.0 Y_hat: Feature: -1.0 [ 0.  18.6 13.4 37.8 41.9 17.3]\n",
      "Y_actual: -1.0 Y_hat: Feature: -1.0 [ 0.  12.5  9.4 24.2 27.  11.2]\n",
      "Y_actual: 1.0 Y_hat: Feature: 1.0 [ 1.  14.7 12.5 30.1 34.7 12.5]\n",
      "\n",
      "\n",
      "Failure examples\n",
      "Y_actual: -1.0 y_hat: 1.0 Feature: [ 0.  12.5  9.4 23.2 26.  10.8]\n",
      "Y_actual: 1.0 y_hat: -1.0 Feature: [ 1.   7.2  6.5 14.7 17.1  6.1]\n",
      "Y_actual: 1.0 y_hat: -1.0 Feature: [ 1.   9.1  8.2 19.2 22.2  7.7]\n",
      "Y_actual: -1.0 y_hat: 1.0 Feature: [ 1.  12.9 11.  26.8 30.9 11.4]\n",
      "Y_actual: 1.0 y_hat: -1.0 Feature: [ 1.   9.5  8.2 19.6 22.4  7.8]\n",
      "Y_actual: -1.0 y_hat: 1.0 Feature: [ 0.  10.7  8.6 20.7 22.7  9.2]\n",
      "Y_actual: -1.0 y_hat: 1.0 Feature: [ 0.  12.5  9.4 23.2 26.  10.8]\n",
      "Y_actual: 1.0 y_hat: -1.0 Feature: [ 1.   7.2  6.5 14.7 17.1  6.1]\n",
      "Y_actual: 1.0 y_hat: -1.0 Feature: [ 1.   9.1  8.2 19.2 22.2  7.7]\n",
      "Y_actual: -1.0 y_hat: 1.0 Feature: [ 1.  12.9 11.  26.8 30.9 11.4]\n",
      "Y_actual: 1.0 y_hat: -1.0 Feature: [ 1.   9.5  8.2 19.6 22.4  7.8]\n",
      "Y_actual: -1.0 y_hat: 1.0 Feature: [ 0.  10.7  8.6 20.7 22.7  9.2]\n"
     ]
    }
   ],
   "source": [
    "count = 0\n",
    "\n",
    "print(\"Successful examples\")\n",
    "feast = []\n",
    "for i in range(0,100):\n",
    "    if Y_test[i]==y_pred[i]:\n",
    "        print(\"Y_actual:\" ,Y_test[i], \"Y_hat:\" , \"Feature:\",y_pred[i], X_test[i])\n",
    "        count = count+1\n",
    "        a = [Y_test[i]]\n",
    "        a.append(y_pred[i])\n",
    "        a.extend(X_test[i])\n",
    "        feast.append(a)\n",
    "    if count ==5: break\n",
    "\n",
    "# Failure samples: In my model, there are only 4 predicted valued that is incorrect.\n",
    "print(\"\\n\")\n",
    "\n",
    "print(\"Failure examples\")\n",
    "\n",
    "feasf = []\n",
    "count = 0\n",
    "\n",
    "print(\"Successful examples\")\n",
    "feast = []\n",
    "for i in range(0,100):\n",
    "    if Y_test[i]==y_pred[i]:\n",
    "        print(\"Y_actual:\" ,Y_test[i], \"Y_hat:\" , \"Feature:\",y_pred[i], X_test[i])\n",
    "        count = count+1\n",
    "        a = [Y_test[i]]\n",
    "        a.append(y_pred[i])\n",
    "        a.extend(X_test[i])\n",
    "        feast.append(a)\n",
    "    if count ==5: break\n",
    "\n",
    "# Failure samples: In my model, there are only 4 predicted valued that is incorrect.\n",
    "print(\"\\n\")\n",
    "\n",
    "print(\"Failure examples\")\n",
    "\n",
    "feasf = []\n",
    "for i in range(0,100):\n",
    "    if Y_test[i]!=y_pred[i]:\n",
    "        print(\"Y_actual:\" ,Y_test[i], \"y_hat:\" ,y_pred[i], \"Feature:\", X_test[i] )\n",
    "        b = [Y_test[i]]\n",
    "        b.append(y_pred[i])\n",
    "        b.extend(X_test[i])\n",
    "        feast.append(b)\n",
    "count = 0\n",
    "for i in range(0,100):\n",
    "    if Y_test[i]!=y_pred[i]:\n",
    "        print(\"Y_actual:\" ,Y_test[i], \"y_hat:\" ,y_pred[i], \"Feature:\", X_test[i] )\n",
    "        b = [Y_test[i]]\n",
    "        b.append(y_pred[i])\n",
    "        b.extend(X_test[i])\n",
    "        feasf.append(b)\n"
   ]
  },
  {
   "cell_type": "code",
   "execution_count": 63,
   "metadata": {},
   "outputs": [
    {
     "name": "stdout",
     "output_type": "stream",
     "text": [
      "Average value of each features: \n",
      "0     0.520\n",
      "1    15.363\n",
      "2    12.593\n",
      "3    31.686\n",
      "4    35.978\n",
      "5    13.844\n",
      "dtype: float64 \n",
      "\n",
      "Meadian of each features: \n"
     ]
    },
    {
     "data": {
      "text/plain": [
       "0     1.00\n",
       "1    15.60\n",
       "2    12.65\n",
       "3    32.35\n",
       "4    37.00\n",
       "5    13.95\n",
       "dtype: float64"
      ]
     },
     "execution_count": 63,
     "metadata": {},
     "output_type": "execute_result"
    }
   ],
   "source": [
    "# Average value of \n",
    "import pandas as pd\n",
    "xdf = pd.DataFrame(X_test)\n",
    "print(\"Average value of each features: \")\n",
    "print(xdf.mean(axis = 0),'\\n')\n",
    "print(\"Meadian of each features: \")\n",
    "xdf.median(axis = 0) "
   ]
  },
  {
   "cell_type": "code",
   "execution_count": 69,
   "metadata": {},
   "outputs": [
    {
     "data": {
      "text/plain": [
       "[[1.0, 1.0, 1.0, 15.8, 15.0, 34.5, 40.3, 15.3],\n",
       " [-1.0, -1.0, 1.0, 19.7, 15.3, 41.9, 48.5, 17.8],\n",
       " [-1.0, -1.0, 0.0, 18.6, 13.4, 37.8, 41.9, 17.3],\n",
       " [-1.0, -1.0, 0.0, 12.5, 9.4, 24.2, 27.0, 11.2],\n",
       " [1.0, 1.0, 1.0, 14.7, 12.5, 30.1, 34.7, 12.5],\n",
       " [-1.0, 1.0, 0.0, 12.5, 9.4, 23.2, 26.0, 10.8],\n",
       " [1.0, -1.0, 1.0, 7.2, 6.5, 14.7, 17.1, 6.1],\n",
       " [1.0, -1.0, 1.0, 9.1, 8.2, 19.2, 22.2, 7.7],\n",
       " [-1.0, 1.0, 1.0, 12.9, 11.0, 26.8, 30.9, 11.4],\n",
       " [1.0, -1.0, 1.0, 9.5, 8.2, 19.6, 22.4, 7.8],\n",
       " [-1.0, 1.0, 0.0, 10.7, 8.6, 20.7, 22.7, 9.2]]"
      ]
     },
     "execution_count": 69,
     "metadata": {},
     "output_type": "execute_result"
    }
   ],
   "source": [
    "sum1 = feast + feasf # combine dataframe (sucessful cases and failure case)\n",
    "sum1"
   ]
  },
  {
   "cell_type": "code",
   "execution_count": 65,
   "metadata": {},
   "outputs": [
    {
     "ename": "ValueError",
     "evalue": "Shape of passed values is (11, 8), indices imply (9, 8)",
     "output_type": "error",
     "traceback": [
      "\u001b[1;31m---------------------------------------------------------------------------\u001b[0m",
      "\u001b[1;31mValueError\u001b[0m                                Traceback (most recent call last)",
      "\u001b[1;32m~\\anaconda3\\lib\\site-packages\\pandas\\core\\internals\\managers.py\u001b[0m in \u001b[0;36mcreate_block_manager_from_arrays\u001b[1;34m(arrays, names, axes)\u001b[0m\n\u001b[0;32m   1670\u001b[0m         \u001b[0mblocks\u001b[0m \u001b[1;33m=\u001b[0m \u001b[0mform_blocks\u001b[0m\u001b[1;33m(\u001b[0m\u001b[0marrays\u001b[0m\u001b[1;33m,\u001b[0m \u001b[0mnames\u001b[0m\u001b[1;33m,\u001b[0m \u001b[0maxes\u001b[0m\u001b[1;33m)\u001b[0m\u001b[1;33m\u001b[0m\u001b[1;33m\u001b[0m\u001b[0m\n\u001b[1;32m-> 1671\u001b[1;33m         \u001b[0mmgr\u001b[0m \u001b[1;33m=\u001b[0m \u001b[0mBlockManager\u001b[0m\u001b[1;33m(\u001b[0m\u001b[0mblocks\u001b[0m\u001b[1;33m,\u001b[0m \u001b[0maxes\u001b[0m\u001b[1;33m)\u001b[0m\u001b[1;33m\u001b[0m\u001b[1;33m\u001b[0m\u001b[0m\n\u001b[0m\u001b[0;32m   1672\u001b[0m         \u001b[0mmgr\u001b[0m\u001b[1;33m.\u001b[0m\u001b[0m_consolidate_inplace\u001b[0m\u001b[1;33m(\u001b[0m\u001b[1;33m)\u001b[0m\u001b[1;33m\u001b[0m\u001b[1;33m\u001b[0m\u001b[0m\n",
      "\u001b[1;32m~\\anaconda3\\lib\\site-packages\\pandas\\core\\internals\\managers.py\u001b[0m in \u001b[0;36m__init__\u001b[1;34m(self, blocks, axes, do_integrity_check)\u001b[0m\n\u001b[0;32m    138\u001b[0m         \u001b[1;32mif\u001b[0m \u001b[0mdo_integrity_check\u001b[0m\u001b[1;33m:\u001b[0m\u001b[1;33m\u001b[0m\u001b[1;33m\u001b[0m\u001b[0m\n\u001b[1;32m--> 139\u001b[1;33m             \u001b[0mself\u001b[0m\u001b[1;33m.\u001b[0m\u001b[0m_verify_integrity\u001b[0m\u001b[1;33m(\u001b[0m\u001b[1;33m)\u001b[0m\u001b[1;33m\u001b[0m\u001b[1;33m\u001b[0m\u001b[0m\n\u001b[0m\u001b[0;32m    140\u001b[0m \u001b[1;33m\u001b[0m\u001b[0m\n",
      "\u001b[1;32m~\\anaconda3\\lib\\site-packages\\pandas\\core\\internals\\managers.py\u001b[0m in \u001b[0;36m_verify_integrity\u001b[1;34m(self)\u001b[0m\n\u001b[0;32m    333\u001b[0m             \u001b[1;32mif\u001b[0m \u001b[0mblock\u001b[0m\u001b[1;33m.\u001b[0m\u001b[0m_verify_integrity\u001b[0m \u001b[1;32mand\u001b[0m \u001b[0mblock\u001b[0m\u001b[1;33m.\u001b[0m\u001b[0mshape\u001b[0m\u001b[1;33m[\u001b[0m\u001b[1;36m1\u001b[0m\u001b[1;33m:\u001b[0m\u001b[1;33m]\u001b[0m \u001b[1;33m!=\u001b[0m \u001b[0mmgr_shape\u001b[0m\u001b[1;33m[\u001b[0m\u001b[1;36m1\u001b[0m\u001b[1;33m:\u001b[0m\u001b[1;33m]\u001b[0m\u001b[1;33m:\u001b[0m\u001b[1;33m\u001b[0m\u001b[1;33m\u001b[0m\u001b[0m\n\u001b[1;32m--> 334\u001b[1;33m                 \u001b[0mconstruction_error\u001b[0m\u001b[1;33m(\u001b[0m\u001b[0mtot_items\u001b[0m\u001b[1;33m,\u001b[0m \u001b[0mblock\u001b[0m\u001b[1;33m.\u001b[0m\u001b[0mshape\u001b[0m\u001b[1;33m[\u001b[0m\u001b[1;36m1\u001b[0m\u001b[1;33m:\u001b[0m\u001b[1;33m]\u001b[0m\u001b[1;33m,\u001b[0m \u001b[0mself\u001b[0m\u001b[1;33m.\u001b[0m\u001b[0maxes\u001b[0m\u001b[1;33m)\u001b[0m\u001b[1;33m\u001b[0m\u001b[1;33m\u001b[0m\u001b[0m\n\u001b[0m\u001b[0;32m    335\u001b[0m         \u001b[1;32mif\u001b[0m \u001b[0mlen\u001b[0m\u001b[1;33m(\u001b[0m\u001b[0mself\u001b[0m\u001b[1;33m.\u001b[0m\u001b[0mitems\u001b[0m\u001b[1;33m)\u001b[0m \u001b[1;33m!=\u001b[0m \u001b[0mtot_items\u001b[0m\u001b[1;33m:\u001b[0m\u001b[1;33m\u001b[0m\u001b[1;33m\u001b[0m\u001b[0m\n",
      "\u001b[1;32m~\\anaconda3\\lib\\site-packages\\pandas\\core\\internals\\managers.py\u001b[0m in \u001b[0;36mconstruction_error\u001b[1;34m(tot_items, block_shape, axes, e)\u001b[0m\n\u001b[0;32m   1693\u001b[0m         \u001b[1;32mraise\u001b[0m \u001b[0mValueError\u001b[0m\u001b[1;33m(\u001b[0m\u001b[1;34m\"Empty data passed with indices specified.\"\u001b[0m\u001b[1;33m)\u001b[0m\u001b[1;33m\u001b[0m\u001b[1;33m\u001b[0m\u001b[0m\n\u001b[1;32m-> 1694\u001b[1;33m     \u001b[1;32mraise\u001b[0m \u001b[0mValueError\u001b[0m\u001b[1;33m(\u001b[0m\u001b[1;34mf\"Shape of passed values is {passed}, indices imply {implied}\"\u001b[0m\u001b[1;33m)\u001b[0m\u001b[1;33m\u001b[0m\u001b[1;33m\u001b[0m\u001b[0m\n\u001b[0m\u001b[0;32m   1695\u001b[0m \u001b[1;33m\u001b[0m\u001b[0m\n",
      "\u001b[1;31mValueError\u001b[0m: Shape of passed values is (11, 8), indices imply (9, 8)",
      "\nDuring handling of the above exception, another exception occurred:\n",
      "\u001b[1;31mValueError\u001b[0m                                Traceback (most recent call last)",
      "\u001b[1;32m<ipython-input-65-c0f9d5dc046e>\u001b[0m in \u001b[0;36m<module>\u001b[1;34m\u001b[0m\n\u001b[0;32m      1\u001b[0m \u001b[1;31m#Rename index and column\u001b[0m\u001b[1;33m\u001b[0m\u001b[1;33m\u001b[0m\u001b[1;33m\u001b[0m\u001b[0m\n\u001b[1;32m----> 2\u001b[1;33m summary = pd.DataFrame(sum1, columns = ['Y_actual', 'Y_hat', 'f1','f2','f3','f4','f5','f6' ], \n\u001b[0m\u001b[0;32m      3\u001b[0m                        index = np.repeat(['Sucess', 'Failure'], [5, 4], axis=0) )\n",
      "\u001b[1;32m~\\anaconda3\\lib\\site-packages\\pandas\\core\\frame.py\u001b[0m in \u001b[0;36m__init__\u001b[1;34m(self, data, index, columns, dtype, copy)\u001b[0m\n\u001b[0;32m    484\u001b[0m                             \u001b[0mindex\u001b[0m \u001b[1;33m=\u001b[0m \u001b[0mibase\u001b[0m\u001b[1;33m.\u001b[0m\u001b[0mdefault_index\u001b[0m\u001b[1;33m(\u001b[0m\u001b[0mlen\u001b[0m\u001b[1;33m(\u001b[0m\u001b[0mdata\u001b[0m\u001b[1;33m)\u001b[0m\u001b[1;33m)\u001b[0m\u001b[1;33m\u001b[0m\u001b[1;33m\u001b[0m\u001b[0m\n\u001b[0;32m    485\u001b[0m \u001b[1;33m\u001b[0m\u001b[0m\n\u001b[1;32m--> 486\u001b[1;33m                     \u001b[0mmgr\u001b[0m \u001b[1;33m=\u001b[0m \u001b[0marrays_to_mgr\u001b[0m\u001b[1;33m(\u001b[0m\u001b[0marrays\u001b[0m\u001b[1;33m,\u001b[0m \u001b[0mcolumns\u001b[0m\u001b[1;33m,\u001b[0m \u001b[0mindex\u001b[0m\u001b[1;33m,\u001b[0m \u001b[0mcolumns\u001b[0m\u001b[1;33m,\u001b[0m \u001b[0mdtype\u001b[0m\u001b[1;33m=\u001b[0m\u001b[0mdtype\u001b[0m\u001b[1;33m)\u001b[0m\u001b[1;33m\u001b[0m\u001b[1;33m\u001b[0m\u001b[0m\n\u001b[0m\u001b[0;32m    487\u001b[0m                 \u001b[1;32melse\u001b[0m\u001b[1;33m:\u001b[0m\u001b[1;33m\u001b[0m\u001b[1;33m\u001b[0m\u001b[0m\n\u001b[0;32m    488\u001b[0m                     \u001b[0mmgr\u001b[0m \u001b[1;33m=\u001b[0m \u001b[0minit_ndarray\u001b[0m\u001b[1;33m(\u001b[0m\u001b[0mdata\u001b[0m\u001b[1;33m,\u001b[0m \u001b[0mindex\u001b[0m\u001b[1;33m,\u001b[0m \u001b[0mcolumns\u001b[0m\u001b[1;33m,\u001b[0m \u001b[0mdtype\u001b[0m\u001b[1;33m=\u001b[0m\u001b[0mdtype\u001b[0m\u001b[1;33m,\u001b[0m \u001b[0mcopy\u001b[0m\u001b[1;33m=\u001b[0m\u001b[0mcopy\u001b[0m\u001b[1;33m)\u001b[0m\u001b[1;33m\u001b[0m\u001b[1;33m\u001b[0m\u001b[0m\n",
      "\u001b[1;32m~\\anaconda3\\lib\\site-packages\\pandas\\core\\internals\\construction.py\u001b[0m in \u001b[0;36marrays_to_mgr\u001b[1;34m(arrays, arr_names, index, columns, dtype)\u001b[0m\n\u001b[0;32m     72\u001b[0m     \u001b[0maxes\u001b[0m \u001b[1;33m=\u001b[0m \u001b[1;33m[\u001b[0m\u001b[0mensure_index\u001b[0m\u001b[1;33m(\u001b[0m\u001b[0mcolumns\u001b[0m\u001b[1;33m)\u001b[0m\u001b[1;33m,\u001b[0m \u001b[0mindex\u001b[0m\u001b[1;33m]\u001b[0m\u001b[1;33m\u001b[0m\u001b[1;33m\u001b[0m\u001b[0m\n\u001b[0;32m     73\u001b[0m \u001b[1;33m\u001b[0m\u001b[0m\n\u001b[1;32m---> 74\u001b[1;33m     \u001b[1;32mreturn\u001b[0m \u001b[0mcreate_block_manager_from_arrays\u001b[0m\u001b[1;33m(\u001b[0m\u001b[0marrays\u001b[0m\u001b[1;33m,\u001b[0m \u001b[0marr_names\u001b[0m\u001b[1;33m,\u001b[0m \u001b[0maxes\u001b[0m\u001b[1;33m)\u001b[0m\u001b[1;33m\u001b[0m\u001b[1;33m\u001b[0m\u001b[0m\n\u001b[0m\u001b[0;32m     75\u001b[0m \u001b[1;33m\u001b[0m\u001b[0m\n\u001b[0;32m     76\u001b[0m \u001b[1;33m\u001b[0m\u001b[0m\n",
      "\u001b[1;32m~\\anaconda3\\lib\\site-packages\\pandas\\core\\internals\\managers.py\u001b[0m in \u001b[0;36mcreate_block_manager_from_arrays\u001b[1;34m(arrays, names, axes)\u001b[0m\n\u001b[0;32m   1673\u001b[0m         \u001b[1;32mreturn\u001b[0m \u001b[0mmgr\u001b[0m\u001b[1;33m\u001b[0m\u001b[1;33m\u001b[0m\u001b[0m\n\u001b[0;32m   1674\u001b[0m     \u001b[1;32mexcept\u001b[0m \u001b[0mValueError\u001b[0m \u001b[1;32mas\u001b[0m \u001b[0me\u001b[0m\u001b[1;33m:\u001b[0m\u001b[1;33m\u001b[0m\u001b[1;33m\u001b[0m\u001b[0m\n\u001b[1;32m-> 1675\u001b[1;33m         \u001b[0mconstruction_error\u001b[0m\u001b[1;33m(\u001b[0m\u001b[0mlen\u001b[0m\u001b[1;33m(\u001b[0m\u001b[0marrays\u001b[0m\u001b[1;33m)\u001b[0m\u001b[1;33m,\u001b[0m \u001b[0marrays\u001b[0m\u001b[1;33m[\u001b[0m\u001b[1;36m0\u001b[0m\u001b[1;33m]\u001b[0m\u001b[1;33m.\u001b[0m\u001b[0mshape\u001b[0m\u001b[1;33m,\u001b[0m \u001b[0maxes\u001b[0m\u001b[1;33m,\u001b[0m \u001b[0me\u001b[0m\u001b[1;33m)\u001b[0m\u001b[1;33m\u001b[0m\u001b[1;33m\u001b[0m\u001b[0m\n\u001b[0m\u001b[0;32m   1676\u001b[0m \u001b[1;33m\u001b[0m\u001b[0m\n\u001b[0;32m   1677\u001b[0m \u001b[1;33m\u001b[0m\u001b[0m\n",
      "\u001b[1;32m~\\anaconda3\\lib\\site-packages\\pandas\\core\\internals\\managers.py\u001b[0m in \u001b[0;36mconstruction_error\u001b[1;34m(tot_items, block_shape, axes, e)\u001b[0m\n\u001b[0;32m   1692\u001b[0m     \u001b[1;32mif\u001b[0m \u001b[0mblock_shape\u001b[0m\u001b[1;33m[\u001b[0m\u001b[1;36m0\u001b[0m\u001b[1;33m]\u001b[0m \u001b[1;33m==\u001b[0m \u001b[1;36m0\u001b[0m\u001b[1;33m:\u001b[0m\u001b[1;33m\u001b[0m\u001b[1;33m\u001b[0m\u001b[0m\n\u001b[0;32m   1693\u001b[0m         \u001b[1;32mraise\u001b[0m \u001b[0mValueError\u001b[0m\u001b[1;33m(\u001b[0m\u001b[1;34m\"Empty data passed with indices specified.\"\u001b[0m\u001b[1;33m)\u001b[0m\u001b[1;33m\u001b[0m\u001b[1;33m\u001b[0m\u001b[0m\n\u001b[1;32m-> 1694\u001b[1;33m     \u001b[1;32mraise\u001b[0m \u001b[0mValueError\u001b[0m\u001b[1;33m(\u001b[0m\u001b[1;34mf\"Shape of passed values is {passed}, indices imply {implied}\"\u001b[0m\u001b[1;33m)\u001b[0m\u001b[1;33m\u001b[0m\u001b[1;33m\u001b[0m\u001b[0m\n\u001b[0m\u001b[0;32m   1695\u001b[0m \u001b[1;33m\u001b[0m\u001b[0m\n\u001b[0;32m   1696\u001b[0m \u001b[1;33m\u001b[0m\u001b[0m\n",
      "\u001b[1;31mValueError\u001b[0m: Shape of passed values is (11, 8), indices imply (9, 8)"
     ]
    }
   ],
   "source": [
    "#Rename index and column\n",
    "summary = pd.DataFrame(sum1, columns = ['Y_actual', 'Y_hat', 'f1','f2','f3','f4','f5','f6' ], \n",
    "                       index = np.repeat(['Sucess', 'Failure'], [5, 4], axis=0))"
   ]
  },
  {
   "cell_type": "code",
   "execution_count": 58,
   "metadata": {},
   "outputs": [
    {
     "data": {
      "text/html": [
       "<div>\n",
       "<style scoped>\n",
       "    .dataframe tbody tr th:only-of-type {\n",
       "        vertical-align: middle;\n",
       "    }\n",
       "\n",
       "    .dataframe tbody tr th {\n",
       "        vertical-align: top;\n",
       "    }\n",
       "\n",
       "    .dataframe thead th {\n",
       "        text-align: right;\n",
       "    }\n",
       "</style>\n",
       "<table border=\"1\" class=\"dataframe\">\n",
       "  <thead>\n",
       "    <tr style=\"text-align: right;\">\n",
       "      <th></th>\n",
       "      <th>Y_actual</th>\n",
       "      <th>Y_hat</th>\n",
       "      <th>f1</th>\n",
       "      <th>f2</th>\n",
       "      <th>f3</th>\n",
       "      <th>f4</th>\n",
       "      <th>f5</th>\n",
       "      <th>f6</th>\n",
       "    </tr>\n",
       "  </thead>\n",
       "  <tbody>\n",
       "    <tr>\n",
       "      <th>mean</th>\n",
       "      <td>-</td>\n",
       "      <td>-</td>\n",
       "      <td>0.52</td>\n",
       "      <td>15.363</td>\n",
       "      <td>12.593</td>\n",
       "      <td>31.686</td>\n",
       "      <td>35.978</td>\n",
       "      <td>13.844</td>\n",
       "    </tr>\n",
       "    <tr>\n",
       "      <th>median</th>\n",
       "      <td>-</td>\n",
       "      <td>-</td>\n",
       "      <td>1.00</td>\n",
       "      <td>15.600</td>\n",
       "      <td>12.650</td>\n",
       "      <td>32.350</td>\n",
       "      <td>37.000</td>\n",
       "      <td>13.950</td>\n",
       "    </tr>\n",
       "  </tbody>\n",
       "</table>\n",
       "</div>"
      ],
      "text/plain": [
       "       Y_actual Y_hat    f1      f2      f3      f4      f5      f6\n",
       "mean          -     -  0.52  15.363  12.593  31.686  35.978  13.844\n",
       "median        -     -  1.00  15.600  12.650  32.350  37.000  13.950"
      ]
     },
     "execution_count": 58,
     "metadata": {},
     "output_type": "execute_result"
    }
   ],
   "source": [
    "#Sumarize statistics of features\n",
    "mea = pd.DataFrame(xdf.mean(axis = 0), columns = ['mean']).T #mean\n",
    "med = pd.DataFrame(xdf.median(axis = 0), columns = ['median']).T #meandian\n",
    "sum3 = pd.concat([mea, med]) #comebine table\n",
    "sum3.columns = ['f1','f2','f3','f4','f5','f6'] # rename columns\n",
    "sum3.insert(0, \"Y_actual\",['-','-'] ) #insert Na for Y actual\n",
    "sum3.insert(1, \"Y_hat\",['-','-'] ) \n",
    "sum3"
   ]
  },
  {
   "cell_type": "code",
   "execution_count": 59,
   "metadata": {},
   "outputs": [
    {
     "ename": "NameError",
     "evalue": "name 'summary' is not defined",
     "output_type": "error",
     "traceback": [
      "\u001b[1;31m---------------------------------------------------------------------------\u001b[0m",
      "\u001b[1;31mNameError\u001b[0m                                 Traceback (most recent call last)",
      "\u001b[1;32m<ipython-input-59-14713ce15eda>\u001b[0m in \u001b[0;36m<module>\u001b[1;34m\u001b[0m\n\u001b[1;32m----> 1\u001b[1;33m \u001b[0msummary1\u001b[0m \u001b[1;33m=\u001b[0m \u001b[0mpd\u001b[0m\u001b[1;33m.\u001b[0m\u001b[0mconcat\u001b[0m\u001b[1;33m(\u001b[0m\u001b[1;33m[\u001b[0m\u001b[0msummary\u001b[0m\u001b[1;33m,\u001b[0m\u001b[0msum3\u001b[0m\u001b[1;33m]\u001b[0m\u001b[1;33m)\u001b[0m\u001b[1;33m\u001b[0m\u001b[1;33m\u001b[0m\u001b[0m\n\u001b[0m",
      "\u001b[1;31mNameError\u001b[0m: name 'summary' is not defined"
     ]
    }
   ],
   "source": [
    "summary1 = pd.concat([summary,sum3])"
   ]
  },
  {
   "cell_type": "code",
   "execution_count": 60,
   "metadata": {},
   "outputs": [
    {
     "ename": "NameError",
     "evalue": "name 'summary1' is not defined",
     "output_type": "error",
     "traceback": [
      "\u001b[1;31m---------------------------------------------------------------------------\u001b[0m",
      "\u001b[1;31mNameError\u001b[0m                                 Traceback (most recent call last)",
      "\u001b[1;32m<ipython-input-60-f8c6040280cd>\u001b[0m in \u001b[0;36m<module>\u001b[1;34m\u001b[0m\n\u001b[1;32m----> 1\u001b[1;33m \u001b[0msummary1\u001b[0m\u001b[1;33m\u001b[0m\u001b[1;33m\u001b[0m\u001b[0m\n\u001b[0m",
      "\u001b[1;31mNameError\u001b[0m: name 'summary1' is not defined"
     ]
    }
   ],
   "source": [
    "summary1"
   ]
  },
  {
   "cell_type": "code",
   "execution_count": 61,
   "metadata": {},
   "outputs": [
    {
     "ename": "NameError",
     "evalue": "name 'summary1' is not defined",
     "output_type": "error",
     "traceback": [
      "\u001b[1;31m---------------------------------------------------------------------------\u001b[0m",
      "\u001b[1;31mNameError\u001b[0m                                 Traceback (most recent call last)",
      "\u001b[1;32m<ipython-input-61-195342f9ff45>\u001b[0m in \u001b[0;36m<module>\u001b[1;34m\u001b[0m\n\u001b[0;32m      1\u001b[0m \u001b[0mplt\u001b[0m\u001b[1;33m.\u001b[0m\u001b[0mfigure\u001b[0m\u001b[1;33m(\u001b[0m\u001b[0mfigsize\u001b[0m\u001b[1;33m=\u001b[0m\u001b[1;33m(\u001b[0m\u001b[1;36m5\u001b[0m\u001b[1;33m,\u001b[0m\u001b[1;36m6\u001b[0m\u001b[1;33m)\u001b[0m\u001b[1;33m)\u001b[0m\u001b[1;33m\u001b[0m\u001b[1;33m\u001b[0m\u001b[0m\n\u001b[1;32m----> 2\u001b[1;33m \u001b[0mplt\u001b[0m\u001b[1;33m.\u001b[0m\u001b[0mplot\u001b[0m\u001b[1;33m(\u001b[0m\u001b[0mnp\u001b[0m\u001b[1;33m.\u001b[0m\u001b[0marange\u001b[0m\u001b[1;33m(\u001b[0m\u001b[1;36m1\u001b[0m\u001b[1;33m,\u001b[0m\u001b[1;36m7\u001b[0m\u001b[1;33m,\u001b[0m\u001b[1;36m1\u001b[0m\u001b[1;33m)\u001b[0m\u001b[1;33m,\u001b[0m \u001b[0msummary1\u001b[0m\u001b[1;33m.\u001b[0m\u001b[0miloc\u001b[0m\u001b[1;33m[\u001b[0m \u001b[1;36m0\u001b[0m \u001b[1;33m,\u001b[0m \u001b[1;36m2\u001b[0m\u001b[1;33m:\u001b[0m \u001b[1;33m]\u001b[0m \u001b[1;33m,\u001b[0m \u001b[1;34m\"v\"\u001b[0m\u001b[1;33m,\u001b[0m \u001b[0mlabel\u001b[0m\u001b[1;33m=\u001b[0m\u001b[1;34m\"success\"\u001b[0m\u001b[1;33m,\u001b[0m \u001b[0mc\u001b[0m \u001b[1;33m=\u001b[0m \u001b[1;34m'green'\u001b[0m\u001b[1;33m)\u001b[0m\u001b[1;33m\u001b[0m\u001b[1;33m\u001b[0m\u001b[0m\n\u001b[0m\u001b[0;32m      3\u001b[0m \u001b[1;32mfor\u001b[0m \u001b[0mi\u001b[0m \u001b[1;32min\u001b[0m \u001b[0mrange\u001b[0m \u001b[1;33m(\u001b[0m\u001b[1;36m1\u001b[0m\u001b[1;33m,\u001b[0m\u001b[1;36m5\u001b[0m\u001b[1;33m,\u001b[0m\u001b[1;36m1\u001b[0m\u001b[1;33m)\u001b[0m\u001b[1;33m:\u001b[0m\u001b[1;33m\u001b[0m\u001b[1;33m\u001b[0m\u001b[0m\n\u001b[0;32m      4\u001b[0m     \u001b[0mplt\u001b[0m\u001b[1;33m.\u001b[0m\u001b[0mplot\u001b[0m\u001b[1;33m(\u001b[0m\u001b[0mnp\u001b[0m\u001b[1;33m.\u001b[0m\u001b[0marange\u001b[0m\u001b[1;33m(\u001b[0m\u001b[1;36m1\u001b[0m\u001b[1;33m,\u001b[0m\u001b[1;36m7\u001b[0m\u001b[1;33m,\u001b[0m\u001b[1;36m1\u001b[0m\u001b[1;33m)\u001b[0m\u001b[1;33m,\u001b[0m \u001b[0msummary1\u001b[0m\u001b[1;33m.\u001b[0m\u001b[0miloc\u001b[0m\u001b[1;33m[\u001b[0m \u001b[0mi\u001b[0m \u001b[1;33m,\u001b[0m \u001b[1;36m2\u001b[0m\u001b[1;33m:\u001b[0m \u001b[1;33m]\u001b[0m \u001b[1;33m,\u001b[0m \u001b[1;34m\"v\"\u001b[0m\u001b[1;33m,\u001b[0m  \u001b[0mc\u001b[0m \u001b[1;33m=\u001b[0m \u001b[1;34m'green'\u001b[0m\u001b[1;33m)\u001b[0m\u001b[1;33m\u001b[0m\u001b[1;33m\u001b[0m\u001b[0m\n\u001b[0;32m      5\u001b[0m \u001b[1;33m\u001b[0m\u001b[0m\n",
      "\u001b[1;31mNameError\u001b[0m: name 'summary1' is not defined"
     ]
    },
    {
     "data": {
      "text/plain": [
       "<Figure size 360x432 with 0 Axes>"
      ]
     },
     "metadata": {},
     "output_type": "display_data"
    }
   ],
   "source": [
    "plt.figure(figsize=(5,6))\n",
    "plt.plot(np.arange(1,7,1), summary1.iloc[ 0 , 2: ] , \"v\", label=\"success\", c = 'green')\n",
    "for i in range (1,5,1): \n",
    "    plt.plot(np.arange(1,7,1), summary1.iloc[ i , 2: ] , \"v\",  c = 'green')\n",
    "\n",
    "plt.plot(np.arange(1,7,1), summary1.iloc[ 5 , 2: ] , \"v\", label=\"failure\", c = 'orangered')\n",
    "for i in range (1,4,1): \n",
    "    plt.plot(np.arange(1,7,1), summary1.iloc[ i+5 , 2: ] , \"v\", c = 'orangered')\n",
    "plt.plot(np.arange(1,7,1), summary1.iloc[ 10 , 2: ] , \"x\", label=\"mean\", c = 'blue')\n",
    "\n",
    "plt.xlabel(\"feature\")\n",
    "plt.ylabel(\"value\")\n",
    "xlims = plt.xlim()\n",
    "plt.xlim(xlims)\n",
    "plt.legend(loc= (0.01,0.75))\n",
    "\n",
    "plt.show"
   ]
  },
  {
   "cell_type": "code",
   "execution_count": 48,
   "metadata": {},
   "outputs": [
    {
     "name": "stdout",
     "output_type": "stream",
     "text": [
      "Average value of each features: \n",
      "0     0.520\n",
      "1    15.363\n",
      "2    12.593\n",
      "3    31.686\n",
      "4    35.978\n",
      "5    13.844\n",
      "dtype: float64 \n",
      "\n",
      "Meadian of each features: \n"
     ]
    },
    {
     "data": {
      "text/plain": [
       "0     1.00\n",
       "1    15.60\n",
       "2    12.65\n",
       "3    32.35\n",
       "4    37.00\n",
       "5    13.95\n",
       "dtype: float64"
      ]
     },
     "execution_count": 48,
     "metadata": {},
     "output_type": "execute_result"
    }
   ],
   "source": [
    "xdf = pd.DataFrame(X_test)\n",
    "print(\"Average value of each features: \")\n",
    "print(xdf.mean(axis = 0),'\\n')\n",
    "print(\"Meadian of each features: \")\n",
    "xdf.median(axis = 0) "
   ]
  }
 ],
 "metadata": {
  "kernelspec": {
   "display_name": "Python 3",
   "language": "python",
   "name": "python3"
  },
  "language_info": {
   "codemirror_mode": {
    "name": "ipython",
    "version": 3
   },
   "file_extension": ".py",
   "mimetype": "text/x-python",
   "name": "python",
   "nbconvert_exporter": "python",
   "pygments_lexer": "ipython3",
   "version": "3.8.3"
  }
 },
 "nbformat": 4,
 "nbformat_minor": 4
}
