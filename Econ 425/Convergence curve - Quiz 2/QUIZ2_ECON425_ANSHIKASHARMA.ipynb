{
 "cells": [
  {
   "cell_type": "markdown",
   "metadata": {},
   "source": [
    "#  <center> Quiz-2 <br>\n",
    "#  <center>  Anshika Sharma, UCLA ID:(305488635) "
   ]
  },
  {
   "cell_type": "code",
   "execution_count": 1,
   "metadata": {},
   "outputs": [],
   "source": [
    "#In the first step, we import all the functions:\n",
    "import math\n",
    "import numpy as np\n",
    "import pandas as pd\n",
    "\n",
    "from pandas import DataFrame\n",
    "from sklearn import preprocessing\n",
    "from sklearn.linear_model import LogisticRegression\n",
    "from sklearn.model_selection import train_test_split\n",
    "from numpy import loadtxt, where\n",
    "from pylab import scatter, show, legend, xlabel, ylabel\n",
    "\n",
    "#Now, we import self-defined functions:\n",
    "from util import Cost_Function, Gradient_Descent, Cost_Function_Derivative, Cost_Function, Prediction, Sigmoid"
   ]
  },
  {
   "cell_type": "markdown",
   "metadata": {},
   "source": [
    "Step: pre-processing the data"
   ]
  },
  {
   "cell_type": "code",
   "execution_count": 2,
   "metadata": {},
   "outputs": [
    {
     "name": "stdout",
     "output_type": "stream",
     "text": [
      "(100, 2)\n",
      "(100,)\n"
     ]
    }
   ],
   "source": [
    "# scale data to be between -1,1 \n",
    "\n",
    "min_max_scaler = preprocessing.MinMaxScaler(feature_range=(-1,1))\n",
    "df = pd.read_csv(\"data.csv\", header=0)\n",
    "\n",
    "# clean up data\n",
    "df.columns = [\"grade1\",\"grade2\",\"label\"]\n",
    "\n",
    "x = df[\"label\"].map(lambda x: float(x.rstrip(';')))\n",
    "\n",
    "# formats the input data into two arrays, one of independant variables\n",
    "# and one of the dependant variable\n",
    "X = df[[\"grade1\",\"grade2\"]]\n",
    "X = np.array(X)\n",
    "X = min_max_scaler.fit_transform(X)\n",
    "Y = df[\"label\"].map(lambda x: float(x.rstrip(';')))\n",
    "Y = np.array(Y)\n",
    "\n",
    "print(X.shape)\n",
    "print(Y.shape)\n"
   ]
  },
  {
   "cell_type": "markdown",
   "metadata": {},
   "source": [
    "Splitting the data"
   ]
  },
  {
   "cell_type": "code",
   "execution_count": 3,
   "metadata": {},
   "outputs": [],
   "source": [
    "# split the dataset into two subsets: testing and training\n",
    "X_train,X_test,Y_train,Y_test = train_test_split(X,Y,test_size=0.33, random_state = 0)"
   ]
  },
  {
   "cell_type": "markdown",
   "metadata": {},
   "source": [
    "Step: training and testing using sklearn"
   ]
  },
  {
   "cell_type": "code",
   "execution_count": 4,
   "metadata": {},
   "outputs": [
    {
     "name": "stdout",
     "output_type": "stream",
     "text": [
      "0.9090909090909091\n"
     ]
    },
    {
     "data": {
      "image/png": "[encoded data removed]",
      "text/plain": [
       "<Figure size 432x288 with 1 Axes>"
      ]
     },
     "metadata": {
      "needs_background": "light"
     },
     "output_type": "display_data"
    }
   ],
   "source": [
    "# use sklearn class\n",
    "clf = LogisticRegression()\n",
    "# call the function fit() to train the class instance\n",
    "clf.fit(X_train,Y_train)\n",
    "# scores over testing samples\n",
    "print(clf.score(X_test,Y_test))\n",
    "\n",
    "# visualize data using functions in the library pylab \n",
    "pos = where(Y == 1)\n",
    "neg = where(Y == 0)\n",
    "scatter(X[pos, 0], X[pos, 1], marker='o', c='b')\n",
    "scatter(X[neg, 0], X[neg, 1], marker='x', c='r')\n",
    "xlabel('Feature 1: score 1')\n",
    "ylabel('Feature 2: score 2')\n",
    "legend(['Label:  Admitted', 'Label: Not Admitted'])\n",
    "show()\n"
   ]
  },
  {
   "cell_type": "markdown",
   "metadata": {},
   "source": [
    "Step-4: training and testing using self-developed model Without bias term"
   ]
  },
  {
   "cell_type": "code",
   "execution_count": 5,
   "metadata": {},
   "outputs": [
    {
     "name": "stdout",
     "output_type": "stream",
     "text": [
      "theta  [0.012183693210473958, 0.016040785552839883]\n",
      "cost is  0.6891034524191488\n",
      "theta  [1.5956683823805158, 1.7623296121264824]\n",
      "cost is  0.3849535321655343\n",
      "theta  [2.4325756301192865, 2.4337339751818132]\n",
      "cost is  0.32597924734364025\n",
      "theta  [2.9986243664794237, 2.8233699189624857]\n",
      "cost is  0.3021317059133414\n",
      "theta  [3.4211968709004585, 3.0958366189533053]\n",
      "cost is  0.2894222938558452\n",
      "coefficeint of model without biase term:  [3.752559821674534, 3.304864528964521]\n"
     ]
    }
   ],
   "source": [
    "#Without bias term\n",
    "thetao = [0,0] #initial model parameters\n",
    "alpha = 0.1 # learning rates\n",
    "max_iteration = 1000 # maximal iterations\n",
    "\n",
    "m = len(Y_test) # number of samples\n",
    "\n",
    "for x in range(max_iteration):\n",
    "\t# call the functions for gradient descent method\n",
    "\tnew_theta = Gradient_Descent(X_test,Y_test,thetao,m,alpha)\n",
    "\tthetao = new_theta\n",
    "\tif x % 200 == 0:\n",
    "\t\t# calculate the cost function with the present theta\n",
    "\t\tCost_Function(X_test,Y_test,thetao,m)\n",
    "\t\tprint('theta ', thetao)\n",
    "\t\tprint('cost is ', Cost_Function(X_test,Y_test,thetao,m))\n",
    "print(\"coefficeint of model without biase term: \", thetao)\n",
    " "
   ]
  },
  {
   "cell_type": "markdown",
   "metadata": {},
   "source": [
    "Step: training and testing using self-developed model with biased term"
   ]
  },
  {
   "cell_type": "code",
   "execution_count": 6,
   "metadata": {},
   "outputs": [
    {
     "name": "stdout",
     "output_type": "stream",
     "text": [
      "theta  [0.006716417910447761, 0.017594552563821808, 0.01304107905643599]\n",
      "cost is  0.6879260076519823\n",
      "theta  [0.27230486977806295, 1.850974424771395, 1.5674058687026597]\n",
      "cost is  0.3592535812592333\n",
      "theta  [0.3268520587698168, 2.609236302445539, 2.341372725818576]\n",
      "cost is  0.2991557123489569\n",
      "theta  [0.37559350615582354, 3.0990384653909016, 2.8603236522884714]\n",
      "cost is  0.2733615848552591\n",
      "theta  [0.4173426458352523, 3.465619094219974, 3.24944381587512]\n",
      "cost is  0.2589192974933075\n",
      "theta of final model: [[0.45279812272943, 3.7577479076198395, 3.5581748294928905]]\n",
      "cost: 0.24975187267122004\n"
     ]
    }
   ],
   "source": [
    "thetab = [0,0,0] #initial model parameters\n",
    "alphab = 0.1  # learning rates\n",
    "max_iteration = 1000 # maximal iterations\n",
    "\n",
    "xValuesb = np.ones((len(Y_train) , 3)) #create array(60,3) of 1 \n",
    "xValuesb[:, 1:3] = X_train[:, 0:2] # split training and testing data set \n",
    "yValuesb = Y_train\n",
    "\n",
    "m = len(Y_train) # number of samples\n",
    "total_c = []\n",
    "for x in range(max_iteration):\n",
    "    # call the functions for gradient descent method\n",
    "    new_theta = Gradient_Descent(xValuesb ,yValuesb,thetab,m,alphab)\n",
    "    thetab = new_theta\n",
    "    cost = Cost_Function(xValuesb,yValuesb,thetab,m)\n",
    "    total_c.append(cost)\n",
    "    if x % 200 == 0:\n",
    "        # calculate the cost function with the present theta\n",
    "        print('theta ', thetab)\n",
    "        print('cost is ', cost)\n",
    "res = [thetab]\n",
    "print('theta of final model:',res)\n",
    "print('cost:', cost)\n",
    "import matplotlib.pyplot as plt\n"
   ]
  },
  {
   "cell_type": "code",
   "execution_count": 7,
   "metadata": {},
   "outputs": [
    {
     "name": "stdout",
     "output_type": "stream",
     "text": [
      "The score of Scikit model:  0.9090909090909091\n",
      "The score of model without biased term :  0.8787878787878788\n",
      "The score of model with biased term:  0.8181818181818182\n"
     ]
    }
   ],
   "source": [
    "scoreo = 0\n",
    "scoreb = 0\n",
    "\n",
    "# accuracy for sklearn\n",
    "scikit_score = clf.score(X_test,Y_test)\n",
    "length = len(X_test)\n",
    "#model without bias term\n",
    "for i in range(length):\n",
    "\tpredictiono = round(Prediction(X_test[i],thetao))\n",
    "\tanswero = Y_test[i]\n",
    "\tif predictiono == answero:\n",
    "\t\tscoreo += 1\n",
    "my_scoreo = float(scoreo) / float(length) \n",
    "        \n",
    "for i in range(length):\n",
    "\tpredictionb = round(Prediction(X_test[i],thetab))\n",
    "\tanswero = Y_test[i]\n",
    "\tif predictionb == answero:\n",
    "\t\tscoreb += 1\n",
    "my_scoreb = float(scoreb) / float(length)\n",
    "\n",
    "print('The score of Scikit model: ', scikit_score)\n",
    "print('The score of model without biased term : ', my_scoreo)\n",
    "print('The score of model with biased term: ', my_scoreb)     "
   ]
  },
  {
   "cell_type": "markdown",
   "metadata": {},
   "source": [
    "### <center> Changing hyperparameters, learning rate and max_iteration"
   ]
  },
  {
   "cell_type": "markdown",
   "metadata": {},
   "source": [
    "### <center> 1 - Self developed model without biased term (Developed using Method-2 of Logistic reg)"
   ]
  },
  {
   "cell_type": "code",
   "execution_count": 8,
   "metadata": {},
   "outputs": [
    {
     "name": "stdout",
     "output_type": "stream",
     "text": [
      "             max_iteration testing_score    coef_x_1    coef_x_2\n",
      "alpha_0.0001           500      0.909091  0.00877801  0.00650938\n",
      "alpha_0.0007           500      0.909091   0.0606454   0.0451006\n",
      "alpha_0.001            500      0.909091   0.0860722   0.0641008\n",
      "alpha_0.007            500      0.878788    0.531343    0.406472\n",
      "alpha_0.01             500      0.878788    0.715914    0.554428\n",
      "alpha_0.07             500      0.878788      2.4486     2.16307\n",
      "alpha_0.1              500      0.878788     2.86026     2.59244\n",
      "alpha_0.7              500      0.878788     5.16359     4.98377\n",
      "             max_iteration testing_score   coef_x_1   coef_x_2\n",
      "alpha_0.0001          1000      0.909091  0.0175175  0.0129964\n",
      "alpha_0.0007          1000      0.909091   0.119456  0.0891309\n",
      "alpha_0.001           1000      0.909091   0.168453   0.126042\n",
      "alpha_0.007           1000      0.878788   0.931351    0.73232\n",
      "alpha_0.01            1000      0.878788    1.20399   0.966156\n",
      "alpha_0.07            1000      0.878788    3.26381    3.01708\n",
      "alpha_0.1             1000      0.878788    3.70477    3.47928\n",
      "alpha_0.7             1000      0.878788    5.68462    5.51508\n",
      "             max_iteration testing_score  coef_x_1  coef_x_2\n",
      "alpha_0.0001         10000      0.909091  0.168447  0.126038\n",
      "alpha_0.0007         10000      0.878788  0.931174  0.732203\n",
      "alpha_0.001          10000      0.878788   1.20371  0.965961\n",
      "alpha_0.007          10000      0.878788   3.26263   3.01586\n",
      "alpha_0.01           10000      0.878788   3.70338   3.47784\n",
      "alpha_0.07           10000      0.878788   5.68338   5.51382\n",
      "alpha_0.1            10000      0.878788    5.8249   5.65778\n",
      "alpha_0.7            10000      0.878788   5.91515   5.74952\n"
     ]
    }
   ],
   "source": [
    "##### training and testing using self-developed model without biased term #####\n",
    "\n",
    "# Change alpha and iteration\n",
    "\n",
    "def logisticreg(xValues ,yValues,theta,m,alpha,testXValues,Y_test,max_iteration):\n",
    "    for x in range(max_iteration):\n",
    "    # call the functions for gradient descent method\n",
    "        new_theta = Gradient_Descent(xValues ,yValues,theta,m,alpha)\n",
    "        theta = new_theta\n",
    "        Cost_Function(xValues,yValues,theta,m)  \n",
    "    #evaluate model\n",
    "    score = 0\n",
    "    length = len(testXValues)\n",
    "    for i in range(length):\n",
    "        prediction = round(Prediction(testXValues[i],theta))\n",
    "        answer = Y_test[i]\n",
    "        if prediction == answer:\n",
    "            score += 1\n",
    "    my_score = float(score) / float(length)\n",
    "    res = [my_score]\n",
    "    res.extend(theta)\n",
    "    return res\n",
    "\n",
    "alphar = [0.0001, 0.0007,0.001, 0.007,0.01, 0.07,0.1,0.7 ]\n",
    "#Initialize the dataframe to store coefficients\n",
    "col = ['max_iteration']+ ['testing_score'] + ['coef_x_%d'%i for i in range(1,3)]\n",
    "ind = ['alpha_%.2g'%alphar[i] for i in range(0,8)]\n",
    "#ind = a+a+a\n",
    "coef_matrix_logisw = pd.DataFrame(index=ind, columns=col)\n",
    "\n",
    "thetaw = [0,0] #initial model parameters\n",
    "xValuesw = X_train # split training and testing data set \n",
    "yValuesw = Y_train\n",
    "\n",
    "m = len(Y_train) # number of samples\n",
    "\n",
    "testXValues2 = X_test\n",
    "max_iterationr = [500,1000,10000]\n",
    "total =  []\n",
    "for j in range (3):\n",
    "#Iterate through all powers and assimilate results\n",
    "    for i in range(8):\n",
    "        coef_matrix_logisw.iloc[i,0] = max_iterationr[j]\n",
    "        coef_matrix_logisw.iloc[i,1:] = logisticreg(xValuesw ,yValuesw,thetaw,m,alphar[i],testXValues2,Y_test,max_iterationr[j])\n",
    "    print(coef_matrix_logisw)   "
   ]
  },
  {
   "cell_type": "markdown",
   "metadata": {},
   "source": [
    "### <center> 1.1 - My self developed best model without biased term (Developed using Method-2 of Logistic reg)"
   ]
  },
  {
   "cell_type": "code",
   "execution_count": 9,
   "metadata": {},
   "outputs": [
    {
     "name": "stdout",
     "output_type": "stream",
     "text": [
      "theta  [0.0001759455256382181, 0.0001304107905643599]\n",
      "cost is  0.6930992187021833\n",
      "theta  [0.03505604153083156, 0.026033346305702698]\n",
      "cost is  0.6836614760174738\n",
      "theta  [0.06932861224176783, 0.051582944733605106]\n",
      "cost is  0.6745246882615417\n",
      "theta of final model: [[0.08607219135348888, 0.06410082372736255]]\n",
      "cost: 0.670110249585646\n"
     ]
    },
    {
     "data": {
      "image/png": "[encoded data removed]",
      "text/plain": [
       "<Figure size 432x288 with 1 Axes>"
      ]
     },
     "metadata": {
      "needs_background": "light"
     },
     "output_type": "display_data"
    }
   ],
   "source": [
    "#plotting the convergence curve\n",
    "\n",
    "#######training and testing using self-developed model biased term (best model)##\n",
    "\n",
    "thetaw = [0 , 0] #initial model parameters\n",
    "alphaw = 0.001  # learning rates\n",
    "max_iteration = 500 # maximal iterations\n",
    "\n",
    "xValuesw = X_train # split training and testing data set \n",
    "yValuesw = Y_train\n",
    "\n",
    "m = len(Y_train) # number of samples\n",
    "total_cw = []\n",
    "for x in range(max_iteration):\n",
    "    # call the functions for gradient descent method\n",
    "    new_thetaw = Gradient_Descent(xValuesw ,yValuesw,thetaw,m,alphaw)\n",
    "    thetaw = new_thetaw\n",
    "    costw = Cost_Function(xValuesw,yValuesw,thetaw,m)\n",
    "    total_cw.append(costw)\n",
    "    if x % 200 == 0:\n",
    "        # calculate the cost function with the present theta\n",
    "        print('theta ', thetaw)\n",
    "        print('cost is ', costw)\n",
    "resw = [thetaw]\n",
    "print('theta of final model:',resw)\n",
    "print('cost:', costw)\n",
    "import matplotlib.pyplot as plt\n",
    "\n",
    "plt.plot(range(0,len(total_cw)),total_cw);\n",
    "plt.xlabel('iteration')\n",
    "plt.ylabel('cost')\n",
    "plt.title('alpha = {}  theta = {}'.format(alphaw, thetaw))\n",
    "plt.show()"
   ]
  },
  {
   "cell_type": "code",
   "execution_count": 10,
   "metadata": {},
   "outputs": [
    {
     "name": "stdout",
     "output_type": "stream",
     "text": [
      "[0.08607219135348888, 0.06410082372736255]\n",
      "Score of my best model without biased term: 0.9090909090909091\n",
      "The AUC score is:  0.9876033057851239\n"
     ]
    }
   ],
   "source": [
    "# ROC, AUC\n",
    "from sklearn.metrics import roc_auc_score\n",
    "from sklearn.metrics import auc\n",
    "from sklearn.metrics import roc_curve\n",
    "pred4 = []\n",
    "pred4 = []\n",
    "Ytest4 = []\n",
    "thetaob =   thetaw\n",
    "print(thetaob)\n",
    "length = len(X_test)\n",
    "score = 0   \n",
    "for i in range(length):\n",
    "\tprediction = round(Prediction(X_test[i],thetaob))\n",
    "\tanswer = Y_test[i]\n",
    "\tif prediction == answer:\n",
    "\t\tscore += 1\n",
    "my_scoreob = float(score) / float(length)\n",
    "\n",
    "prop4 =[]\n",
    "for i in range(length):\n",
    "    prop4 = Prediction(X_test[i],thetaob)\n",
    "    pred4.append(prop4)\n",
    "\n",
    "pred_prob4 = np.array(pred4)\n",
    "fpr4, tpr4, thresh4 = roc_curve(Y_test, pred_prob4, pos_label=1)\n",
    "print('Score of my best model without biased term:', my_scoreob)\n",
    "print('The AUC score is: ', roc_auc_score(Y_test, pred_prob4))\n",
    "\n",
    "random_probs = [0 for i in range(len(Y_test))]\n",
    "p_fpr, p_tpr, _ = roc_curve(Y_test, random_probs, pos_label=1)\n",
    "    "
   ]
  },
  {
   "cell_type": "code",
   "execution_count": 11,
   "metadata": {},
   "outputs": [
    {
     "data": {
      "image/png": "[encoded data removed]",
      "text/plain": [
       "<Figure size 432x288 with 1 Axes>"
      ]
     },
     "metadata": {
      "needs_background": "light"
     },
     "output_type": "display_data"
    }
   ],
   "source": [
    "# plot roc curves\n",
    "plt.plot(fpr4, tpr4, linestyle='--',color='green', label='my own-model without biased-term')\n",
    "#plt.plot(fpr2, tpr2, linestyle='--',color='green', label='My own model')\n",
    "plt.plot(p_fpr, p_tpr, linestyle='--', color='blue')\n",
    "# title\n",
    "plt.title('ROC curve of My best model (From method-2) without biased-term')\n",
    "# x label\n",
    "plt.xlabel('False Positive Rate')\n",
    "# y label\n",
    "plt.ylabel('True Positive rate')\n",
    "\n",
    "#plt.legend(loc='best')\n",
    "#plt.savefig('ROC',dpi=300)\n",
    "plt.show()"
   ]
  },
  {
   "cell_type": "markdown",
   "metadata": {},
   "source": [
    "### <center> 2 - My Self developed model with biased term (Developed using Method-2 of Logistic reg)"
   ]
  },
  {
   "cell_type": "code",
   "execution_count": 12,
   "metadata": {},
   "outputs": [
    {
     "name": "stdout",
     "output_type": "stream",
     "text": [
      "             max_iteration testing_score    coef_x_0    coef_x_1    coef_x_2\n",
      "alpha_0.0001           500      0.909091  0.00333508  0.00877749  0.00650892\n",
      "alpha_0.0007           500      0.909091   0.0224031   0.0606206   0.0450791\n",
      "alpha_0.001            500      0.909091   0.0313571   0.0860226   0.0640577\n",
      "alpha_0.007            500      0.969697    0.150285    0.529858    0.405171\n",
      "alpha_0.01             500      0.939394    0.181938    0.713593    0.552421\n",
      "alpha_0.07             500      0.878788    0.313333     2.45118     2.17586\n",
      "alpha_0.1              500      0.909091    0.351853      2.8723     2.61948\n",
      "alpha_0.7              500      0.878788    0.666873     5.40514     5.27882\n",
      "             max_iteration testing_score    coef_x_0   coef_x_1   coef_x_2\n",
      "alpha_0.0001          1000      0.909091  0.00662422  0.0175154  0.0129946\n",
      "alpha_0.0007          1000      0.909091   0.0427244   0.119361  0.0890484\n",
      "alpha_0.001           1000      0.939394   0.0586305   0.168268   0.125881\n",
      "alpha_0.007           1000      0.939394     0.20928   0.928139   0.729663\n",
      "alpha_0.01            1000      0.939394    0.233524    1.19998    0.96327\n",
      "alpha_0.07            1000      0.909091    0.397036    3.29124    3.06452\n",
      "alpha_0.1             1000      0.909091    0.452798    3.75775    3.55817\n",
      "alpha_0.7             1000      0.878788    0.754692    6.08194    5.98066\n",
      "             max_iteration testing_score   coef_x_0  coef_x_1  coef_x_2\n",
      "alpha_0.0001         10000      0.939394  0.0586241  0.168262  0.125877\n",
      "alpha_0.0007         10000      0.939394   0.209215  0.927962  0.729546\n",
      "alpha_0.001          10000      0.939394    0.23346    1.1997  0.963075\n",
      "alpha_0.007          10000      0.909091   0.396902   3.29003   3.06326\n",
      "alpha_0.01           10000      0.909091   0.452621   3.75631   3.55666\n",
      "alpha_0.07           10000      0.878788    0.75448   6.08028   5.97895\n",
      "alpha_0.1            10000      0.878788   0.781804   6.29477   6.20097\n",
      "alpha_0.7            10000      0.878788   0.804247   6.47274   6.38503\n"
     ]
    }
   ],
   "source": [
    "\n",
    "##############training and testing using self-developed model biased term#############\n",
    "\n",
    "# Change iteration and learning rate, alpha\n",
    "\n",
    "def logisticreg(xValuesl ,yValuesl,thetal,m,alpha,testXValues1,Y_test,max_iteration):\n",
    "    for x in range(max_iteration):\n",
    "    # call the functions for gradient descent method\n",
    "        new_theta = Gradient_Descent(xValuesl ,yValuesl,thetal,m,alpha)\n",
    "        thetal = new_theta\n",
    "        Cost_Function(xValuesl,yValuesl,thetal,m)  \n",
    "    #evaluate model\n",
    "    scorel = 0\n",
    "    length = len(testXValues1)\n",
    "    for i in range(length):\n",
    "        predictionl = round(Prediction(testXValues1[i],thetal))\n",
    "        answerl = Y_test[i]\n",
    "        if predictionl == answerl:\n",
    "            scorel += 1\n",
    "    my_scorel = float(scorel) / float(length)\n",
    "    res = [my_scorel]\n",
    "    res.extend(thetal)\n",
    "    return res\n",
    "\n",
    "alphar = [0.0001, 0.0007,0.001, 0.007,0.01, 0.07,0.1,0.7 ]\n",
    "#Initialize the dataframe to store coefficients\n",
    "col = ['max_iteration']+ ['testing_score'] + ['coef_x_%d'%i for i in range(0,3)]\n",
    "ind = ['alpha_%.2g'%alphar[i] for i in range(0,8)]\n",
    "#ind = a+a+a\n",
    "coef_matrix_logis = pd.DataFrame(index=ind, columns=col)\n",
    "\n",
    "thetal = [0,0,0] #initial model parameters\n",
    "xValuesl = np.ones((len(Y_train) , 3)) #create array(60,3) of 1 \n",
    "xValuesl[:, 1:3] = X_train[:, 0:2] # split training and testing data set \n",
    "yValuesl = Y_train\n",
    "\n",
    "m = len(Y_train) # number of samples\n",
    "\n",
    "testXValues1 = np.ones((len(X_test), 3)) \n",
    "testXValues1[:, 1:3] = X_test[:, 0:2]\n",
    "max_iterationr = [500,1000,10000]\n",
    "total =  []\n",
    "for j in range (3):\n",
    "#Iterate through all powers and assimilate results\n",
    "    for i in range(8):\n",
    "        #print(logisticreg(xValuesl ,yValuesl,thetal,m,alphar[i],testXValues1,Y_test,max_iteration))\n",
    "        coef_matrix_logis.iloc[i,0] = max_iterationr[j]\n",
    "        coef_matrix_logis.iloc[i,1:] = logisticreg(xValuesl ,yValuesl,thetal,m,alphar[i],testXValues1,Y_test,max_iterationr[j])\n",
    "    print(coef_matrix_logis)\n"
   ]
  },
  {
   "cell_type": "markdown",
   "metadata": {},
   "source": [
    "### <center> 2.1 - My Self Developed best model without biased term"
   ]
  },
  {
   "cell_type": "code",
   "execution_count": 13,
   "metadata": {},
   "outputs": [
    {
     "name": "stdout",
     "output_type": "stream",
     "text": [
      "theta  [0.0004701492537313433, 0.0012316186794675264, 0.0009128755339505193]\n",
      "cost is  0.6927799856769551\n",
      "theta  [0.07823476128470279, 0.2326242778839475, 0.17466066090563273]\n",
      "cost is  0.6285517031961659\n",
      "theta  [0.1308450587723458, 0.43721295405782806, 0.3323556193105979]\n",
      "cost is  0.5788554335203299\n",
      "theta of final model: [[0.1502850351645228, 0.5298583938680445, 0.40517062878393867]]\n",
      "cost: 0.5582733025767725\n"
     ]
    }
   ],
   "source": [
    "\n",
    "##############training and testing using self-developed model biased term (best model)#########\n",
    "\n",
    "thetab = [0,0,0] #initial model parameters\n",
    "alphab = 0.007  # learning rates\n",
    "max_iteration = 500 # maximal iterations\n",
    "\n",
    "xValuesb = np.ones((len(Y_train) , 3)) #create array(60,3) of 1 \n",
    "xValuesb[:, 1:3] = X_train[:, 0:2] # split training and testing data set \n",
    "yValuesb = Y_train\n",
    "\n",
    "m = len(Y_train) # number of samples\n",
    "total_c = []\n",
    "for x in range(max_iteration):\n",
    "    # call the functions for gradient descent method\n",
    "    new_theta = Gradient_Descent(xValuesb ,yValuesb,thetab,m,alphab)\n",
    "    thetab = new_theta\n",
    "    cost = Cost_Function(xValuesb,yValuesb,thetab,m)\n",
    "    total_c.append(cost)\n",
    "    if x % 200 == 0:\n",
    "        # calculate the cost function with the present theta\n",
    "        print('theta ', thetab)\n",
    "        print('cost is ', cost)\n",
    "reso = [thetab]\n",
    "print('theta of final model:',reso)\n",
    "print('cost:', cost)\n",
    "import matplotlib.pyplot as plt"
   ]
  },
  {
   "cell_type": "code",
   "execution_count": 14,
   "metadata": {},
   "outputs": [
    {
     "data": {
      "image/png": "[encoded data removed]",
      "text/plain": [
       "<Figure size 432x288 with 1 Axes>"
      ]
     },
     "metadata": {
      "needs_background": "light"
     },
     "output_type": "display_data"
    }
   ],
   "source": [
    "#visualize the convergence curve\n",
    "plt.plot(range(0,len(total_c)),total_c);\n",
    "plt.xlabel('iteration')\n",
    "plt.ylabel('cost')\n",
    "plt.title('alpha = {}  theta = {}'.format(alpha, thetab))\n",
    "plt.show()"
   ]
  },
  {
   "cell_type": "code",
   "execution_count": 15,
   "metadata": {},
   "outputs": [
    {
     "name": "stdout",
     "output_type": "stream",
     "text": [
      "[0.1502850351645228, 0.5298583938680445, 0.40517062878393867]\n",
      "Score of my best model with biased term :  0.9696969696969697\n",
      "AUC score 0.9876033057851239\n"
     ]
    }
   ],
   "source": [
    "# ROC, AUC\n",
    "from sklearn.metrics import roc_auc_score\n",
    "from sklearn.metrics import auc\n",
    "from sklearn.metrics import roc_curve\n",
    "pred1 = []\n",
    "pred1 = []\n",
    "Ytest1 = []\n",
    "thetaob = thetab  \n",
    "print(thetaob)\n",
    "length = len(X_test)\n",
    "scoreb = 0   \n",
    "\n",
    "# My best model\n",
    "testXValues1 = np.ones((len(X_test), 3)) \n",
    "testXValues1[:, 1:3] = X_test[:, 0:2]\n",
    "for i in range(length):\n",
    "\tpredictionb = round(Prediction(testXValues1[i],thetaob))\n",
    "\tanswerb = Y_test[i]\n",
    "\tif predictionb == answerb:\n",
    "\t\tscoreb += 1\n",
    "        \n",
    "my_scoreob = float(scoreb) / float(length)\n",
    "\n",
    "for i in range(length):\n",
    "    prop1 = Prediction(testXValues1[i],thetaob)\n",
    "    pred1.append(prop1)\n",
    "pred_prob2 = np.array(pred1)\n",
    "fpr2, tpr2, thresh2 = roc_curve(Y_test, pred_prob2, pos_label=1)\n",
    "print('Score of my best model with biased term : ', my_scoreob)\n",
    "print('AUC score', roc_auc_score(Y_test, pred_prob2))\n",
    "    "
   ]
  },
  {
   "cell_type": "code",
   "execution_count": 16,
   "metadata": {},
   "outputs": [
    {
     "data": {
      "image/png": "[encoded data removed]",
      "text/plain": [
       "<Figure size 432x288 with 1 Axes>"
      ]
     },
     "metadata": {
      "needs_background": "light"
     },
     "output_type": "display_data"
    }
   ],
   "source": [
    "# plot roc curves\n",
    "#plt.plot(fpr4, tpr4, linestyle='--',color='orange', label='Using Scikit-Learning')\n",
    "plt.plot(fpr2, tpr2, linestyle='--',color='purple', label='My own model')\n",
    "plt.plot(p_fpr, p_tpr, linestyle='--', color='blue')\n",
    "# title\n",
    "plt.title('ROC curve of My best model (Method-2) with biased-term')\n",
    "# x label\n",
    "plt.xlabel('False Positive Rate')\n",
    "# y label\n",
    "plt.ylabel('True Positive rate')\n",
    "\n",
    "#plt.legend(loc='best')\n",
    "#plt.savefig('ROC',dpi=300)\n",
    "plt.show()"
   ]
  },
  {
   "cell_type": "code",
   "execution_count": 17,
   "metadata": {},
   "outputs": [
    {
     "data": {
      "image/png": "[encoded data removed]",
      "text/plain": [
       "<Figure size 432x288 with 1 Axes>"
      ]
     },
     "metadata": {
      "needs_background": "light"
     },
     "output_type": "display_data"
    },
    {
     "name": "stdout",
     "output_type": "stream",
     "text": [
      "Scikit-learn, accuracy score: 0.9090909090909091\n",
      "Scikit-learn, auc score: 0.9876033057851239\n"
     ]
    }
   ],
   "source": [
    "# Scikit learning\n",
    "\n",
    "pred_prob1 = clf.predict_proba(X_test)\n",
    "# roc curve for models\n",
    "fpr1, tpr1, thresh1 = roc_curve(Y_test, pred_prob1[:,1], pos_label=1)\n",
    "\n",
    "#plot roc curves\n",
    "plt.plot(fpr1, tpr1, linestyle='--',color='pink', label='Using Scikit-Learning')\n",
    "#plt.plot(fpr2, tpr2, linestyle='--',color='green', label='My own model')\n",
    "plt.plot(p_fpr, p_tpr, linestyle='--', color='blue')\n",
    "# title\n",
    "plt.title('ROC curve of Scikit learning model')\n",
    "# x label\n",
    "plt.xlabel('False Positive Rate')\n",
    "# y label\n",
    "plt.ylabel('True Positive rate')\n",
    "\n",
    "#plt.legend(loc='best')\n",
    "#plt.savefig('ROC',dpi=300)\n",
    "plt.show()\n",
    "\n",
    "print(\"Scikit-learn, accuracy score:\", clf.score(X_test, Y_test))\n",
    "print(\"Scikit-learn, auc score:\", roc_auc_score(Y_test, pred_prob1[:,1]))"
   ]
  },
  {
   "cell_type": "code",
   "execution_count": 21,
   "metadata": {},
   "outputs": [
    {
     "data": {
      "text/plain": [
       "0.6666666666666666"
      ]
     },
     "execution_count": 21,
     "metadata": {},
     "output_type": "execute_result"
    }
   ],
   "source": [
    "Y_test.mean()"
   ]
  },
  {
   "cell_type": "code",
   "execution_count": 22,
   "metadata": {
    "scrolled": true
   },
   "outputs": [
    {
     "data": {
      "text/plain": [
       "0.5671641791044776"
      ]
     },
     "execution_count": 22,
     "metadata": {},
     "output_type": "execute_result"
    }
   ],
   "source": [
    "Y_train.mean()"
   ]
  }
 ],
 "metadata": {
  "kernelspec": {
   "display_name": "Python 3",
   "language": "python",
   "name": "python3"
  },
  "language_info": {
   "codemirror_mode": {
    "name": "ipython",
    "version": 3
   },
   "file_extension": ".py",
   "mimetype": "text/x-python",
   "name": "python",
   "nbconvert_exporter": "python",
   "pygments_lexer": "ipython3",
   "version": "3.8.3"
  }
 },
 "nbformat": 4,
 "nbformat_minor": 4
}
