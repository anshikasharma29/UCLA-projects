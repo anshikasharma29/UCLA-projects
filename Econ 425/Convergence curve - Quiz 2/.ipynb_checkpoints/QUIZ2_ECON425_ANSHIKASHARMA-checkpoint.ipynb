{
 "cells": [
  {
   "cell_type": "markdown",
   "metadata": {},
   "source": [
    "#  <center> Quiz-2 <br>\n",
    "#  <center>  Anshika Sharma, UCLA ID:(305488635) "
   ]
  },
  {
   "cell_type": "code",
   "execution_count": 1,
   "metadata": {},
   "outputs": [],
   "source": [
    "#In the first step, we import all the functions:\n",
    "import math\n",
    "import numpy as np\n",
    "import pandas as pd\n",
    "\n",
    "from pandas import DataFrame\n",
    "from sklearn import preprocessing\n",
    "from sklearn.linear_model import LogisticRegression\n",
    "from sklearn.model_selection import train_test_split\n",
    "from numpy import loadtxt, where\n",
    "from pylab import scatter, show, legend, xlabel, ylabel\n",
    "\n",
    "#Now, we import self-defined functions:\n",
    "from util import Cost_Function, Gradient_Descent, Cost_Function_Derivative, Cost_Function, Prediction, Sigmoid"
   ]
  },
  {
   "cell_type": "markdown",
   "metadata": {},
   "source": [
    "Step: pre-processing the data"
   ]
  },
  {
   "cell_type": "code",
   "execution_count": 2,
   "metadata": {},
   "outputs": [
    {
     "name": "stdout",
     "output_type": "stream",
     "text": [
      "(100, 2)\n",
      "(100,)\n"
     ]
    }
   ],
   "source": [
    "# scale data to be between -1,1 \n",
    "\n",
    "min_max_scaler = preprocessing.MinMaxScaler(feature_range=(-1,1))\n",
    "df = pd.read_csv(\"data.csv\", header=0)\n",
    "\n",
    "# clean up data\n",
    "df.columns = [\"grade1\",\"grade2\",\"label\"]\n",
    "\n",
    "x = df[\"label\"].map(lambda x: float(x.rstrip(';')))\n",
    "\n",
    "# formats the input data into two arrays, one of independant variables\n",
    "# and one of the dependant variable\n",
    "X = df[[\"grade1\",\"grade2\"]]\n",
    "X = np.array(X)\n",
    "X = min_max_scaler.fit_transform(X)\n",
    "Y = df[\"label\"].map(lambda x: float(x.rstrip(';')))\n",
    "Y = np.array(Y)\n",
    "\n",
    "print(X.shape)\n",
    "print(Y.shape)\n"
   ]
  },
  {
   "cell_type": "markdown",
   "metadata": {},
   "source": [
    "Splitting the data"
   ]
  },
  {
   "cell_type": "code",
   "execution_count": 3,
   "metadata": {},
   "outputs": [],
   "source": [
    "# split the dataset into two subsets: testing and training\n",
    "X_train,X_test,Y_train,Y_test = train_test_split(X,Y,test_size=0.33, random_state = 0)"
   ]
  },
  {
   "cell_type": "markdown",
   "metadata": {},
   "source": [
    "Step: training and testing using sklearn"
   ]
  },
  {
   "cell_type": "code",
   "execution_count": 4,
   "metadata": {},
   "outputs": [
    {
     "name": "stdout",
     "output_type": "stream",
     "text": [
      "0.9090909090909091\n"
     ]
    },
    {
     "data": {
      "image/png": "[encoded data removed]",
      "text/plain": [
       "<Figure size 432x288 with 1 Axes>"
      ]
     },
     "metadata": {
      "needs_background": "light"
     },
     "output_type": "display_data"
    }
   ],
   "source": [
    "# use sklearn class\n",
    "clf = LogisticRegression()\n",
    "# call the function fit() to train the class instance\n",
    "clf.fit(X_train,Y_train)\n",
    "# scores over testing samples\n",
    "print(clf.score(X_test,Y_test))\n",
    "\n",
    "# visualize data using functions in the library pylab \n",
    "pos = where(Y == 1)\n",
    "neg = where(Y == 0)\n",
    "scatter(X[pos, 0], X[pos, 1], marker='o', c='b')\n",
    "scatter(X[neg, 0], X[neg, 1], marker='x', c='r')\n",
    "xlabel('Feature 1: score 1')\n",
    "ylabel('Feature 2: score 2')\n",
    "legend(['Label:  Admitted', 'Label: Not Admitted'])\n",
    "show()\n"
   ]
  },
  {
   "cell_type": "markdown",
   "metadata": {},
   "source": [
    "Step-4: training and testing using self-developed model Without bias term"
   ]
  },
  {
   "cell_type": "code",
   "execution_count": 5,
   "metadata": {},
   "outputs": [
    {
     "name": "stdout",
     "output_type": "stream",
     "text": [
      "theta  [0.012183693210473964, 0.016040785552839887]\n",
      "cost is  0.6891034524191488\n",
      "theta  [1.595668382380516, 1.7623296121264824]\n",
      "cost is  0.3849535321655342\n",
      "theta  [2.432575630119286, 2.433733975181813]\n",
      "cost is  0.32597924734364025\n",
      "theta  [2.9986243664794237, 2.8233699189624857]\n",
      "cost is  0.3021317059133413\n",
      "theta  [3.421196870900459, 3.0958366189533053]\n",
      "cost is  0.2894222938558452\n",
      "coefficeint of model without biase term:  [3.752559821674534, 3.304864528964521]\n"
     ]
    }
   ],
   "source": [
    "#Without bias term\n",
    "thetao = [0,0] #initial model parameters\n",
    "alpha = 0.1 # learning rates\n",
    "max_iteration = 1000 # maximal iterations\n",
    "\n",
    "m = len(Y_test) # number of samples\n",
    "\n",
    "for x in range(max_iteration):\n",
    "\t# call the functions for gradient descent method\n",
    "\tnew_theta = Gradient_Descent(X_test,Y_test,thetao,m,alpha)\n",
    "\tthetao = new_theta\n",
    "\tif x % 200 == 0:\n",
    "\t\t# calculate the cost function with the present theta\n",
    "\t\tCost_Function(X_test,Y_test,thetao,m)\n",
    "\t\tprint('theta ', thetao)\n",
    "\t\tprint('cost is ', Cost_Function(X_test,Y_test,thetao,m))\n",
    "print(\"coefficeint of model without biase term: \", thetao)\n",
    " "
   ]
  },
  {
   "cell_type": "markdown",
   "metadata": {},
   "source": [
    "Step: training and testing using self-developed model with biased term"
   ]
  },
  {
   "cell_type": "code",
   "execution_count": 6,
   "metadata": {},
   "outputs": [
    {
     "name": "stdout",
     "output_type": "stream",
     "text": [
      "theta  [0.006716417910447761, 0.017594552563821805, 0.013041079056435988]\n",
      "cost is  0.6879260076519823\n",
      "theta  [0.27230486977806295, 1.8509744247713953, 1.5674058687026597]\n",
      "cost is  0.35925358125923335\n",
      "theta  [0.32685205876981677, 2.609236302445539, 2.3413727258185757]\n",
      "cost is  0.29915571234895694\n",
      "theta  [0.3755935061558235, 3.0990384653909016, 2.860323652288471]\n",
      "cost is  0.27336158485525913\n",
      "theta  [0.4173426458352523, 3.4656190942199743, 3.24944381587512]\n",
      "cost is  0.2589192974933075\n",
      "theta of final model: [[0.4527981227294301, 3.75774790761984, 3.5581748294928905]]\n",
      "cost: 0.24975187267122004\n"
     ]
    }
   ],
   "source": [
    "thetab = [0,0,0] #initial model parameters\n",
    "alphab = 0.1  # learning rates\n",
    "max_iteration = 1000 # maximal iterations\n",
    "\n",
    "xValuesb = np.ones((len(Y_train) , 3)) #create array(60,3) of 1 \n",
    "xValuesb[:, 1:3] = X_train[:, 0:2] # split training and testing data set \n",
    "yValuesb = Y_train\n",
    "\n",
    "m = len(Y_train) # number of samples\n",
    "total_c = []\n",
    "for x in range(max_iteration):\n",
    "    # call the functions for gradient descent method\n",
    "    new_theta = Gradient_Descent(xValuesb ,yValuesb,thetab,m,alphab)\n",
    "    thetab = new_theta\n",
    "    cost = Cost_Function(xValuesb,yValuesb,thetab,m)\n",
    "    total_c.append(cost)\n",
    "    if x % 200 == 0:\n",
    "        # calculate the cost function with the present theta\n",
    "        print('theta ', thetab)\n",
    "        print('cost is ', cost)\n",
    "res = [thetab]\n",
    "print('theta of final model:',res)\n",
    "print('cost:', cost)\n",
    "import matplotlib.pyplot as plt\n"
   ]
  },
  {
   "cell_type": "code",
   "execution_count": 7,
   "metadata": {},
   "outputs": [
    {
     "name": "stdout",
     "output_type": "stream",
     "text": [
      "The score of Scikit model:  0.9090909090909091\n",
      "The score of model without biased term :  0.8787878787878788\n",
      "The score of model with biased term:  0.8181818181818182\n"
     ]
    }
   ],
   "source": [
    "scoreo = 0\n",
    "scoreb = 0\n",
    "\n",
    "# accuracy for sklearn\n",
    "scikit_score = clf.score(X_test,Y_test)\n",
    "length = len(X_test)\n",
    "#model without bias term\n",
    "for i in range(length):\n",
    "\tpredictiono = round(Prediction(X_test[i],thetao))\n",
    "\tanswero = Y_test[i]\n",
    "\tif predictiono == answero:\n",
    "\t\tscoreo += 1\n",
    "my_scoreo = float(scoreo) / float(length) \n",
    "        \n",
    "for i in range(length):\n",
    "\tpredictionb = round(Prediction(X_test[i],thetab))\n",
    "\tanswero = Y_test[i]\n",
    "\tif predictionb == answero:\n",
    "\t\tscoreb += 1\n",
    "my_scoreb = float(scoreb) / float(length)\n",
    "\n",
    "print('The score of Scikit model: ', scikit_score)\n",
    "print('The score of model without biased term : ', my_scoreo)\n",
    "print('The score of model with biased term: ', my_scoreb)     "
   ]
  },
  {
   "cell_type": "markdown",
   "metadata": {},
   "source": [
    "### <center> Changing hyperparameters, learning rate and max_iteration"
   ]
  },
  {
   "cell_type": "markdown",
   "metadata": {},
   "source": [
    "### <center> 1 - Self developed model without biased term (Developed using Method-2 of Logistic reg)"
   ]
  },
  {
   "cell_type": "code",
   "execution_count": 8,
   "metadata": {},
   "outputs": [
    {
     "name": "stdout",
     "output_type": "stream",
     "text": [
      "             max_iteration testing_score  coef_x_1  coef_x_2\n",
      "alpha_0.0001           500      0.909091  0.008778  0.006509\n",
      "alpha_0.0007           500      0.909091  0.060645  0.045101\n",
      "alpha_0.001            500      0.909091  0.086072  0.064101\n",
      "alpha_0.007            500      0.878788  0.531343  0.406472\n",
      "alpha_0.01             500      0.878788  0.715914  0.554428\n",
      "alpha_0.07             500      0.878788  2.448603  2.163067\n",
      "alpha_0.1              500      0.878788  2.860257  2.592435\n",
      "alpha_0.7              500      0.878788  5.163595  4.983767\n",
      "             max_iteration testing_score  coef_x_1  coef_x_2\n",
      "alpha_0.0001          1000      0.909091  0.017518  0.012996\n",
      "alpha_0.0007          1000      0.909091  0.119456  0.089131\n",
      "alpha_0.001           1000      0.909091  0.168453  0.126042\n",
      "alpha_0.007           1000      0.878788  0.931351  0.732320\n",
      "alpha_0.01            1000      0.878788  1.203986  0.966156\n",
      "alpha_0.07            1000      0.878788  3.263809  3.017084\n",
      "alpha_0.1             1000      0.878788  3.704772  3.479285\n",
      "alpha_0.7             1000      0.878788  5.684622  5.515084\n",
      "             max_iteration testing_score  coef_x_1  coef_x_2\n",
      "alpha_0.0001         10000      0.909091  0.168447  0.126038\n",
      "alpha_0.0007         10000      0.878788  0.931174  0.732203\n",
      "alpha_0.001          10000      0.878788  1.203707  0.965961\n",
      "alpha_0.007          10000      0.878788  3.262625  3.015857\n",
      "alpha_0.01           10000      0.878788  3.703382  3.477836\n",
      "alpha_0.07           10000      0.878788  5.683376  5.513817\n",
      "alpha_0.1            10000      0.878788  5.824896  5.657776\n",
      "alpha_0.7            10000      0.878788  5.915152  5.749518\n"
     ]
    }
   ],
   "source": [
    "##### training and testing using self-developed model without biased term #####\n",
    "\n",
    "# Change alpha and iteration\n",
    "\n",
    "def logisticreg(xValues ,yValues,theta,m,alpha,testXValues,Y_test,max_iteration):\n",
    "    for x in range(max_iteration):\n",
    "    # call the functions for gradient descent method\n",
    "        new_theta = Gradient_Descent(xValues ,yValues,theta,m,alpha)\n",
    "        theta = new_theta\n",
    "        Cost_Function(xValues,yValues,theta,m)  \n",
    "    #evaluate model\n",
    "    score = 0\n",
    "    length = len(testXValues)\n",
    "    for i in range(length):\n",
    "        prediction = round(Prediction(testXValues[i],theta))\n",
    "        answer = Y_test[i]\n",
    "        if prediction == answer:\n",
    "            score += 1\n",
    "    my_score = float(score) / float(length)\n",
    "    res = [my_score]\n",
    "    res.extend(theta)\n",
    "    return res\n",
    "\n",
    "alphar = [0.0001, 0.0007,0.001, 0.007,0.01, 0.07,0.1,0.7 ]\n",
    "#Initialize the dataframe to store coefficients\n",
    "col = ['max_iteration']+ ['testing_score'] + ['coef_x_%d'%i for i in range(1,3)]\n",
    "ind = ['alpha_%.2g'%alphar[i] for i in range(0,8)]\n",
    "#ind = a+a+a\n",
    "coef_matrix_logisw = pd.DataFrame(index=ind, columns=col)\n",
    "\n",
    "thetaw = [0,0] #initial model parameters\n",
    "xValuesw = X_train # split training and testing data set \n",
    "yValuesw = Y_train\n",
    "\n",
    "m = len(Y_train) # number of samples\n",
    "\n",
    "testXValues2 = X_test\n",
    "max_iterationr = [500,1000,10000]\n",
    "total =  []\n",
    "for j in range (3):\n",
    "#Iterate through all powers and assimilate results\n",
    "    for i in range(8):\n",
    "        coef_matrix_logisw.iloc[i,0] = max_iterationr[j]\n",
    "        coef_matrix_logisw.iloc[i,1:] = logisticreg(xValuesw ,yValuesw,thetaw,m,alphar[i],testXValues2,Y_test,max_iterationr[j])\n",
    "    print(coef_matrix_logisw)   "
   ]
  },
  {
   "cell_type": "markdown",
   "metadata": {},
   "source": [
    "### <center> 1.1 - My self developed best model without biased term (Developed using Method-2 of Logistic reg)"
   ]
  },
  {
   "cell_type": "code",
   "execution_count": 9,
   "metadata": {},
   "outputs": [
    {
     "name": "stdout",
     "output_type": "stream",
     "text": [
      "theta  [0.00017594552563821806, 0.00013041079056435987]\n",
      "cost is  0.6930992187021833\n",
      "theta  [0.03505604153083156, 0.026033346305702698]\n",
      "cost is  0.6836614760174738\n",
      "theta  [0.06932861224176784, 0.05158294473360511]\n",
      "cost is  0.6745246882615417\n",
      "theta of final model: [[0.08607219135348891, 0.06410082372736255]]\n",
      "cost: 0.670110249585646\n"
     ]
    },
    {
     "data": {
      "image/png": "[encoded data removed]",
      "text/plain": [
       "<Figure size 432x288 with 1 Axes>"
      ]
     },
     "metadata": {
      "needs_background": "light"
     },
     "output_type": "display_data"
    }
   ],
   "source": [
    "#plotting the convergence curve\n",
    "\n",
    "#######training and testing using self-developed model biased term (best model)##\n",
    "\n",
    "thetaw = [0 , 0] #initial model parameters\n",
    "alphaw = 0.001  # learning rates\n",
    "max_iteration = 500 # maximal iterations\n",
    "\n",
    "xValuesw = X_train # split training and testing data set \n",
    "yValuesw = Y_train\n",
    "\n",
    "m = len(Y_train) # number of samples\n",
    "total_cw = []\n",
    "for x in range(max_iteration):\n",
    "    # call the functions for gradient descent method\n",
    "    new_thetaw = Gradient_Descent(xValuesw ,yValuesw,thetaw,m,alphaw)\n",
    "    thetaw = new_thetaw\n",
    "    costw = Cost_Function(xValuesw,yValuesw,thetaw,m)\n",
    "    total_cw.append(costw)\n",
    "    if x % 200 == 0:\n",
    "        # calculate the cost function with the present theta\n",
    "        print('theta ', thetaw)\n",
    "        print('cost is ', costw)\n",
    "resw = [thetaw]\n",
    "print('theta of final model:',resw)\n",
    "print('cost:', costw)\n",
    "import matplotlib.pyplot as plt\n",
    "\n",
    "plt.plot(range(0,len(total_cw)),total_cw);\n",
    "plt.xlabel('iteration')\n",
    "plt.ylabel('cost')\n",
    "plt.title('alpha = {}  theta = {}'.format(alphaw, thetaw))\n",
    "plt.show()"
   ]
  },
  {
   "cell_type": "code",
   "execution_count": 10,
   "metadata": {},
   "outputs": [
    {
     "name": "stdout",
     "output_type": "stream",
     "text": [
      "[0.08607219135348891, 0.06410082372736255]\n",
      "Score of my best model without biased term: 0.9090909090909091\n",
      "The AUC score is:  0.9876033057851239\n"
     ]
    }
   ],
   "source": [
    "# ROC, AUC\n",
    "from sklearn.metrics import roc_auc_score\n",
    "from sklearn.metrics import auc\n",
    "from sklearn.metrics import roc_curve\n",
    "pred4 = []\n",
    "pred4 = []\n",
    "Ytest4 = []\n",
    "thetaob =   thetaw\n",
    "print(thetaob)\n",
    "length = len(X_test)\n",
    "score = 0   \n",
    "for i in range(length):\n",
    "\tprediction = round(Prediction(X_test[i],thetaob))\n",
    "\tanswer = Y_test[i]\n",
    "\tif prediction == answer:\n",
    "\t\tscore += 1\n",
    "my_scoreob = float(score) / float(length)\n",
    "\n",
    "prop4 =[]\n",
    "for i in range(length):\n",
    "    prop4 = Prediction(X_test[i],thetaob)\n",
    "    pred4.append(prop4)\n",
    "\n",
    "pred_prob4 = np.array(pred4)\n",
    "fpr4, tpr4, thresh4 = roc_curve(Y_test, pred_prob4, pos_label=1)\n",
    "print('Score of my best model without biased term:', my_scoreob)\n",
    "print('The AUC score is: ', roc_auc_score(Y_test, pred_prob4))\n",
    "\n",
    "random_probs = [0 for i in range(len(Y_test))]\n",
    "p_fpr, p_tpr, _ = roc_curve(Y_test, random_probs, pos_label=1)\n",
    "    "
   ]
  },
  {
   "cell_type": "code",
   "execution_count": 11,
   "metadata": {},
   "outputs": [
    {
     "data": {
      "image/png": "[encoded data removed]",
      "text/plain": [
       "<Figure size 432x288 with 1 Axes>"
      ]
     },
     "metadata": {
      "needs_background": "light"
     },
     "output_type": "display_data"
    }
   ],
   "source": [
    "# plot roc curves\n",
    "plt.plot(fpr4, tpr4, linestyle='--',color='green', label='my own-model without biased-term')\n",
    "#plt.plot(fpr2, tpr2, linestyle='--',color='green', label='My own model')\n",
    "plt.plot(p_fpr, p_tpr, linestyle='--', color='blue')\n",
    "# title\n",
    "plt.title('ROC curve of My best model (From method-2) without biased-term')\n",
    "# x label\n",
    "plt.xlabel('False Positive Rate')\n",
    "# y label\n",
    "plt.ylabel('True Positive rate')\n",
    "\n",
    "#plt.legend(loc='best')\n",
    "#plt.savefig('ROC',dpi=300)\n",
    "plt.show()"
   ]
  },
  {
   "cell_type": "markdown",
   "metadata": {},
   "source": [
    "### <center> 2 - My Self developed model with biased term (Developed using Method-2 of Logistic reg)"
   ]
  },
  {
   "cell_type": "code",
   "execution_count": 12,
   "metadata": {},
   "outputs": [
    {
     "name": "stdout",
     "output_type": "stream",
     "text": [
      "             max_iteration testing_score  coef_x_0  coef_x_1  coef_x_2\n",
      "alpha_0.0001           500      0.909091  0.003335  0.008777  0.006509\n",
      "alpha_0.0007           500      0.909091  0.022403  0.060621  0.045079\n",
      "alpha_0.001            500      0.909091  0.031357  0.086023  0.064058\n",
      "alpha_0.007            500      0.969697  0.150285  0.529858  0.405171\n",
      "alpha_0.01             500      0.939394  0.181938  0.713593  0.552421\n",
      "alpha_0.07             500      0.878788  0.313333  2.451184  2.175861\n",
      "alpha_0.1              500      0.909091  0.351853  2.872300  2.619482\n",
      "alpha_0.7              500      0.878788  0.666873  5.405140  5.278819\n",
      "             max_iteration testing_score  coef_x_0  coef_x_1  coef_x_2\n",
      "alpha_0.0001          1000      0.909091  0.006624  0.017515  0.012995\n",
      "alpha_0.0007          1000      0.909091  0.042724  0.119361  0.089048\n",
      "alpha_0.001           1000      0.939394  0.058631  0.168268  0.125881\n",
      "alpha_0.007           1000      0.939394  0.209280  0.928139  0.729663\n",
      "alpha_0.01            1000      0.939394  0.233524  1.199981  0.963270\n",
      "alpha_0.07            1000      0.909091  0.397036  3.291243  3.064524\n",
      "alpha_0.1             1000      0.909091  0.452798  3.757748  3.558175\n",
      "alpha_0.7             1000      0.878788  0.754692  6.081940  5.980664\n",
      "             max_iteration testing_score  coef_x_0  coef_x_1  coef_x_2\n",
      "alpha_0.0001         10000      0.939394  0.058624  0.168262  0.125877\n",
      "alpha_0.0007         10000      0.939394  0.209215  0.927962  0.729546\n",
      "alpha_0.001          10000      0.939394  0.233460  1.199703  0.963075\n",
      "alpha_0.007          10000      0.909091  0.396902  3.290033  3.063260\n",
      "alpha_0.01           10000      0.909091  0.452621  3.756305  3.556657\n",
      "alpha_0.07           10000      0.878788  0.754480  6.080283  5.978949\n",
      "alpha_0.1            10000      0.878788  0.781804  6.294769  6.200965\n",
      "alpha_0.7            10000      0.878788  0.804247  6.472737  6.385026\n"
     ]
    }
   ],
   "source": [
    "\n",
    "##############training and testing using self-developed model biased term#############\n",
    "\n",
    "# Change iteration and learning rate, alpha\n",
    "\n",
    "def logisticreg(xValuesl ,yValuesl,thetal,m,alpha,testXValues1,Y_test,max_iteration):\n",
    "    for x in range(max_iteration):\n",
    "    # call the functions for gradient descent method\n",
    "        new_theta = Gradient_Descent(xValuesl ,yValuesl,thetal,m,alpha)\n",
    "        thetal = new_theta\n",
    "        Cost_Function(xValuesl,yValuesl,thetal,m)  \n",
    "    #evaluate model\n",
    "    scorel = 0\n",
    "    length = len(testXValues1)\n",
    "    for i in range(length):\n",
    "        predictionl = round(Prediction(testXValues1[i],thetal))\n",
    "        answerl = Y_test[i]\n",
    "        if predictionl == answerl:\n",
    "            scorel += 1\n",
    "    my_scorel = float(scorel) / float(length)\n",
    "    res = [my_scorel]\n",
    "    res.extend(thetal)\n",
    "    return res\n",
    "\n",
    "alphar = [0.0001, 0.0007,0.001, 0.007,0.01, 0.07,0.1,0.7 ]\n",
    "#Initialize the dataframe to store coefficients\n",
    "col = ['max_iteration']+ ['testing_score'] + ['coef_x_%d'%i for i in range(0,3)]\n",
    "ind = ['alpha_%.2g'%alphar[i] for i in range(0,8)]\n",
    "#ind = a+a+a\n",
    "coef_matrix_logis = pd.DataFrame(index=ind, columns=col)\n",
    "\n",
    "thetal = [0,0,0] #initial model parameters\n",
    "xValuesl = np.ones((len(Y_train) , 3)) #create array(60,3) of 1 \n",
    "xValuesl[:, 1:3] = X_train[:, 0:2] # split training and testing data set \n",
    "yValuesl = Y_train\n",
    "\n",
    "m = len(Y_train) # number of samples\n",
    "\n",
    "testXValues1 = np.ones((len(X_test), 3)) \n",
    "testXValues1[:, 1:3] = X_test[:, 0:2]\n",
    "max_iterationr = [500,1000,10000]\n",
    "total =  []\n",
    "for j in range (3):\n",
    "#Iterate through all powers and assimilate results\n",
    "    for i in range(8):\n",
    "        #print(logisticreg(xValuesl ,yValuesl,thetal,m,alphar[i],testXValues1,Y_test,max_iteration))\n",
    "        coef_matrix_logis.iloc[i,0] = max_iterationr[j]\n",
    "        coef_matrix_logis.iloc[i,1:] = logisticreg(xValuesl ,yValuesl,thetal,m,alphar[i],testXValues1,Y_test,max_iterationr[j])\n",
    "    print(coef_matrix_logis)\n"
   ]
  },
  {
   "cell_type": "markdown",
   "metadata": {},
   "source": [
    "### <center> 2.1 - My Self Developed best model without biased term"
   ]
  },
  {
   "cell_type": "code",
   "execution_count": 16,
   "metadata": {},
   "outputs": [
    {
     "name": "stdout",
     "output_type": "stream",
     "text": [
      "theta  [0.0004701492537313433, 0.0012316186794675264, 0.0009128755339505191]\n",
      "cost is  0.6927799856769551\n",
      "theta  [0.07823476128470279, 0.23262427788394754, 0.1746606609056328]\n",
      "cost is  0.6285517031961659\n",
      "theta  [0.13084505877234584, 0.4372129540578281, 0.332355619310598]\n",
      "cost is  0.5788554335203299\n",
      "theta of final model: [[0.15028503516452282, 0.5298583938680446, 0.4051706287839387]]\n",
      "cost: 0.5582733025767725\n"
     ]
    }
   ],
   "source": [
    "\n",
    "##############training and testing using self-developed model biased term (best model)#########\n",
    "\n",
    "thetab = [0,0,0] #initial model parameters\n",
    "alphab = 0.007  # learning rates\n",
    "max_iteration = 500 # maximal iterations\n",
    "\n",
    "xValuesb = np.ones((len(Y_train) , 3)) #create array(60,3) of 1 \n",
    "xValuesb[:, 1:3] = X_train[:, 0:2] # split training and testing data set \n",
    "yValuesb = Y_train\n",
    "\n",
    "m = len(Y_train) # number of samples\n",
    "total_c = []\n",
    "for x in range(max_iteration):\n",
    "    # call the functions for gradient descent method\n",
    "    new_theta = Gradient_Descent(xValuesb ,yValuesb,thetab,m,alphab)\n",
    "    thetab = new_theta\n",
    "    cost = Cost_Function(xValuesb,yValuesb,thetab,m)\n",
    "    total_c.append(cost)\n",
    "    if x % 200 == 0:\n",
    "        # calculate the cost function with the present theta\n",
    "        print('theta ', thetab)\n",
    "        print('cost is ', cost)\n",
    "reso = [thetab]\n",
    "print('theta of final model:',reso)\n",
    "print('cost:', cost)\n",
    "import matplotlib.pyplot as plt"
   ]
  },
  {
   "cell_type": "code",
   "execution_count": 17,
   "metadata": {},
   "outputs": [
    {
     "data": {
      "image/png": "[encoded data removed]",
      "text/plain": [
       "<Figure size 432x288 with 1 Axes>"
      ]
     },
     "metadata": {
      "needs_background": "light"
     },
     "output_type": "display_data"
    }
   ],
   "source": [
    "#visualize the convergence curve\n",
    "plt.plot(range(0,len(total_c)),total_c);\n",
    "plt.xlabel('iteration')\n",
    "plt.ylabel('cost')\n",
    "plt.title('alpha = {}  theta = {}'.format(alpha, thetab))\n",
    "plt.show()"
   ]
  },
  {
   "cell_type": "code",
   "execution_count": 18,
   "metadata": {},
   "outputs": [
    {
     "name": "stdout",
     "output_type": "stream",
     "text": [
      "[0.15028503516452282, 0.5298583938680446, 0.4051706287839387]\n",
      "Score of my best model with biased term :  0.9696969696969697\n",
      "AUC score 0.9876033057851239\n"
     ]
    }
   ],
   "source": [
    "# ROC, AUC\n",
    "from sklearn.metrics import roc_auc_score\n",
    "from sklearn.metrics import auc\n",
    "from sklearn.metrics import roc_curve\n",
    "pred1 = []\n",
    "pred1 = []\n",
    "Ytest1 = []\n",
    "thetaob = thetab  \n",
    "print(thetaob)\n",
    "length = len(X_test)\n",
    "scoreb = 0   \n",
    "\n",
    "# My best model\n",
    "testXValues1 = np.ones((len(X_test), 3)) \n",
    "testXValues1[:, 1:3] = X_test[:, 0:2]\n",
    "for i in range(length):\n",
    "\tpredictionb = round(Prediction(testXValues1[i],thetaob))\n",
    "\tanswerb = Y_test[i]\n",
    "\tif predictionb == answerb:\n",
    "\t\tscoreb += 1\n",
    "        \n",
    "my_scoreob = float(scoreb) / float(length)\n",
    "\n",
    "for i in range(length):\n",
    "    prop1 = Prediction(testXValues1[i],thetaob)\n",
    "    pred1.append(prop1)\n",
    "pred_prob2 = np.array(pred1)\n",
    "fpr2, tpr2, thresh2 = roc_curve(Y_test, pred_prob2, pos_label=1)\n",
    "print('Score of my best model with biased term : ', my_scoreob)\n",
    "print('AUC score', roc_auc_score(Y_test, pred_prob2))\n",
    "    "
   ]
  },
  {
   "cell_type": "code",
   "execution_count": 19,
   "metadata": {},
   "outputs": [
    {
     "data": {
      "image/png": "[encoded data removed]",
      "text/plain": [
       "<Figure size 432x288 with 1 Axes>"
      ]
     },
     "metadata": {
      "needs_background": "light"
     },
     "output_type": "display_data"
    }
   ],
   "source": [
    "# plot roc curves\n",
    "#plt.plot(fpr4, tpr4, linestyle='--',color='orange', label='Using Scikit-Learning')\n",
    "plt.plot(fpr2, tpr2, linestyle='--',color='purple', label='My own model')\n",
    "plt.plot(p_fpr, p_tpr, linestyle='--', color='blue')\n",
    "# title\n",
    "plt.title('ROC curve of My best model (Method-2) with biased-term')\n",
    "# x label\n",
    "plt.xlabel('False Positive Rate')\n",
    "# y label\n",
    "plt.ylabel('True Positive rate')\n",
    "\n",
    "#plt.legend(loc='best')\n",
    "#plt.savefig('ROC',dpi=300)\n",
    "plt.show()"
   ]
  },
  {
   "cell_type": "code",
   "execution_count": 20,
   "metadata": {},
   "outputs": [
    {
     "data": {
      "image/png": "[encoded data removed]",
      "text/plain": [
       "<Figure size 432x288 with 1 Axes>"
      ]
     },
     "metadata": {
      "needs_background": "light"
     },
     "output_type": "display_data"
    }
   ],
   "source": [
    "# Scikit learning\n",
    "\n",
    "pred_prob1 = clf.predict_proba(X_test)\n",
    "# roc curve for models\n",
    "fpr1, tpr1, thresh1 = roc_curve(Y_test, pred_prob1[:,1], pos_label=1)\n",
    "\n",
    "#plot roc curves\n",
    "plt.plot(fpr1, tpr1, linestyle='--',color='pink', label='Using Scikit-Learning')\n",
    "#plt.plot(fpr2, tpr2, linestyle='--',color='green', label='My own model')\n",
    "plt.plot(p_fpr, p_tpr, linestyle='--', color='blue')\n",
    "# title\n",
    "plt.title('ROC curve of Scikit learning model')\n",
    "# x label\n",
    "plt.xlabel('False Positive Rate')\n",
    "# y label\n",
    "plt.ylabel('True Positive rate')\n",
    "\n",
    "#plt.legend(loc='best')\n",
    "#plt.savefig('ROC',dpi=300)\n",
    "plt.show()"
   ]
  },
  {
   "cell_type": "code",
   "execution_count": 21,
   "metadata": {},
   "outputs": [
    {
     "data": {
      "text/plain": [
       "0.6666666666666666"
      ]
     },
     "execution_count": 21,
     "metadata": {},
     "output_type": "execute_result"
    }
   ],
   "source": [
    "Y_test.mean()"
   ]
  },
  {
   "cell_type": "code",
   "execution_count": 22,
   "metadata": {
    "scrolled": true
   },
   "outputs": [
    {
     "data": {
      "text/plain": [
       "0.5671641791044776"
      ]
     },
     "execution_count": 22,
     "metadata": {},
     "output_type": "execute_result"
    }
   ],
   "source": [
    "Y_train.mean()"
   ]
  }
 ],
 "metadata": {
  "kernelspec": {
   "display_name": "Python 3",
   "language": "python",
   "name": "python3"
  },
  "language_info": {
   "codemirror_mode": {
    "name": "ipython",
    "version": 3
   },
   "file_extension": ".py",
   "mimetype": "text/x-python",
   "name": "python",
   "nbconvert_exporter": "python",
   "pygments_lexer": "ipython3",
   "version": "3.8.3"
  }
 },
 "nbformat": 4,
 "nbformat_minor": 4
}
