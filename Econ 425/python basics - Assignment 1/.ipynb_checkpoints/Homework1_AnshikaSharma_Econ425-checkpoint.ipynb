{
 "cells": [
  {
   "cell_type": "markdown",
   "metadata": {},
   "source": [
    "## <center> Econ 425 - HomeAssignment-1\n",
    "## <center>  Anshika Sharma, UCLA ID(305488635)"
   ]
  },
  {
   "cell_type": "code",
   "execution_count": 1,
   "metadata": {},
   "outputs": [],
   "source": [
    "#importing the packages\n",
    "import matplotlib.pyplot as plt \n",
    "import pandas as pd \n",
    "import numpy as np \n",
    "import scipy.stats as st \n",
    "import os"
   ]
  },
  {
   "cell_type": "markdown",
   "metadata": {},
   "source": [
    "**Q1. Write a Python function that takes a positive integer N and returns the factorial of N, i.e., N! The factorial of N, denoted N!, is the product of the integers from 1 to N. (1 Point)**\n"
   ]
  },
  {
   "cell_type": "code",
   "execution_count": 2,
   "metadata": {},
   "outputs": [
    {
     "name": "stdout",
     "output_type": "stream",
     "text": [
      "Input a number to compute the factiorial : 5\n",
      "Factorial of 5 is 120\n"
     ]
    }
   ],
   "source": [
    "# Function to find factorial of given number \n",
    "def factorial(n): \n",
    "    if n < 0:\n",
    "        return (\"Not Defined\")\n",
    "    elif n ==0 :\n",
    "        return 1\n",
    "    else:\n",
    "        x = 1    \n",
    "        for i in range(2, n+1): \n",
    "            x *= i \n",
    "        return x \n",
    "  \n",
    "# Checking the results \n",
    "num = int(input(\"Input a number to compute the factiorial : \"))\n",
    "print(\"Factorial of\", num, \"is\", factorial(num)) \n"
   ]
  },
  {
   "cell_type": "markdown",
   "metadata": {},
   "source": [
    "<br>"
   ]
  },
  {
   "cell_type": "markdown",
   "metadata": {},
   "source": [
    "<br>"
   ]
  },
  {
   "cell_type": "markdown",
   "metadata": {},
   "source": [
    "<br>"
   ]
  },
  {
   "cell_type": "markdown",
   "metadata": {},
   "source": [
    "<br>"
   ]
  },
  {
   "cell_type": "markdown",
   "metadata": {},
   "source": [
    "**Q2. Write a short Python function that takes a sequence of integer values and determines if there is a distinct pair of numbers in the sequence whose product is odd.** "
   ]
  },
  {
   "cell_type": "code",
   "execution_count": 3,
   "metadata": {},
   "outputs": [
    {
     "name": "stdout",
     "output_type": "stream",
     "text": [
      "False\n",
      "True\n",
      "False\n"
     ]
    }
   ],
   "source": [
    "# Defining the python function, \"prod\"\n",
    "def prod(lst):\n",
    "    for i in range(len(lst)):\n",
    "        for j in range(len(lst)):\n",
    "            if i != j:\n",
    "                prod = lst[i] * lst[j]\n",
    "                if prod & 1: #product is odd\n",
    "                    return True\n",
    "                else:\n",
    "                    return False\n",
    "\n",
    "# Checking the results                \n",
    "print(prod([2,4,5]))\n",
    "print(prod([1,3,4]))\n",
    "print(prod([2,4]))"
   ]
  },
  {
   "cell_type": "markdown",
   "metadata": {},
   "source": [
    "**Q3. Write a python function that takes an integer (e.g., 342, -123) and returns its reverse digit (i.e., 243, -321).**  "
   ]
  },
  {
   "cell_type": "code",
   "execution_count": 4,
   "metadata": {},
   "outputs": [
    {
     "name": "stdout",
     "output_type": "stream",
     "text": [
      "The Reverse digit is 243\n",
      "The Reverse digit is -321\n"
     ]
    }
   ],
   "source": [
    "# Function that takes an integer and returns its reverse digit \n",
    "def reverse(x):\n",
    "    sign = -1 if x < 0 else 1 #convert negative value to postive one and use the following logic to make a reverse\n",
    "    x *= sign\n",
    "    rev = 0 \n",
    "    while (x>0) :\n",
    "        remainder = x % 10  #find the remainder from dividing x by 10\n",
    "        rev = (rev * 10) + remainder  #add the remainder to rev*10\n",
    "        x = x // 10\n",
    "    result = rev * sign  #backtranform to the positive or negative value\n",
    "    print(\"The Reverse digit is\", result)\n",
    "\n",
    "    \n",
    "# Print to determine if function worked\n",
    "reverse(342)\n",
    "reverse(-123)"
   ]
  },
  {
   "cell_type": "markdown",
   "metadata": {},
   "source": [
    "<br>"
   ]
  },
  {
   "cell_type": "markdown",
   "metadata": {},
   "source": [
    "**Q4. Write a Python function that takes a string s, representing a sentence,and returns a copy of the string with all comma removed.**\n"
   ]
  },
  {
   "cell_type": "code",
   "execution_count": 5,
   "metadata": {},
   "outputs": [
    {
     "name": "stdout",
     "output_type": "stream",
     "text": [
      "With commas: Sit down, Please\n",
      "Without commas: Sit down Please\n",
      "Hello Python, I don't really know you well\n",
      "Hello Python I don't really know you well\n"
     ]
    }
   ],
   "source": [
    "######\n",
    "def removeCommas(s):\n",
    "   outStr = \"\"\n",
    "   for char in s:       #for each char in s\n",
    "       if char != \",\": # if char is not comma add to outStr\n",
    "           outStr = outStr + char\n",
    "   return outStr\n",
    "\n",
    "\n",
    "# Test\n",
    "s = \"Sit down, Please\"\n",
    "print(\"With commas:\", s)\n",
    "print(\"Without commas:\", removeCommas(s))\n",
    "\n",
    "s = \"Hello Python, I don't really know you well\"\n",
    "print(s)\n",
    "print(removeCommas(s))\n"
   ]
  },
  {
   "cell_type": "markdown",
   "metadata": {},
   "source": [
    "<br>"
   ]
  },
  {
   "cell_type": "markdown",
   "metadata": {},
   "source": [
    "<br>"
   ]
  },
  {
   "cell_type": "markdown",
   "metadata": {},
   "source": [
    "<br>"
   ]
  },
  {
   "cell_type": "markdown",
   "metadata": {},
   "source": [
    "<br>"
   ]
  },
  {
   "cell_type": "markdown",
   "metadata": {},
   "source": [
    "<br>"
   ]
  },
  {
   "cell_type": "markdown",
   "metadata": {},
   "source": [
    "<br>"
   ]
  },
  {
   "cell_type": "markdown",
   "metadata": {},
   "source": [
    "**Q5. Given a string s containing just the characters '(', ')', '{', '}', '[' and ']', write a Python function determine if the input string is valid.**"
   ]
  },
  {
   "cell_type": "code",
   "execution_count": 6,
   "metadata": {},
   "outputs": [
    {
     "name": "stdout",
     "output_type": "stream",
     "text": [
      "s =  ()\n",
      "True\n",
      "s =  ({})\n",
      "True\n",
      "s =  (}\n",
      "False\n",
      "s =  ([{})]\n",
      "False\n",
      "s =  )\n",
      "False\n"
     ]
    }
   ],
   "source": [
    "#####\n",
    "def checkBrackets(s):\n",
    "   print(\"s = \", s)\n",
    "   brackets = []\n",
    "   for char in s:\n",
    "       if char in ['[', '{', '(']:       #if char is opening bracket, add to list brackets\n",
    "           brackets.append(char)\n",
    "      \n",
    "       if len(brackets) == 0:           #if brackets is empty and char is closed bracket\n",
    "           return False\n",
    "\n",
    "       if char == ']' and brackets.pop() != '[': #opening and closing bracker should match\n",
    "           return False\n",
    "\n",
    "       if char == ')' and brackets.pop() != '(':\n",
    "           return False\n",
    "\n",
    "       if char == '}' and brackets.pop() != '{':\n",
    "           return False\n",
    "\n",
    "   if len(brackets) == 0:\n",
    "       return True\n",
    "   else:\n",
    "       return False\n",
    "\n",
    "#Test\n",
    "s = \"()\"\n",
    "print(checkBrackets(s))\n",
    "\n",
    "s = \"({\" + \"})\"\n",
    "print(checkBrackets(s))\n",
    "\n",
    "s = \"(}\"\n",
    "print(checkBrackets(s))\n",
    "\n",
    "s = \"([{\" + \"})]\"\n",
    "print(checkBrackets(s))\n",
    "\n",
    "s = \")\"\n",
    "print(checkBrackets(s))"
   ]
  },
  {
   "cell_type": "markdown",
   "metadata": {},
   "source": [
    "**Q6. Write a Python function that merges two sorted lists and return a new sorted list. Both the input lists and output lists should be sorted. You might use the Python list as the data structure**"
   ]
  },
  {
   "cell_type": "code",
   "execution_count": 7,
   "metadata": {},
   "outputs": [
    {
     "name": "stdout",
     "output_type": "stream",
     "text": [
      "[1, 1, 2, 3, 4, 6, 8]\n"
     ]
    }
   ],
   "source": [
    "#####\n",
    "def merge(lst1, lst2):\n",
    "   ind1 = 0   #index to list1\n",
    "   ind2 = 0   #index to list2\n",
    "   outList = []   #output list\n",
    "  \n",
    "   while ind1 < len(lst1) and ind2 < len(lst2): #loop until both lists have elements\n",
    "       if lst1[ind1] < lst2[ind2]:    #if element in list1 is smaller\n",
    "           outList.append(lst1[ind1])   #add it to output list\n",
    "           ind1 = ind1 + 1\n",
    "\n",
    "       else:\n",
    "           outList.append(lst2[ind2])   #if element in list2 is smaller\n",
    "           ind2 = ind2 + 1              \n",
    "\n",
    "   outList = outList + lst1[ind1:] + lst2[ind2:]\n",
    "   return outList\n",
    "\n",
    "\n",
    "#Test\n",
    "print(merge([1,3,4], [1,2,6,8]))"
   ]
  },
  {
   "cell_type": "markdown",
   "metadata": {},
   "source": [
    "**Q7. Please select a proper range for the variable x, and write a python function to visualize the following functions:\n",
    "      <br />\n",
    "     -Straight line y=θ_0+θ_1 x where θ_0=30,θ_1=0.5  \n",
    "\t -Quadratic function: y=(x-θ_1 )^2+θ_0,where θ_1=25,θ_0=20 <br />\n",
    "\t -Log function, y=-log⁡(x) and y=-log⁡(1-x) <br />\n",
    "\t -Sigmoid function, y=1/(1+e^(-x)) <br />\n",
    "Note that you should select a set of proper values for x, calculate the corresponding y values and plot (x,y) pairs.**  \n"
   ]
  },
  {
   "cell_type": "code",
   "execution_count": 8,
   "metadata": {},
   "outputs": [
    {
     "data": {
      "image/png": "[encoded data removed]",
      "text/plain": [
       "<Figure size 432x288 with 1 Axes>"
      ]
     },
     "metadata": {
      "needs_background": "light"
     },
     "output_type": "display_data"
    }
   ],
   "source": [
    "import numpy as np\n",
    "import matplotlib.pyplot as plt\n",
    "\n",
    "# Straight line y=θ_0+θ_1 x where θ_0=30,θ_1=0.5\n",
    "ax = plt.subplot(111)\n",
    "x = np.arange(0,15)\n",
    "theta0 = 30\n",
    "theta1 = 0.5\n",
    "plt.plot(x,theta0+theta1*x,linestyle='-')\n",
    "plt.xlabel(\"x\")\n",
    "plt.ylabel(\"y\")\n",
    "plt.title(\"Linear Function\")\n",
    "plt.show()"
   ]
  },
  {
   "cell_type": "code",
   "execution_count": 9,
   "metadata": {},
   "outputs": [
    {
     "data": {
      "image/png": "[encoded data removed]",
      "text/plain": [
       "<Figure size 432x288 with 1 Axes>"
      ]
     },
     "metadata": {
      "needs_background": "light"
     },
     "output_type": "display_data"
    }
   ],
   "source": [
    "# Quadratic function: y=(x-θ_1 )^2+θ_0,where θ_1=25,θ_0=20\n",
    "ax = plt.subplot(111)\n",
    "x = np.arange(-100,155)\n",
    "theta0 = 20\n",
    "theta1 = 25\n",
    "y = ((x-theta1)**2)+theta0\n",
    "plt.plot(x,y,linestyle='-')\n",
    "plt.xlabel(\"x\")\n",
    "plt.ylabel(\"y\")\n",
    "plt.title(\"Quadratic Function\")\n",
    "plt.show()"
   ]
  },
  {
   "cell_type": "code",
   "execution_count": 10,
   "metadata": {},
   "outputs": [
    {
     "data": {
      "image/png": "[encoded data removed]",
      "text/plain": [
       "<Figure size 432x288 with 1 Axes>"
      ]
     },
     "metadata": {
      "needs_background": "light"
     },
     "output_type": "display_data"
    }
   ],
   "source": [
    "# Log function, y=-log⁡(x) \n",
    "ax = plt.subplot(111)\n",
    "x = np.arange(1,50)\n",
    "y = -np.log(x)\n",
    "plt.plot(x,y,linestyle='-')\n",
    "plt.xlabel(\"x\")\n",
    "plt.ylabel(\"y\")\n",
    "plt.title(\" y=-log⁡(x) Function\")\n",
    "plt.show()\n"
   ]
  },
  {
   "cell_type": "code",
   "execution_count": 11,
   "metadata": {},
   "outputs": [
    {
     "data": {
      "image/png": "[encoded data removed]",
      "text/plain": [
       "<Figure size 432x288 with 1 Axes>"
      ]
     },
     "metadata": {
      "needs_background": "light"
     },
     "output_type": "display_data"
    }
   ],
   "source": [
    "# Log function, y=-log⁡(1-x)\n",
    "ax = plt.subplot(111)\n",
    "x = np.arange(-50,1)\n",
    "y = -np.log(1-x)\n",
    "plt.plot(x,y,linestyle='-')\n",
    "plt.xlabel(\"x\")\n",
    "plt.ylabel(\"y\")\n",
    "plt.title(\"y=-log⁡(1-x) Function\")\n",
    "plt.show()"
   ]
  },
  {
   "cell_type": "code",
   "execution_count": 12,
   "metadata": {},
   "outputs": [
    {
     "data": {
      "image/png": "[encoded data removed]",
      "text/plain": [
       "<Figure size 432x288 with 1 Axes>"
      ]
     },
     "metadata": {
      "needs_background": "light"
     },
     "output_type": "display_data"
    }
   ],
   "source": [
    "# Sigmoid function, y=1/(1+e^(-x))\n",
    "ax = plt.subplot(111)\n",
    "x = np.arange(-50,50)\n",
    "y = 1/(1+np.exp(-x))\n",
    "plt.plot(x,y,linestyle='-')\n",
    "plt.xlabel(\"x\")\n",
    "plt.ylabel(\"y\")\n",
    "plt.title(\"Sigmod Function\")\n",
    "plt.show()\n"
   ]
  }
 ],
 "metadata": {
  "kernelspec": {
   "display_name": "Python 3",
   "language": "python",
   "name": "python3"
  },
  "language_info": {
   "codemirror_mode": {
    "name": "ipython",
    "version": 3
   },
   "file_extension": ".py",
   "mimetype": "text/x-python",
   "name": "python",
   "nbconvert_exporter": "python",
   "pygments_lexer": "ipython3",
   "version": "3.8.3"
  }
 },
 "nbformat": 4,
 "nbformat_minor": 4
}
